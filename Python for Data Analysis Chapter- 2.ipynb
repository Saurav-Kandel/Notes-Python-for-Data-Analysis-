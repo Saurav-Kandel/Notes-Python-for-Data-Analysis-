{
 "cells": [
  {
   "cell_type": "markdown",
   "id": "8906e88e",
   "metadata": {},
   "source": [
    "# Notes for Chapter 2"
   ]
  },
  {
   "cell_type": "markdown",
   "id": "d43efde7",
   "metadata": {},
   "source": [
    "# Python Language Basics, IPython, and Jupyter Notebooks"
   ]
  },
  {
   "cell_type": "markdown",
   "id": "e8a44f3c",
   "metadata": {},
   "source": [
    "***"
   ]
  },
  {
   "cell_type": "markdown",
   "id": "c51b3bcd",
   "metadata": {},
   "source": [
    "## 1. Python Interpreter"
   ]
  },
  {
   "cell_type": "code",
   "execution_count": 1,
   "id": "9602be6a",
   "metadata": {},
   "outputs": [
    {
     "name": "stdout",
     "output_type": "stream",
     "text": [
      "Hello World\n"
     ]
    }
   ],
   "source": [
    "print ('Hello World')"
   ]
  },
  {
   "cell_type": "markdown",
   "id": "86166ab9",
   "metadata": {},
   "source": [
    "Python is an interpreted Language. It runs a python statement one at a time unlike compiler. The python interpreter can be put forth by using <span style=\"font-family:verdana\"><span style=\"color:blue\">python</span></span> command in the command line."
   ]
  },
  {
   "cell_type": "markdown",
   "id": "4496cc64",
   "metadata": {},
   "source": [
    "***"
   ]
  },
  {
   "cell_type": "markdown",
   "id": "0b9ee4c7",
   "metadata": {},
   "source": [
    "## 2. Ipython Basics"
   ]
  },
  {
   "cell_type": "markdown",
   "id": "ed80f656",
   "metadata": {},
   "source": [
    "#### Ipython and jupyter notebook"
   ]
  },
  {
   "cell_type": "markdown",
   "id": "82d6dc90",
   "metadata": {},
   "source": [
    "Ipython and Jupyter notebook is very similar where Ipython is an command line based more interactive way of programmning which is close to the python terminal itself. Jupyter notebook is more Graphic based but similar to command line takes and iterative approach for coding. Further, Jupyter notebook provides the feature of markdown to create rich documents with code and text. hence, having the similar roots Ipython and Jupyter notebook have similar features and usage to some extinct."
   ]
  },
  {
   "cell_type": "markdown",
   "id": "e7007789",
   "metadata": {},
   "source": [
    "### 2.1 Running the IPython Shell"
   ]
  },
  {
   "cell_type": "markdown",
   "id": "de9b929a",
   "metadata": {},
   "source": [
    "Similar to python interpreter; the Ipython shell can be invoked by <span style=\"font-family:verdana\"><span style=\"color:blue\">ipython</span></span> command in the command line."
   ]
  },
  {
   "cell_type": "raw",
   "id": "711b9fb9",
   "metadata": {},
   "source": [
    "(base) C:\\Users\\tojoi>Ipython\n",
    "Python 3.8.8 (default, Apr 13 2021, 15:08:03) [MSC v.1916 64 bit (AMD64)]\n",
    "<br>Type 'copyright', 'credits' or 'license' for more information\n",
    "<br>IPython 7.22.0 -- An enhanced Interactive Python. Type '?' for help.\n",
    "\n",
    "In [1]: print(\"Hello World\")\n",
    "<br>Hello World\n",
    "\n",
    "In [2]: a = 5\n",
    "\n",
    "In [3]: a\n",
    "Out[3]: 5"
   ]
  },
  {
   "cell_type": "markdown",
   "id": "6cc5c16f",
   "metadata": {},
   "source": [
    "##### Here, in the Ipython shell the line marked as In is where the code is input and the Out line shows output returns."
   ]
  },
  {
   "cell_type": "markdown",
   "id": "1b0e496a",
   "metadata": {},
   "source": [
    "***"
   ]
  },
  {
   "cell_type": "markdown",
   "id": "d74a73e3",
   "metadata": {},
   "source": [
    "###  2.2 Running the Jupyter notebook"
   ]
  },
  {
   "cell_type": "markdown",
   "id": "5c5945b9",
   "metadata": {},
   "source": [
    "Jupyter notebook can be accessed through command line by entering <span style=\"font-family:verdana\"><span style=\"color:blue\">jupyter notebook</span></span>. And also with anaconda navigator using GUI which will open the jupyter notebook directly into the default browser."
   ]
  },
  {
   "cell_type": "raw",
   "id": "a9a45519",
   "metadata": {},
   "source": [
    "(base) PS C:\\Users\\tojoi> jupyter notebook\n",
    "[I 12:28:41.044 NotebookApp] Serving notebooks from local directory: C:\\Users\\tojoi\n",
    "[I 12:28:41.046 NotebookApp] Jupyter Notebook 6.3.0 is running at:\n",
    "[I 12:28:41.046 NotebookApp] http://localhost:8890/?token=f2926005761de8f87a97a3f1de1c318ed19a66d157febf59\n",
    "[I 12:28:41.046 NotebookApp]  or http://127.0.0.1:8890/?token=f2926005761de8f87a97a3f1de1c318ed19a66d157febf59\n",
    "[I 12:28:41.046 NotebookApp] Use Control-C to stop this server and shut down all kernels (twice to skip confirmation).\n",
    "[C 12:28:41.141 NotebookApp]"
   ]
  },
  {
   "cell_type": "markdown",
   "id": "b02b82be",
   "metadata": {},
   "source": [
    "### 2.3 Tab Completion"
   ]
  },
  {
   "cell_type": "markdown",
   "id": "51171066",
   "metadata": {},
   "source": [
    "Tab Completion is a feature enables by pressing Tab key and it will search the namespace for any variables (objects, functions, etc.) matching the characters typed so far. It can also complete methods and attributes on any objects after typing a period. The same goes for modules: "
   ]
  },
  {
   "cell_type": "markdown",
   "id": "599f1b65",
   "metadata": {},
   "source": [
    "#### Tab completion on modules\n"
   ]
  },
  {
   "attachments": {
    "tab%20completion%20modules.png": {
     "image/png": "[encoded data removed]"
    }
   },
   "cell_type": "markdown",
   "id": "6c6083f9",
   "metadata": {},
   "source": [
    "![tab%20completion%20modules.png](attachment:tab%20completion%20modules.png)"
   ]
  },
  {
   "cell_type": "markdown",
   "id": "7f3ec977",
   "metadata": {},
   "source": [
    "#### Table completion on variables"
   ]
  },
  {
   "attachments": {
    "tab%20completion%20variable.png": {
     "image/png": "[encoded data removed]"
    }
   },
   "cell_type": "markdown",
   "id": "0bb381de",
   "metadata": {},
   "source": [
    "![tab%20completion%20variable.png](attachment:tab%20completion%20variable.png)"
   ]
  },
  {
   "cell_type": "markdown",
   "id": "ccf72b86",
   "metadata": {},
   "source": [
    "### 2.4 Introspection"
   ]
  },
  {
   "cell_type": "markdown",
   "id": "4cd2ddf9",
   "metadata": {},
   "source": [
    "Introspection or object introspection is to use a question mark (?) before or after a variable which will display some general information about the object."
   ]
  },
  {
   "cell_type": "code",
   "execution_count": 3,
   "id": "d0110b0e",
   "metadata": {},
   "outputs": [],
   "source": [
    "games = ['football', 'basketball', 'volleyball']"
   ]
  },
  {
   "cell_type": "code",
   "execution_count": 5,
   "id": "a23ea1ee",
   "metadata": {},
   "outputs": [],
   "source": [
    "games?"
   ]
  },
  {
   "cell_type": "raw",
   "id": "8f9fcc4b",
   "metadata": {},
   "source": [
    "Type:        list\n",
    "String form: ['football', 'basketball', 'volleyball']\n",
    "Length:      3\n",
    "Docstring:  \n",
    "Built-in mutable sequence.\n",
    "\n",
    "If no argument is given, the constructor creates a new empty list.\n",
    "The argument must be an iterable if specified."
   ]
  },
  {
   "cell_type": "code",
   "execution_count": 8,
   "id": "e14b66c3",
   "metadata": {},
   "outputs": [],
   "source": [
    "?print"
   ]
  },
  {
   "cell_type": "raw",
   "id": "f8cd0cd0",
   "metadata": {},
   "source": [
    "Docstring:\n",
    "print(value, ..., sep=' ', end='\\n', file=sys.stdout, flush=False)\n",
    "\n",
    "Prints the values to a stream, or to sys.stdout by default.\n",
    "Optional keyword arguments:\n",
    "file:  a file-like object (stream); defaults to the current sys.stdout.\n",
    "sep:   string inserted between values, default a space.\n",
    "end:   string appended after the last value, default a newline.\n",
    "flush: whether to forcibly flush the stream.\n",
    "Type:      builtin_function_or_method"
   ]
  },
  {
   "cell_type": "markdown",
   "id": "44033709",
   "metadata": {},
   "source": [
    "#### Use of doube ?? shows the source code of the function specified if possible:"
   ]
  },
  {
   "cell_type": "code",
   "execution_count": 11,
   "id": "9836170a",
   "metadata": {},
   "outputs": [],
   "source": [
    "# a simple function to add two numbers\n",
    "\n",
    "def sum_numbers(a, b):\n",
    "    return a + b"
   ]
  },
  {
   "cell_type": "code",
   "execution_count": 12,
   "id": "faa634d2",
   "metadata": {},
   "outputs": [],
   "source": [
    "sum_numbers??"
   ]
  },
  {
   "cell_type": "raw",
   "id": "785d093b",
   "metadata": {},
   "source": [
    "Signature: sum_numbers(a, b)\n",
    "Docstring: <no docstring>\n",
    "Source:   \n",
    "def sum_numbers(a, b):\n",
    "    return a + b\n",
    "File:      c:\\users\\tojoi\\<ipython-input-11-6975071b438b>\n",
    "Type:      function"
   ]
  },
  {
   "cell_type": "markdown",
   "id": "650630fd",
   "metadata": {},
   "source": [
    "##### ? can also be used to search namespace in a similar manner as of windows or Unix command line. A number of characters combined with wildcard (*) will show all names matching the wildcard expression."
   ]
  },
  {
   "cell_type": "code",
   "execution_count": 19,
   "id": "32c9d62c",
   "metadata": {},
   "outputs": [],
   "source": [
    "import numpy as np"
   ]
  },
  {
   "cell_type": "code",
   "execution_count": 20,
   "id": "f3ffda2b",
   "metadata": {},
   "outputs": [],
   "source": [
    "np.*load*?"
   ]
  },
  {
   "cell_type": "raw",
   "id": "b6a19b26",
   "metadata": {},
   "source": [
    "np.__loader__\n",
    "np.load\n",
    "np.loads\n",
    "np.loadtxt"
   ]
  },
  {
   "cell_type": "markdown",
   "id": "6c8d747c",
   "metadata": {},
   "source": [
    "### 2.5 %run Command"
   ]
  },
  {
   "cell_type": "markdown",
   "id": "a3af6346",
   "metadata": {},
   "source": [
    "% run command is used in environment of IPython to run any file as a python program. Its main use is that, after running a script; all of the variables defined in the file will be then accessible to current program or file."
   ]
  },
  {
   "cell_type": "markdown",
   "id": "02163443",
   "metadata": {},
   "source": [
    "##### Creating a file Hangman.py with simple function."
   ]
  },
  {
   "cell_type": "raw",
   "id": "81ea276c",
   "metadata": {},
   "source": [
    "def problem_solver(x, y, z):\n",
    "    return (x+y) / z\n",
    "a = 6\n",
    "b = 6\n",
    "c = 2\n",
    "\n",
    "result = problem_solver(a, b, c)"
   ]
  },
  {
   "cell_type": "markdown",
   "id": "19226dec",
   "metadata": {},
   "source": [
    "##### running Ipython from the parent directory of Hangman.py file"
   ]
  },
  {
   "cell_type": "raw",
   "id": "0099b8ca",
   "metadata": {},
   "source": [
    "In [1]: %run Hangman.py\n",
    "\n",
    "In [2]: b\n",
    "Out[2]: 6\n",
    "\n",
    "In [3]: a\n",
    "Out[3]: 6\n",
    "\n",
    "In [4]: result\n",
    "Out[4]: 6.0"
   ]
  },
  {
   "cell_type": "markdown",
   "id": "a8667eb4",
   "metadata": {},
   "source": [
    "***"
   ]
  },
  {
   "cell_type": "markdown",
   "id": "4ace142c",
   "metadata": {},
   "source": [
    "##### In jupyter notebook, %load magic function can be used to import a script into a code cell:"
   ]
  },
  {
   "cell_type": "raw",
   "id": "37aeda02",
   "metadata": {},
   "source": [
    "%load Hangman.py\n",
    "\n",
    "def problem_solver(x, y, z):\n",
    "    return (x+y) / z\n",
    "a = 6\n",
    "b = 6\n",
    "c = 2\n",
    "\n",
    "result = problem_solver(a, b, c)"
   ]
  },
  {
   "cell_type": "markdown",
   "id": "900074a6",
   "metadata": {},
   "source": [
    "#### Interrupting Running code"
   ]
  },
  {
   "cell_type": "markdown",
   "id": "f7af9969",
   "metadata": {},
   "source": [
    "During the execution of any python program, if Ctrl - c is pressed; it will cause KeyboardInterrupt to be raised. This will cause nearly all python programs to stop immediately except in certain unusual cases."
   ]
  },
  {
   "cell_type": "markdown",
   "id": "a3c54ed2",
   "metadata": {},
   "source": [
    "<span style=\"color:red\">Note: </span>When a piece of Python code has called into some compiled exten‐\n",
    "sion modules, pressing Ctrl-C will not always cause the program\n",
    "execution to stop immediately. In such cases, you will have to\n",
    "either wait until control is returned to the Python interpreter, or in\n",
    "more dire circumstances, forcibly terminate the Python process."
   ]
  },
  {
   "cell_type": "markdown",
   "id": "76b7202e",
   "metadata": {},
   "source": [
    "### 2.6 Executing Code from the clipboard"
   ]
  },
  {
   "cell_type": "markdown",
   "id": "1332c5ab",
   "metadata": {},
   "source": [
    "Jupyter notebook has the flexibilty to copy any block of code in a cell and execute it. but, Ipython is CLI based terminal so __%paste__ and __%cpaste__ magic functions are used in Ipython. __% paste__ command allows to paste whatever is in clipboard directly to the terminal's line whose example is shown below:"
   ]
  },
  {
   "cell_type": "raw",
   "id": "b9395891",
   "metadata": {},
   "source": [
    "In [4]: %paste\n",
    "def f(x, y, z):\n",
    " return (x + y) / z\n",
    "a = 5\n",
    "b = 6\n",
    "c = 7.5\n",
    "result = f(a, b, c)\n",
    "\n",
    "## -- End pasted text --"
   ]
  },
  {
   "cell_type": "markdown",
   "id": "4303bcea",
   "metadata": {},
   "source": [
    "***"
   ]
  },
  {
   "cell_type": "markdown",
   "id": "d5f919d6",
   "metadata": {},
   "source": [
    "__%cpaste__ is more pratical as it gives a special prompt for pasting code into:"
   ]
  },
  {
   "cell_type": "raw",
   "id": "c8d4559e",
   "metadata": {},
   "source": [
    "In [7]: %cpaste\n",
    "Pasting code; enter '--' alone on the line to stop or use Ctrl-D.\n",
    ":def add_numbers(a, b):\n",
    ": \"\"\"\n",
    ": Add two numbers together\n",
    ": Returns\n",
    ": -------\n",
    ": the_sum : type of arguments\n",
    ": \"\"\"\n",
    ": return a + b\n",
    ":--"
   ]
  },
  {
   "cell_type": "markdown",
   "id": "a296db73",
   "metadata": {},
   "source": [
    "***"
   ]
  },
  {
   "cell_type": "markdown",
   "id": "6c9fcad9",
   "metadata": {},
   "source": [
    "### 2.7 Terminal Keyboard Shortcuts"
   ]
  },
  {
   "cell_type": "markdown",
   "id": "aca06f97",
   "metadata": {},
   "source": [
    "In Ipython, there are many keyboard shortcuts to make it more productive and easy to use. The commonly used shortcuts are listed below:\n",
    " <br>  \n",
    "<br>__Keyboard shortcut Description : -__\n",
    "<br>\n",
    "<br>__Ctrl-P or up-arrow__ -------->Search backward in command history for commands starting with currently entered text\n",
    "<br>__Ctrl-N or down-arrow__ ---->Search forward in command history for commands starting with currently entered text\n",
    "<br>__Ctrl-R__ ------------------------>Readline-style reverse history search (partial matching)\n",
    "<br>__Ctrl-Shift-V__ ----------------->Paste text from clipboard\n",
    "<br>__Ctrl-C__ ------------------------>Interrupt currently executing code\n",
    "<br>__Ctrl-A__ ------------------------>Move cursor to beginning of line\n",
    "<br>__Ctrl-E__ ------------------------>Move cursor to end of line\n",
    "<br>__Ctrl-K__ ------------------------>Delete text from cursor until end of line\n",
    "<br>__Ctrl-U__ ------------------------>Discard all text on current line\n",
    "<br>__Ctrl-F__ ------------------------>Move cursor forward one character\n",
    "<br>__Ctrl-B__ ------------------------>Move cursor back one character\n",
    "<br>__Ctrl-L__ ------------------------>Clear screen"
   ]
  },
  {
   "cell_type": "markdown",
   "id": "cac55a31",
   "metadata": {},
   "source": [
    "<span style=\"color:red\">Note: </span> Unlike from Ipython, jupyter notebook has different set of keyboard shortcut that can be viewed from help button \"Keyboard Shortcuts\" in the menu bar."
   ]
  },
  {
   "cell_type": "markdown",
   "id": "b77803a8",
   "metadata": {},
   "source": [
    "***"
   ]
  },
  {
   "cell_type": "markdown",
   "id": "68760b5d",
   "metadata": {},
   "source": [
    "### Magic commands"
   ]
  },
  {
   "cell_type": "markdown",
   "id": "0183b3b7",
   "metadata": {},
   "source": [
    "<span style=\"font-size:16px\"> <span style=\"font-family:arial\">\n",
    "<br>\n",
    "Magic Commands are the special command that makes common tasks and ecosystem of use of IPython much effiecient. magic commands are not built into python programming language. A magic command is any command prefixed by the percent symbol %. some of the magic commands used above were %run, %paste, %cpaste.\n",
    "<br><br>\n",
    "Furthermore, magic commands can be used without % sign in the prefix as long as the magic command to be used in the context does not match with any variable in that particular program. This feature is called automagic and can be toggled off or on using %automagic command.\n",
    "</span></span>"
   ]
  },
  {
   "cell_type": "raw",
   "id": "e5251604",
   "metadata": {},
   "source": [
    "In [8]: %pwd\n",
    "Out[8]: 'C:\\\\Users\\\\tojoi'"
   ]
  },
  {
   "cell_type": "markdown",
   "id": "257763fd",
   "metadata": {},
   "source": [
    "### Matplotlib Integration"
   ]
  },
  {
   "cell_type": "markdown",
   "id": "cbeda5f1",
   "metadata": {},
   "source": [
    "Matplotlib is a popular Python library for data visualizations and producing plots"
   ]
  },
  {
   "cell_type": "markdown",
   "id": "ce93bccc",
   "metadata": {},
   "source": [
    "#### To be discussed....."
   ]
  },
  {
   "cell_type": "markdown",
   "id": "e6aaa6d6",
   "metadata": {},
   "source": [
    "***"
   ]
  },
  {
   "cell_type": "markdown",
   "id": "4d58a815",
   "metadata": {},
   "source": [
    "***"
   ]
  },
  {
   "cell_type": "markdown",
   "id": "15811b00",
   "metadata": {},
   "source": [
    "## 3. Python Language Basics"
   ]
  },
  {
   "cell_type": "markdown",
   "id": "9dc74576",
   "metadata": {},
   "source": [
    "### 3.1 Language Semantics"
   ]
  },
  {
   "cell_type": "markdown",
   "id": "83048a3b",
   "metadata": {},
   "source": [
    "***"
   ]
  },
  {
   "cell_type": "markdown",
   "id": "d9ddeebe",
   "metadata": {},
   "source": [
    " __<span style=\"font-size:16px\">Indentation, not braces</span>__"
   ]
  },
  {
   "cell_type": "markdown",
   "id": "ff03a7d7",
   "metadata": {},
   "source": [
    "The python language apart from almost every other programming language does not uses braces instead uses whitespace (tabs or spaces) to structure the code."
   ]
  },
  {
   "cell_type": "markdown",
   "id": "0c53b7b9",
   "metadata": {},
   "source": [
    "for example:"
   ]
  },
  {
   "cell_type": "raw",
   "id": "712a832d",
   "metadata": {},
   "source": [
    "array = []\n",
    "for x in array:\n",
    " if x < pivot:\n",
    "     less.append(x)\n",
    " else:\n",
    "     greater.append(x)"
   ]
  },
  {
   "cell_type": "markdown",
   "id": "4ca3a957",
   "metadata": {},
   "source": [
    "A colon in the 2nd line denotes the start of the indentation. all the code wished to be kept in that certain block must be indented by the equal amount until the end of the block."
   ]
  },
  {
   "cell_type": "markdown",
   "id": "8b071520",
   "metadata": {},
   "source": [
    "Furthermore, python does not need semicolon to end the statement like other programming languages. Semicolons can be used, however to separate multiple statements on a single line:"
   ]
  },
  {
   "cell_type": "raw",
   "id": "9651f3de",
   "metadata": {},
   "source": [
    "a = 5; b = 6; c = 7\n",
    "\n",
    "#this is not a standard good pratice as a python programmer to keep multiple statement of code in single line."
   ]
  },
  {
   "cell_type": "markdown",
   "id": "5812243d",
   "metadata": {},
   "source": [
    "***"
   ]
  },
  {
   "cell_type": "markdown",
   "id": "fbcec676",
   "metadata": {},
   "source": [
    " __<span style=\"font-size:16px\">Everything is an object</span>__"
   ]
  },
  {
   "cell_type": "markdown",
   "id": "6cb07c43",
   "metadata": {},
   "source": [
    "An important characteristic of the Python language is the consistency of its object\n",
    "model. Every number, string, data structure, function, class, module, and so on exists\n",
    "in the Python interpreter in its own “box,” which is referred to as a Python object.\n",
    "Each object has an associated type (e.g., string or function) and internal data. In prac‐\n",
    "tice this makes the language very flexible, as even functions can be treated like any\n",
    "other object."
   ]
  },
  {
   "cell_type": "markdown",
   "id": "46061130",
   "metadata": {},
   "source": [
    "***"
   ]
  },
  {
   "cell_type": "markdown",
   "id": "57ab537f",
   "metadata": {},
   "source": [
    " __<span style=\"font-size:16px\">Comments</span>__"
   ]
  },
  {
   "cell_type": "markdown",
   "id": "6108ab82",
   "metadata": {},
   "source": [
    "comment is an essential feature in every language as it provide more insight to the programmers idea and knowledge about the flow of code and detailed description on some methods, functions or classes. Comments in python is started with __# sign__ ."
   ]
  },
  {
   "cell_type": "code",
   "execution_count": 12,
   "id": "5c7b6c78",
   "metadata": {},
   "outputs": [],
   "source": [
    "# this is a single line comment; interpreter ignores everything return here after # sign."
   ]
  },
  {
   "cell_type": "markdown",
   "id": "671fef7f",
   "metadata": {},
   "source": [
    "For multiple line comments or the block of code for interpreter to ignore __''' sign__ can be used."
   ]
  },
  {
   "cell_type": "raw",
   "id": "ae33ca07",
   "metadata": {},
   "source": [
    "\"\"\" this is not a \n",
    "good pratice but; \n",
    "it always good to have options\n",
    "for efficiency. \"\"\""
   ]
  },
  {
   "cell_type": "markdown",
   "id": "e2bf69c3",
   "metadata": {},
   "source": [
    "*** "
   ]
  },
  {
   "cell_type": "markdown",
   "id": "c69b4167",
   "metadata": {},
   "source": [
    " __<span style=\"font-size:16px\">Function and object method calls</span>__"
   ]
  },
  {
   "cell_type": "markdown",
   "id": "ee7877b8",
   "metadata": {},
   "source": [
    "Functions in python can be called using paretheses and passing zero or more arguements, optionally assigning the returned value to a variable."
   ]
  },
  {
   "cell_type": "raw",
   "id": "6001e51d",
   "metadata": {},
   "source": [
    "some_function()"
   ]
  },
  {
   "cell_type": "raw",
   "id": "f7df8983",
   "metadata": {},
   "source": [
    "f (x, y, z)"
   ]
  },
  {
   "cell_type": "markdown",
   "id": "327d5f6f",
   "metadata": {},
   "source": [
    "Almost every object in Python has attached functions, known as methods, that have permission to use object's internal contents. "
   ]
  },
  {
   "cell_type": "raw",
   "id": "658cb6b7",
   "metadata": {},
   "source": [
    "obj.some_method(x, y ,z)"
   ]
  },
  {
   "cell_type": "markdown",
   "id": "f3b7d8ba",
   "metadata": {},
   "source": [
    "***"
   ]
  },
  {
   "cell_type": "markdown",
   "id": "07892ce0",
   "metadata": {},
   "source": [
    " __<span style=\"font-size:16px\">Variables and argument passing</span>__"
   ]
  },
  {
   "cell_type": "markdown",
   "id": "338603ad",
   "metadata": {},
   "source": [
    "when creating or assigning a variable in python, it creates a reference to the object on the righthand side of the equals sign. "
   ]
  },
  {
   "cell_type": "code",
   "execution_count": 20,
   "id": "1ae8256d",
   "metadata": {},
   "outputs": [],
   "source": [
    "a = [1, 2, 3]"
   ]
  },
  {
   "cell_type": "code",
   "execution_count": 21,
   "id": "7d419f71",
   "metadata": {},
   "outputs": [],
   "source": [
    "b = a"
   ]
  },
  {
   "cell_type": "code",
   "execution_count": 22,
   "id": "ba69f9f3",
   "metadata": {},
   "outputs": [],
   "source": [
    "a.append(4)"
   ]
  },
  {
   "cell_type": "code",
   "execution_count": 23,
   "id": "c969ca41",
   "metadata": {},
   "outputs": [
    {
     "data": {
      "text/plain": [
       "[1, 2, 3, 4]"
      ]
     },
     "execution_count": 23,
     "metadata": {},
     "output_type": "execute_result"
    }
   ],
   "source": [
    "b"
   ]
  },
  {
   "cell_type": "markdown",
   "id": "90e4bdca",
   "metadata": {},
   "source": [
    "In some languages, this assignment would cause the data [1, 2, 3] to be copied. \n",
    "<br>In Python, a and b actually now refer to the same object, the original list [1, 2, 3]"
   ]
  },
  {
   "cell_type": "markdown",
   "id": "143c4048",
   "metadata": {},
   "source": [
    "<span style=\"color:red\">Note: </span> Assignment is also referred to as binding, as we are binding a name to an object. Variable names that have been assigned may occassinally be referred to as bound variables."
   ]
  },
  {
   "cell_type": "markdown",
   "id": "73425b42",
   "metadata": {},
   "source": [
    "***"
   ]
  },
  {
   "cell_type": "markdown",
   "id": "bc5ec7a1",
   "metadata": {},
   "source": [
    " __<span style=\"font-size:16px\">Dynamic References, strong types</span>__"
   ]
  },
  {
   "cell_type": "markdown",
   "id": "d5f00687",
   "metadata": {},
   "source": [
    "In python, object references (i.e Variable names) have no type associated with them."
   ]
  },
  {
   "cell_type": "code",
   "execution_count": 26,
   "id": "82d940d8",
   "metadata": {},
   "outputs": [],
   "source": [
    "a = 5"
   ]
  },
  {
   "cell_type": "code",
   "execution_count": 27,
   "id": "bf480a45",
   "metadata": {},
   "outputs": [
    {
     "data": {
      "text/plain": [
       "int"
      ]
     },
     "execution_count": 27,
     "metadata": {},
     "output_type": "execute_result"
    }
   ],
   "source": [
    "type(a)"
   ]
  },
  {
   "cell_type": "code",
   "execution_count": 28,
   "id": "8474fe56",
   "metadata": {},
   "outputs": [],
   "source": [
    "a = \"Hello World\""
   ]
  },
  {
   "cell_type": "code",
   "execution_count": 29,
   "id": "836245c7",
   "metadata": {},
   "outputs": [
    {
     "data": {
      "text/plain": [
       "str"
      ]
     },
     "execution_count": 29,
     "metadata": {},
     "output_type": "execute_result"
    }
   ],
   "source": [
    "type(a)"
   ]
  },
  {
   "cell_type": "markdown",
   "id": "50d5b417",
   "metadata": {},
   "source": [
    "Variables are just the names of the objects within a particular namespace; the type information is stored in the object itself."
   ]
  },
  {
   "cell_type": "markdown",
   "id": "b6dbbe58",
   "metadata": {},
   "source": [
    "Python is a \"typed language\". for example:"
   ]
  },
  {
   "cell_type": "code",
   "execution_count": 32,
   "id": "ac5e2eeb",
   "metadata": {},
   "outputs": [
    {
     "ename": "TypeError",
     "evalue": "can only concatenate str (not \"int\") to str",
     "output_type": "error",
     "traceback": [
      "\u001b[1;31m---------------------------------------------------------------------------\u001b[0m",
      "\u001b[1;31mTypeError\u001b[0m                                 Traceback (most recent call last)",
      "\u001b[1;32m<ipython-input-32-b29bd378698f>\u001b[0m in \u001b[0;36m<module>\u001b[1;34m\u001b[0m\n\u001b[0;32m      1\u001b[0m \u001b[1;31m#here '5' is a string so cannot be added to 5 which is integer\u001b[0m\u001b[1;33m\u001b[0m\u001b[1;33m\u001b[0m\u001b[1;33m\u001b[0m\u001b[0m\n\u001b[0;32m      2\u001b[0m \u001b[1;33m\u001b[0m\u001b[0m\n\u001b[1;32m----> 3\u001b[1;33m \u001b[1;34m'5'\u001b[0m \u001b[1;33m+\u001b[0m \u001b[1;36m5\u001b[0m\u001b[1;33m\u001b[0m\u001b[1;33m\u001b[0m\u001b[0m\n\u001b[0m",
      "\u001b[1;31mTypeError\u001b[0m: can only concatenate str (not \"int\") to str"
     ]
    }
   ],
   "source": [
    "#here '5' is a string so cannot be added to 5 which is integer\n",
    "\n",
    "'5' + 5"
   ]
  },
  {
   "cell_type": "code",
   "execution_count": 33,
   "id": "52667393",
   "metadata": {},
   "outputs": [
    {
     "data": {
      "text/plain": [
       "10"
      ]
     },
     "execution_count": 33,
     "metadata": {},
     "output_type": "execute_result"
    }
   ],
   "source": [
    "#both are integer so can be added.\n",
    "\n",
    "5 + 5"
   ]
  },
  {
   "cell_type": "markdown",
   "id": "431c4f54",
   "metadata": {},
   "source": [
    "We can check that an object is an instance of a particular type using the __isintance__ function:"
   ]
  },
  {
   "cell_type": "code",
   "execution_count": 34,
   "id": "9a687517",
   "metadata": {},
   "outputs": [],
   "source": [
    "a = 5"
   ]
  },
  {
   "cell_type": "code",
   "execution_count": 35,
   "id": "f81f6ff8",
   "metadata": {},
   "outputs": [
    {
     "data": {
      "text/plain": [
       "True"
      ]
     },
     "execution_count": 35,
     "metadata": {},
     "output_type": "execute_result"
    }
   ],
   "source": [
    "isinstance(a, int)"
   ]
  },
  {
   "cell_type": "markdown",
   "id": "e0f379ed",
   "metadata": {},
   "source": [
    "***"
   ]
  },
  {
   "cell_type": "markdown",
   "id": "c0f8759d",
   "metadata": {},
   "source": [
    " __<span style=\"font-size:16px\">Attributes and Methods</span>__"
   ]
  },
  {
   "cell_type": "markdown",
   "id": "df02596a",
   "metadata": {},
   "source": [
    "Objects in python usually have both attributes and methods. both of them can be accessed using syntax: - __obj.attribute_name__"
   ]
  },
  {
   "cell_type": "raw",
   "id": "b74c0b99",
   "metadata": {},
   "source": [
    "In [1]: a = 'Hello World'\n",
    "\n",
    "In [2]: a.<press Tab>\n",
    "           capitalize() expandtabs   isalpha      isnumeric    ljust        rfind        split        translate\n",
    "           casefold     find         isascii      isprintable  lower        rindex       splitlines   upper\n",
    "           center       format       isdecimal    isspace      lstrip       rjust        startswith   zfill\n",
    "           count        format_map   isdigit      istitle      maketrans    rpartition   strip\n",
    "           encode       index        isidentifier isupper      partition    rsplit       swapcase\n",
    "           endswith     isalnum      islower      join         replace      rstrip       title"
   ]
  },
  {
   "cell_type": "markdown",
   "id": "e2f739b6",
   "metadata": {},
   "source": [
    "***"
   ]
  },
  {
   "cell_type": "markdown",
   "id": "91171cc6",
   "metadata": {},
   "source": [
    " __<span style=\"font-size:16px\">Duck typing</span>__"
   ]
  },
  {
   "cell_type": "markdown",
   "id": "a5f76611",
   "metadata": {},
   "source": [
    "It is simply a concept when the type of object is to be ignored and to check if it has certain methods or behaviour."
   ]
  },
  {
   "cell_type": "markdown",
   "id": "aaf48c0e",
   "metadata": {},
   "source": [
    "***"
   ]
  },
  {
   "cell_type": "markdown",
   "id": "e85204c4",
   "metadata": {},
   "source": [
    " __<span style=\"font-size:16px\">Imports</span>__"
   ]
  },
  {
   "cell_type": "markdown",
   "id": "d5ce3d78",
   "metadata": {},
   "source": [
    "A python module is simple a file with .py extension which has python code as its content. For example a simple module:"
   ]
  },
  {
   "cell_type": "raw",
   "id": "3decdcdf",
   "metadata": {},
   "source": [
    "# some_module.py\n",
    "\n",
    "PI = 3.14159\n",
    "\n",
    "def f(x):\n",
    " return x + 2\n",
    "\n",
    "def g(a, b):\n",
    " return a + b"
   ]
  },
  {
   "cell_type": "markdown",
   "id": "abf77ed3",
   "metadata": {},
   "source": [
    "we can use __import__ keyword to access the variable and functions of this some_module.py into another python file stored in same directory."
   ]
  },
  {
   "cell_type": "raw",
   "id": "5ae3e8f1",
   "metadata": {},
   "source": [
    "import some_module\n",
    "result = some_module.f(5)"
   ]
  },
  {
   "cell_type": "markdown",
   "id": "ae9a7523",
   "metadata": {},
   "source": [
    "or to import only a specific function or method we can simply use as following:"
   ]
  },
  {
   "cell_type": "raw",
   "id": "8e584fd0",
   "metadata": {},
   "source": [
    "from some_module import g, PI\n",
    "result = g(5, PI)"
   ]
  },
  {
   "cell_type": "markdown",
   "id": "c033be2f",
   "metadata": {},
   "source": [
    "Further, we can use alias name for the modules or even the functions inside that module like so:"
   ]
  },
  {
   "cell_type": "raw",
   "id": "71735e84",
   "metadata": {},
   "source": [
    "import some_module as sm\n",
    "from some_module import f as func1, g as func2, PI as pi\n",
    "\n",
    "a = sm.func2(pi)\n",
    "b = func2(6, pi)"
   ]
  },
  {
   "cell_type": "markdown",
   "id": "f11394a7",
   "metadata": {},
   "source": [
    "***"
   ]
  },
  {
   "cell_type": "markdown",
   "id": "96f1f8ea",
   "metadata": {},
   "source": [
    " __<span style=\"font-size:16px\">Binary operators and Comparisons</span>__"
   ]
  },
  {
   "cell_type": "markdown",
   "id": "a1b02366",
   "metadata": {},
   "source": [
    "Most of the binary operations and comparison can be performed directly in python."
   ]
  },
  {
   "cell_type": "code",
   "execution_count": 43,
   "id": "1c3fd25b",
   "metadata": {},
   "outputs": [
    {
     "data": {
      "text/plain": [
       "2"
      ]
     },
     "execution_count": 43,
     "metadata": {},
     "output_type": "execute_result"
    }
   ],
   "source": [
    "1 + 1"
   ]
  },
  {
   "cell_type": "code",
   "execution_count": 44,
   "id": "8e4dedbb",
   "metadata": {},
   "outputs": [
    {
     "data": {
      "text/plain": [
       "1"
      ]
     },
     "execution_count": 44,
     "metadata": {},
     "output_type": "execute_result"
    }
   ],
   "source": [
    "10000 - 9999"
   ]
  },
  {
   "cell_type": "code",
   "execution_count": 45,
   "id": "da3c9e3e",
   "metadata": {},
   "outputs": [
    {
     "data": {
      "text/plain": [
       "False"
      ]
     },
     "execution_count": 45,
     "metadata": {},
     "output_type": "execute_result"
    }
   ],
   "source": [
    "2 == 4"
   ]
  },
  {
   "cell_type": "code",
   "execution_count": 48,
   "id": "13e76d5f",
   "metadata": {},
   "outputs": [
    {
     "data": {
      "text/plain": [
       "True"
      ]
     },
     "execution_count": 48,
     "metadata": {},
     "output_type": "execute_result"
    }
   ],
   "source": [
    "1 < 10"
   ]
  },
  {
   "cell_type": "markdown",
   "id": "47a46aab",
   "metadata": {},
   "source": [
    "To check, if the two references refer to the same object, __is__keyword can be used. Furthermore, __is not__ keyword can also be used to check just the opposite."
   ]
  },
  {
   "cell_type": "code",
   "execution_count": 52,
   "id": "7d10d313",
   "metadata": {},
   "outputs": [],
   "source": [
    "a = [1, 2, 3]\n",
    "b = a "
   ]
  },
  {
   "cell_type": "code",
   "execution_count": 53,
   "id": "43808ee6",
   "metadata": {},
   "outputs": [
    {
     "data": {
      "text/plain": [
       "True"
      ]
     },
     "execution_count": 53,
     "metadata": {},
     "output_type": "execute_result"
    }
   ],
   "source": [
    "a is b"
   ]
  },
  {
   "cell_type": "code",
   "execution_count": 54,
   "id": "a9f4fbb6",
   "metadata": {},
   "outputs": [
    {
     "data": {
      "text/plain": [
       "False"
      ]
     },
     "execution_count": 54,
     "metadata": {},
     "output_type": "execute_result"
    }
   ],
   "source": [
    "a is not b"
   ]
  },
  {
   "cell_type": "code",
   "execution_count": 55,
   "id": "3ab2ea2c",
   "metadata": {},
   "outputs": [],
   "source": [
    "c = list(a)"
   ]
  },
  {
   "cell_type": "code",
   "execution_count": 57,
   "id": "7b1ddae0",
   "metadata": {},
   "outputs": [
    {
     "data": {
      "text/plain": [
       "True"
      ]
     },
     "execution_count": 57,
     "metadata": {},
     "output_type": "execute_result"
    }
   ],
   "source": [
    "a is not c"
   ]
  },
  {
   "cell_type": "code",
   "execution_count": 58,
   "id": "6a404f1c",
   "metadata": {},
   "outputs": [
    {
     "data": {
      "text/plain": [
       "[1, 2, 3]"
      ]
     },
     "execution_count": 58,
     "metadata": {},
     "output_type": "execute_result"
    }
   ],
   "source": [
    "c"
   ]
  },
  {
   "cell_type": "markdown",
   "id": "b057c428",
   "metadata": {},
   "source": [
    "Even though the value of __c__ and __a__ are same. When ' list ' command is used; it creates a new list and __c__ now refers to the another object(newly created list) with same value as of __a__. so __a__ is not __c__ "
   ]
  },
  {
   "cell_type": "markdown",
   "id": "155a386a",
   "metadata": {},
   "source": [
    "##### A very common use of is and is not is to check if a variable is None, since there is only one instance of None"
   ]
  },
  {
   "cell_type": "code",
   "execution_count": 59,
   "id": "b1ff061e",
   "metadata": {},
   "outputs": [],
   "source": [
    "a = None"
   ]
  },
  {
   "cell_type": "code",
   "execution_count": 60,
   "id": "622e697d",
   "metadata": {},
   "outputs": [
    {
     "data": {
      "text/plain": [
       "True"
      ]
     },
     "execution_count": 60,
     "metadata": {},
     "output_type": "execute_result"
    }
   ],
   "source": [
    "a is None"
   ]
  },
  {
   "cell_type": "markdown",
   "id": "bbc50513",
   "metadata": {},
   "source": [
    "***"
   ]
  },
  {
   "cell_type": "markdown",
   "id": "2f67ec83",
   "metadata": {},
   "source": [
    " __<span style=\"font-size:16px\">Mutable and Immutable Objects</span>__"
   ]
  },
  {
   "cell_type": "markdown",
   "id": "b5a71e4e",
   "metadata": {},
   "source": [
    "Most objects in Python, such as lists, dicts, NumPy arrays, and most user-defined types (classes), are mutable. This means that the object or values that they contain can be modified:"
   ]
  },
  {
   "cell_type": "code",
   "execution_count": 63,
   "id": "769e03c7",
   "metadata": {},
   "outputs": [],
   "source": [
    "sampleList = ['basketball', 'volleyball', 'football', 1 , 5 , (2, 3)]"
   ]
  },
  {
   "cell_type": "code",
   "execution_count": 64,
   "id": "ba843fd5",
   "metadata": {},
   "outputs": [
    {
     "data": {
      "text/plain": [
       "['basketball', 'volleyball', 'football', 1, 5, (2, 3)]"
      ]
     },
     "execution_count": 64,
     "metadata": {},
     "output_type": "execute_result"
    }
   ],
   "source": [
    "sampleList\n"
   ]
  },
  {
   "cell_type": "code",
   "execution_count": 65,
   "id": "2f75df87",
   "metadata": {},
   "outputs": [],
   "source": [
    "sampleList[1] = 'rocket'"
   ]
  },
  {
   "cell_type": "code",
   "execution_count": 66,
   "id": "fa59f7b5",
   "metadata": {},
   "outputs": [
    {
     "data": {
      "text/plain": [
       "['basketball', 'rocket', 'football', 1, 5, (2, 3)]"
      ]
     },
     "execution_count": 66,
     "metadata": {},
     "output_type": "execute_result"
    }
   ],
   "source": [
    "sampleList"
   ]
  },
  {
   "cell_type": "markdown",
   "id": "6993883c",
   "metadata": {},
   "source": [
    "Unlike above mentioned objects, strings and tuples are immutable:"
   ]
  },
  {
   "cell_type": "code",
   "execution_count": 67,
   "id": "8f0a1106",
   "metadata": {},
   "outputs": [],
   "source": [
    "a_tuple = (1, 3, 5, 7)"
   ]
  },
  {
   "cell_type": "code",
   "execution_count": 68,
   "id": "11b2f3c1",
   "metadata": {},
   "outputs": [
    {
     "ename": "TypeError",
     "evalue": "'tuple' object does not support item assignment",
     "output_type": "error",
     "traceback": [
      "\u001b[1;31m---------------------------------------------------------------------------\u001b[0m",
      "\u001b[1;31mTypeError\u001b[0m                                 Traceback (most recent call last)",
      "\u001b[1;32m<ipython-input-68-6f19bfaaf530>\u001b[0m in \u001b[0;36m<module>\u001b[1;34m\u001b[0m\n\u001b[1;32m----> 1\u001b[1;33m \u001b[0ma_tuple\u001b[0m\u001b[1;33m[\u001b[0m\u001b[1;36m1\u001b[0m\u001b[1;33m]\u001b[0m \u001b[1;33m=\u001b[0m \u001b[1;36m10\u001b[0m\u001b[1;33m\u001b[0m\u001b[1;33m\u001b[0m\u001b[0m\n\u001b[0m",
      "\u001b[1;31mTypeError\u001b[0m: 'tuple' object does not support item assignment"
     ]
    }
   ],
   "source": [
    "a_tuple[1] = 10"
   ]
  },
  {
   "cell_type": "markdown",
   "id": "afaae94e",
   "metadata": {},
   "source": [
    "***"
   ]
  },
  {
   "cell_type": "markdown",
   "id": "e9bd5abf",
   "metadata": {},
   "source": [
    "### 3.2 Scalar Types"
   ]
  },
  {
   "cell_type": "markdown",
   "id": "d50160d1",
   "metadata": {},
   "source": [
    "In python, along with its standard libraray has a small set of built-in types for handling the single value types like numerical data, strings ,boolean values and dates and time are called scalar types."
   ]
  },
  {
   "cell_type": "markdown",
   "id": "53203ea1",
   "metadata": {},
   "source": [
    "***"
   ]
  },
  {
   "cell_type": "markdown",
   "id": "06d4d130",
   "metadata": {},
   "source": [
    "__<span style=\"font-size:16px\">Numeric types</span>__"
   ]
  },
  {
   "cell_type": "markdown",
   "id": "150a6b3c",
   "metadata": {},
   "source": [
    "Int and Float are the primary numeric types in Python. An int can store large numerical numbers. Floating point number are represented with Float type. float can also be expressed with scientific notation:"
   ]
  },
  {
   "cell_type": "code",
   "execution_count": 2,
   "id": "b211d5c2",
   "metadata": {},
   "outputs": [],
   "source": [
    "a_int = 38019283098200"
   ]
  },
  {
   "cell_type": "code",
   "execution_count": 3,
   "id": "6627c230",
   "metadata": {},
   "outputs": [],
   "source": [
    "a_float = 12.33333"
   ]
  },
  {
   "cell_type": "code",
   "execution_count": 4,
   "id": "5abdf7f3",
   "metadata": {},
   "outputs": [],
   "source": [
    "anotherFloat = 6.78e-5"
   ]
  },
  {
   "cell_type": "markdown",
   "id": "823dae06",
   "metadata": {},
   "source": [
    "***"
   ]
  },
  {
   "cell_type": "markdown",
   "id": "04fb0e86",
   "metadata": {},
   "source": [
    "__<span style=\"font-size:16px\">Strings</span>__"
   ]
  },
  {
   "cell_type": "markdown",
   "id": "948b5403",
   "metadata": {},
   "source": [
    "Strings to keep it simple are the group of characters that be word, line or paragraph. string literals can be written either using single quotes or double quotes:"
   ]
  },
  {
   "cell_type": "code",
   "execution_count": 6,
   "id": "ea129bf8",
   "metadata": {},
   "outputs": [],
   "source": [
    "string1 = 'one way of writing string'"
   ]
  },
  {
   "cell_type": "code",
   "execution_count": 7,
   "id": "91e56a35",
   "metadata": {},
   "outputs": [],
   "source": [
    "string2 = \"another way\""
   ]
  },
  {
   "cell_type": "code",
   "execution_count": 12,
   "id": "1c5f94bf",
   "metadata": {},
   "outputs": [],
   "source": [
    "# for multiple line string with line breaks.\n",
    "\n",
    "c = \"\"\" \n",
    "This is a \n",
    "long string\n",
    "that spans multiple lines\n",
    "\"\"\""
   ]
  },
  {
   "cell_type": "code",
   "execution_count": 13,
   "id": "9e787454",
   "metadata": {},
   "outputs": [
    {
     "data": {
      "text/plain": [
       "4"
      ]
     },
     "execution_count": 13,
     "metadata": {},
     "output_type": "execute_result"
    }
   ],
   "source": [
    "c.count('\\n')"
   ]
  },
  {
   "cell_type": "markdown",
   "id": "de850106",
   "metadata": {},
   "source": [
    "__Python strings are immutable__"
   ]
  },
  {
   "cell_type": "code",
   "execution_count": 14,
   "id": "c3f13b3d",
   "metadata": {},
   "outputs": [],
   "source": [
    "a = \"Hello World\""
   ]
  },
  {
   "cell_type": "code",
   "execution_count": 15,
   "id": "65fc2a89",
   "metadata": {},
   "outputs": [
    {
     "ename": "TypeError",
     "evalue": "'str' object does not support item assignment",
     "output_type": "error",
     "traceback": [
      "\u001b[1;31m---------------------------------------------------------------------------\u001b[0m",
      "\u001b[1;31mTypeError\u001b[0m                                 Traceback (most recent call last)",
      "\u001b[1;32m<ipython-input-15-42314ef6e36a>\u001b[0m in \u001b[0;36m<module>\u001b[1;34m\u001b[0m\n\u001b[1;32m----> 1\u001b[1;33m \u001b[0ma\u001b[0m\u001b[1;33m[\u001b[0m\u001b[1;36m1\u001b[0m\u001b[1;33m]\u001b[0m \u001b[1;33m=\u001b[0m \u001b[1;34m'S'\u001b[0m\u001b[1;33m\u001b[0m\u001b[1;33m\u001b[0m\u001b[0m\n\u001b[0m",
      "\u001b[1;31mTypeError\u001b[0m: 'str' object does not support item assignment"
     ]
    }
   ],
   "source": [
    "a[1] = 'S'"
   ]
  },
  {
   "cell_type": "code",
   "execution_count": 16,
   "id": "f8fbddbd",
   "metadata": {},
   "outputs": [],
   "source": [
    "b = a.replace('Hello', 'Goodbye')"
   ]
  },
  {
   "cell_type": "code",
   "execution_count": 17,
   "id": "b5921cbf",
   "metadata": {},
   "outputs": [
    {
     "data": {
      "text/plain": [
       "'Goodbye World'"
      ]
     },
     "execution_count": 17,
     "metadata": {},
     "output_type": "execute_result"
    }
   ],
   "source": [
    "b"
   ]
  },
  {
   "cell_type": "code",
   "execution_count": 18,
   "id": "41823790",
   "metadata": {},
   "outputs": [
    {
     "data": {
      "text/plain": [
       "'Hello World'"
      ]
     },
     "execution_count": 18,
     "metadata": {},
     "output_type": "execute_result"
    }
   ],
   "source": [
    "a"
   ]
  },
  {
   "cell_type": "markdown",
   "id": "0b03584e",
   "metadata": {},
   "source": [
    "String a is unmodified after the operation."
   ]
  },
  {
   "cell_type": "markdown",
   "id": "ae8462a1",
   "metadata": {},
   "source": [
    "***"
   ]
  },
  {
   "cell_type": "markdown",
   "id": "fa322c9b",
   "metadata": {},
   "source": [
    "__Other Python objects can be converted to string using str function.__"
   ]
  },
  {
   "cell_type": "code",
   "execution_count": 20,
   "id": "4a8325c6",
   "metadata": {},
   "outputs": [
    {
     "name": "stdout",
     "output_type": "stream",
     "text": [
      "12\n"
     ]
    }
   ],
   "source": [
    "a = 12\n",
    "s = str(a)\n",
    "print(a)"
   ]
  },
  {
   "cell_type": "markdown",
   "id": "2b8ff7f8",
   "metadata": {},
   "source": [
    "__Strings being a sequence of Unicode characters can be treated like any other sequence such as list and tuples__"
   ]
  },
  {
   "cell_type": "code",
   "execution_count": 22,
   "id": "51dbc106",
   "metadata": {},
   "outputs": [],
   "source": [
    "s = 'python'"
   ]
  },
  {
   "cell_type": "code",
   "execution_count": 23,
   "id": "7d589bfd",
   "metadata": {},
   "outputs": [
    {
     "data": {
      "text/plain": [
       "['p', 'y', 't', 'h', 'o', 'n']"
      ]
     },
     "execution_count": 23,
     "metadata": {},
     "output_type": "execute_result"
    }
   ],
   "source": [
    "list(s)"
   ]
  },
  {
   "cell_type": "markdown",
   "id": "6941acdf",
   "metadata": {},
   "source": [
    "__Adding two strings together concatenates them and produce a new string.__"
   ]
  },
  {
   "cell_type": "code",
   "execution_count": 29,
   "id": "21b87e50",
   "metadata": {},
   "outputs": [],
   "source": [
    "string1 = \"First half \"\n",
    "string2 = \"And Second half.\""
   ]
  },
  {
   "cell_type": "code",
   "execution_count": 30,
   "id": "4d3ba855",
   "metadata": {},
   "outputs": [
    {
     "data": {
      "text/plain": [
       "'First half And Second half.'"
      ]
     },
     "execution_count": 30,
     "metadata": {},
     "output_type": "execute_result"
    }
   ],
   "source": [
    "string1 + string2"
   ]
  },
  {
   "cell_type": "markdown",
   "id": "05485661",
   "metadata": {},
   "source": [
    "***"
   ]
  },
  {
   "cell_type": "markdown",
   "id": "0c165e55",
   "metadata": {},
   "source": [
    "__<span style=\"font-size:16px\">Bytes and Unicode</span>__"
   ]
  },
  {
   "cell_type": "markdown",
   "id": "e5650365",
   "metadata": {},
   "source": [
    "In Python 3.0 and above, Unicode has become the first-class string type to enable more consistent handling of ASCII and non-ASCII text."
   ]
  },
  {
   "cell_type": "markdown",
   "id": "ef484de1",
   "metadata": {},
   "source": [
    "String can be converted to Unicode if the character encoding is known. for example:"
   ]
  },
  {
   "cell_type": "code",
   "execution_count": 37,
   "id": "d20fd727",
   "metadata": {},
   "outputs": [],
   "source": [
    "val = 'Naïve'"
   ]
  },
  {
   "cell_type": "code",
   "execution_count": 38,
   "id": "75b8cef2",
   "metadata": {},
   "outputs": [
    {
     "data": {
      "text/plain": [
       "'Naïve'"
      ]
     },
     "execution_count": 38,
     "metadata": {},
     "output_type": "execute_result"
    }
   ],
   "source": [
    "val\n"
   ]
  },
  {
   "cell_type": "code",
   "execution_count": 39,
   "id": "e3421aae",
   "metadata": {},
   "outputs": [],
   "source": [
    "val_utf8 = val.encode('utf-8')"
   ]
  },
  {
   "cell_type": "code",
   "execution_count": 40,
   "id": "af95aa80",
   "metadata": {},
   "outputs": [
    {
     "data": {
      "text/plain": [
       "b'Na\\xc3\\xafve'"
      ]
     },
     "execution_count": 40,
     "metadata": {},
     "output_type": "execute_result"
    }
   ],
   "source": [
    "val_utf8"
   ]
  },
  {
   "cell_type": "code",
   "execution_count": 42,
   "id": "d74f7dea",
   "metadata": {},
   "outputs": [
    {
     "data": {
      "text/plain": [
       "bytes"
      ]
     },
     "execution_count": 42,
     "metadata": {},
     "output_type": "execute_result"
    }
   ],
   "source": [
    "type(val_utf8)"
   ]
  },
  {
   "cell_type": "markdown",
   "id": "3f6183bb",
   "metadata": {},
   "source": [
    "if the Unicode encoding of a bytes object is known, you can go back using the decode method:"
   ]
  },
  {
   "cell_type": "code",
   "execution_count": 43,
   "id": "73e851d4",
   "metadata": {},
   "outputs": [
    {
     "data": {
      "text/plain": [
       "'Naïve'"
      ]
     },
     "execution_count": 43,
     "metadata": {},
     "output_type": "execute_result"
    }
   ],
   "source": [
    "val_utf8.decode('utf-8')"
   ]
  },
  {
   "cell_type": "markdown",
   "id": "b26d51d7",
   "metadata": {},
   "source": [
    "Byte literals can be defined by prefixing a string with b:"
   ]
  },
  {
   "cell_type": "code",
   "execution_count": 45,
   "id": "79068d02",
   "metadata": {},
   "outputs": [
    {
     "data": {
      "text/plain": [
       "b'this is bytes'"
      ]
     },
     "execution_count": 45,
     "metadata": {},
     "output_type": "execute_result"
    }
   ],
   "source": [
    "bytes_val = b'this is bytes'\n",
    "bytes_val"
   ]
  },
  {
   "cell_type": "code",
   "execution_count": 46,
   "id": "6f7da331",
   "metadata": {},
   "outputs": [],
   "source": [
    "decoded_val = bytes_val.decode('utf8')"
   ]
  },
  {
   "cell_type": "code",
   "execution_count": 47,
   "id": "ce9d5ae2",
   "metadata": {},
   "outputs": [
    {
     "data": {
      "text/plain": [
       "'this is bytes'"
      ]
     },
     "execution_count": 47,
     "metadata": {},
     "output_type": "execute_result"
    }
   ],
   "source": [
    "decoded_val"
   ]
  },
  {
   "cell_type": "markdown",
   "id": "fa35ddde",
   "metadata": {},
   "source": [
    "***"
   ]
  },
  {
   "cell_type": "markdown",
   "id": "7ceac4d4",
   "metadata": {},
   "source": [
    "__<span style=\"font-size:16px\">Booleans</span>__"
   ]
  },
  {
   "cell_type": "markdown",
   "id": "ff8213cb",
   "metadata": {},
   "source": [
    "The two Boolean value in python are True and False. They are usually used with 'and' and 'or' operator. These are used for comparisons and other conditonal expressions evaluate to either True or False."
   ]
  },
  {
   "cell_type": "code",
   "execution_count": 49,
   "id": "942e9793",
   "metadata": {},
   "outputs": [
    {
     "data": {
      "text/plain": [
       "True"
      ]
     },
     "execution_count": 49,
     "metadata": {},
     "output_type": "execute_result"
    }
   ],
   "source": [
    "True and True"
   ]
  },
  {
   "cell_type": "code",
   "execution_count": 50,
   "id": "919405bf",
   "metadata": {},
   "outputs": [
    {
     "data": {
      "text/plain": [
       "True"
      ]
     },
     "execution_count": 50,
     "metadata": {},
     "output_type": "execute_result"
    }
   ],
   "source": [
    "True or False"
   ]
  },
  {
   "cell_type": "code",
   "execution_count": 51,
   "id": "780175af",
   "metadata": {},
   "outputs": [
    {
     "data": {
      "text/plain": [
       "False"
      ]
     },
     "execution_count": 51,
     "metadata": {},
     "output_type": "execute_result"
    }
   ],
   "source": [
    "False and False"
   ]
  },
  {
   "cell_type": "code",
   "execution_count": 52,
   "id": "a1604e47",
   "metadata": {},
   "outputs": [
    {
     "data": {
      "text/plain": [
       "False"
      ]
     },
     "execution_count": 52,
     "metadata": {},
     "output_type": "execute_result"
    }
   ],
   "source": [
    "False or False"
   ]
  },
  {
   "cell_type": "markdown",
   "id": "fee0b698",
   "metadata": {},
   "source": [
    "***"
   ]
  },
  {
   "cell_type": "markdown",
   "id": "61d470e6",
   "metadata": {},
   "source": [
    "__<span style=\"font-size:16px\">Type Casting</span>__"
   ]
  },
  {
   "cell_type": "markdown",
   "id": "f2de66ac",
   "metadata": {},
   "source": [
    "Type casting is simply to convert object from one type to another. The str, bool, int, and float types are also functions that can be used to cast values\n",
    "to those types"
   ]
  },
  {
   "cell_type": "code",
   "execution_count": 55,
   "id": "693a3dc8",
   "metadata": {},
   "outputs": [],
   "source": [
    "s = '1.23'"
   ]
  },
  {
   "cell_type": "code",
   "execution_count": 56,
   "id": "8ac002d7",
   "metadata": {},
   "outputs": [],
   "source": [
    "f_val = float(s)"
   ]
  },
  {
   "cell_type": "code",
   "execution_count": 57,
   "id": "dd51e921",
   "metadata": {},
   "outputs": [
    {
     "data": {
      "text/plain": [
       "1.23"
      ]
     },
     "execution_count": 57,
     "metadata": {},
     "output_type": "execute_result"
    }
   ],
   "source": [
    "f_val"
   ]
  },
  {
   "cell_type": "code",
   "execution_count": 58,
   "id": "c77c9cd4",
   "metadata": {},
   "outputs": [
    {
     "data": {
      "text/plain": [
       "1"
      ]
     },
     "execution_count": 58,
     "metadata": {},
     "output_type": "execute_result"
    }
   ],
   "source": [
    "int(f_val)"
   ]
  },
  {
   "cell_type": "code",
   "execution_count": 59,
   "id": "11297aad",
   "metadata": {},
   "outputs": [
    {
     "data": {
      "text/plain": [
       "True"
      ]
     },
     "execution_count": 59,
     "metadata": {},
     "output_type": "execute_result"
    }
   ],
   "source": [
    "bool(f_val)"
   ]
  },
  {
   "cell_type": "code",
   "execution_count": 60,
   "id": "bf50978c",
   "metadata": {},
   "outputs": [
    {
     "data": {
      "text/plain": [
       "False"
      ]
     },
     "execution_count": 60,
     "metadata": {},
     "output_type": "execute_result"
    }
   ],
   "source": [
    "bool(0)"
   ]
  },
  {
   "cell_type": "markdown",
   "id": "3b7fa5aa",
   "metadata": {},
   "source": [
    "***"
   ]
  },
  {
   "cell_type": "markdown",
   "id": "b49beb7a",
   "metadata": {},
   "source": [
    "__<span style=\"font-size:16px\">None</span>__"
   ]
  },
  {
   "cell_type": "markdown",
   "id": "7ee8c4f3",
   "metadata": {},
   "source": [
    "None is the python null Value type. If a function does not explicitly return a value, it implicity returns None:"
   ]
  },
  {
   "cell_type": "code",
   "execution_count": 62,
   "id": "8a7fa382",
   "metadata": {},
   "outputs": [],
   "source": [
    "a = None"
   ]
  },
  {
   "cell_type": "code",
   "execution_count": 63,
   "id": "077a480b",
   "metadata": {},
   "outputs": [
    {
     "data": {
      "text/plain": [
       "True"
      ]
     },
     "execution_count": 63,
     "metadata": {},
     "output_type": "execute_result"
    }
   ],
   "source": [
    "a is None"
   ]
  },
  {
   "cell_type": "code",
   "execution_count": 64,
   "id": "bccc5deb",
   "metadata": {},
   "outputs": [],
   "source": [
    "b = 0"
   ]
  },
  {
   "cell_type": "code",
   "execution_count": 65,
   "id": "2c89a3a7",
   "metadata": {},
   "outputs": [
    {
     "data": {
      "text/plain": [
       "True"
      ]
     },
     "execution_count": 65,
     "metadata": {},
     "output_type": "execute_result"
    }
   ],
   "source": [
    "b is not None"
   ]
  },
  {
   "cell_type": "markdown",
   "id": "87a6d8d5",
   "metadata": {},
   "source": [
    "##### <span style=\"color:red\">Note:</span> None is a reserved keyword and also a unique instance of NoneType."
   ]
  },
  {
   "cell_type": "markdown",
   "id": "99be48bd",
   "metadata": {},
   "source": [
    "***"
   ]
  },
  {
   "cell_type": "markdown",
   "id": "fa65d477",
   "metadata": {},
   "source": [
    "__<span style=\"font-size:16px\">Dates and Times</span>__"
   ]
  },
  {
   "cell_type": "markdown",
   "id": "444531d1",
   "metadata": {},
   "source": [
    "datetime is a built-in python module that provides datetime, date and time types. The datetime type, combines the information stored in date and time"
   ]
  },
  {
   "cell_type": "code",
   "execution_count": 67,
   "id": "8c6a3c0c",
   "metadata": {},
   "outputs": [],
   "source": [
    "from datetime import datetime, date, time"
   ]
  },
  {
   "cell_type": "code",
   "execution_count": 70,
   "id": "c79606e5",
   "metadata": {},
   "outputs": [],
   "source": [
    "dt = datetime(2022, 1, 3, 10, 20, 30 )"
   ]
  },
  {
   "cell_type": "code",
   "execution_count": 71,
   "id": "568e1a85",
   "metadata": {},
   "outputs": [
    {
     "data": {
      "text/plain": [
       "datetime.datetime(2022, 1, 3, 10, 20, 30)"
      ]
     },
     "execution_count": 71,
     "metadata": {},
     "output_type": "execute_result"
    }
   ],
   "source": [
    "dt"
   ]
  },
  {
   "cell_type": "code",
   "execution_count": 72,
   "id": "abd48037",
   "metadata": {},
   "outputs": [
    {
     "data": {
      "text/plain": [
       "3"
      ]
     },
     "execution_count": 72,
     "metadata": {},
     "output_type": "execute_result"
    }
   ],
   "source": [
    "dt.day"
   ]
  },
  {
   "cell_type": "code",
   "execution_count": 74,
   "id": "0a38f31c",
   "metadata": {},
   "outputs": [
    {
     "data": {
      "text/plain": [
       "datetime.date(2022, 1, 3)"
      ]
     },
     "execution_count": 74,
     "metadata": {},
     "output_type": "execute_result"
    }
   ],
   "source": [
    "dt.date()"
   ]
  },
  {
   "cell_type": "code",
   "execution_count": 76,
   "id": "eedb56f1",
   "metadata": {},
   "outputs": [
    {
     "data": {
      "text/plain": [
       "datetime.time(10, 20, 30)"
      ]
     },
     "execution_count": 76,
     "metadata": {},
     "output_type": "execute_result"
    }
   ],
   "source": [
    "dt.time()"
   ]
  },
  {
   "cell_type": "code",
   "execution_count": 77,
   "id": "6a494445",
   "metadata": {},
   "outputs": [
    {
     "data": {
      "text/plain": [
       "10"
      ]
     },
     "execution_count": 77,
     "metadata": {},
     "output_type": "execute_result"
    }
   ],
   "source": [
    "dt.hour"
   ]
  },
  {
   "cell_type": "markdown",
   "id": "d275f2dd",
   "metadata": {},
   "source": [
    "The __strftime__ method formats a datetime as a string"
   ]
  },
  {
   "cell_type": "code",
   "execution_count": 78,
   "id": "9d869e85",
   "metadata": {},
   "outputs": [
    {
     "data": {
      "text/plain": [
       "'01/03/2022 10:20'"
      ]
     },
     "execution_count": 78,
     "metadata": {},
     "output_type": "execute_result"
    }
   ],
   "source": [
    "dt.strftime('%m/%d/%Y %H:%M')"
   ]
  },
  {
   "cell_type": "markdown",
   "id": "ca488f04",
   "metadata": {},
   "source": [
    "Similarly, strings can be converted into datetime objects with the __strptime__ function"
   ]
  },
  {
   "cell_type": "code",
   "execution_count": 80,
   "id": "40930cce",
   "metadata": {},
   "outputs": [
    {
     "data": {
      "text/plain": [
       "datetime.datetime(2021, 12, 12, 0, 0)"
      ]
     },
     "execution_count": 80,
     "metadata": {},
     "output_type": "execute_result"
    }
   ],
   "source": [
    "dt.strptime('20211212', '%Y%m%d')"
   ]
  },
  {
   "cell_type": "code",
   "execution_count": 81,
   "id": "26d7ad9d",
   "metadata": {},
   "outputs": [
    {
     "data": {
      "text/plain": [
       "datetime.datetime(2022, 1, 3, 10, 0)"
      ]
     },
     "execution_count": 81,
     "metadata": {},
     "output_type": "execute_result"
    }
   ],
   "source": [
    "#replacing the minute and second feild with zero\n",
    "\n",
    "dt.replace(minute=0, second=0)"
   ]
  },
  {
   "cell_type": "markdown",
   "id": "f9f1560c",
   "metadata": {},
   "source": [
    "datetime.datetime is an immutable type, so methods like this always produce a new objects."
   ]
  },
  {
   "cell_type": "markdown",
   "id": "38bd1740",
   "metadata": {},
   "source": [
    "***"
   ]
  },
  {
   "cell_type": "markdown",
   "id": "369bed6a",
   "metadata": {},
   "source": [
    "The difference of two datetime objects creates a datetime.timedelta type"
   ]
  },
  {
   "cell_type": "code",
   "execution_count": 82,
   "id": "fbba773b",
   "metadata": {},
   "outputs": [],
   "source": [
    "dt2 = datetime (2011, 11, 15, 22, 30)\n",
    "delta = dt - dt2"
   ]
  },
  {
   "cell_type": "code",
   "execution_count": 83,
   "id": "67389f7f",
   "metadata": {},
   "outputs": [
    {
     "data": {
      "text/plain": [
       "datetime.timedelta(days=3701, seconds=42630)"
      ]
     },
     "execution_count": 83,
     "metadata": {},
     "output_type": "execute_result"
    }
   ],
   "source": [
    "delta"
   ]
  },
  {
   "cell_type": "code",
   "execution_count": 84,
   "id": "d1902ff2",
   "metadata": {},
   "outputs": [
    {
     "data": {
      "text/plain": [
       "datetime.timedelta"
      ]
     },
     "execution_count": 84,
     "metadata": {},
     "output_type": "execute_result"
    }
   ],
   "source": [
    "type(delta)"
   ]
  },
  {
   "cell_type": "code",
   "execution_count": 85,
   "id": "9826f8fe",
   "metadata": {},
   "outputs": [
    {
     "data": {
      "text/plain": [
       "datetime.datetime(2022, 1, 3, 10, 20, 30)"
      ]
     },
     "execution_count": 85,
     "metadata": {},
     "output_type": "execute_result"
    }
   ],
   "source": [
    "# Adding a datetime.timedelta to datetime.datetime type produces a datetime.datetime type;\n",
    "\n",
    "dt"
   ]
  },
  {
   "cell_type": "code",
   "execution_count": 86,
   "id": "770c7a8b",
   "metadata": {},
   "outputs": [
    {
     "data": {
      "text/plain": [
       "datetime.datetime(2032, 2, 21, 22, 11)"
      ]
     },
     "execution_count": 86,
     "metadata": {},
     "output_type": "execute_result"
    }
   ],
   "source": [
    "dt + delta"
   ]
  },
  {
   "cell_type": "code",
   "execution_count": 87,
   "id": "349cbf03",
   "metadata": {},
   "outputs": [
    {
     "data": {
      "text/plain": [
       "datetime.datetime"
      ]
     },
     "execution_count": 87,
     "metadata": {},
     "output_type": "execute_result"
    }
   ],
   "source": [
    "type(dt + delta)"
   ]
  },
  {
   "cell_type": "markdown",
   "id": "f0174d43",
   "metadata": {},
   "source": [
    "***"
   ]
  },
  {
   "cell_type": "markdown",
   "id": "c8ae0582",
   "metadata": {},
   "source": [
    "### 3.3 Control Flow"
   ]
  },
  {
   "cell_type": "markdown",
   "id": "22bd8ee1",
   "metadata": {},
   "source": [
    "***"
   ]
  },
  {
   "cell_type": "markdown",
   "id": "ec08d5fd",
   "metadata": {},
   "source": [
    "__<span style=\"font-size:16px\">if, elif, and else</span>__"
   ]
  },
  {
   "cell_type": "markdown",
   "id": "3372c15a",
   "metadata": {},
   "source": [
    "The primary and most straight forward control flow statement type is if. It basically checks if the condition is true, and executes the block of code."
   ]
  },
  {
   "cell_type": "code",
   "execution_count": 90,
   "id": "3c511832",
   "metadata": {},
   "outputs": [
    {
     "name": "stdout",
     "output_type": "stream",
     "text": [
      "a is a smaller number.\n"
     ]
    }
   ],
   "source": [
    "a = 5\n",
    "b = 9\n",
    "\n",
    "if a < b:\n",
    "    print(\"a is a smaller number.\")\n"
   ]
  },
  {
   "cell_type": "markdown",
   "id": "bab369ad",
   "metadata": {},
   "source": [
    "An if statement can be optionally followed by one or more elif blocks and a catch\u0002all else block if all of the conditions are False"
   ]
  },
  {
   "cell_type": "code",
   "execution_count": 91,
   "id": "ab767cb6",
   "metadata": {},
   "outputs": [
    {
     "name": "stdout",
     "output_type": "stream",
     "text": [
      "b is greater.\n"
     ]
    }
   ],
   "source": [
    "if a > b:\n",
    "    print(\"a is greater.\")\n",
    "elif b > a:\n",
    "    print (\"b is greater.\")\n",
    "else:\n",
    "    print(\"a euqals to b.\")"
   ]
  },
  {
   "cell_type": "markdown",
   "id": "6576691f",
   "metadata": {},
   "source": [
    "***"
   ]
  },
  {
   "cell_type": "markdown",
   "id": "e406a170",
   "metadata": {},
   "source": [
    "__<span style=\"font-size:16px\">for loops</span>__"
   ]
  },
  {
   "cell_type": "markdown",
   "id": "d455cfef",
   "metadata": {},
   "source": [
    "for loops are used to iterate over a sequence or collection or an iterater. The standard syntax for a for loop is:"
   ]
  },
  {
   "cell_type": "raw",
   "id": "233857d1",
   "metadata": {},
   "source": [
    "for value in collection:\n",
    "    #do something with the value"
   ]
  },
  {
   "cell_type": "markdown",
   "id": "adf5c51f",
   "metadata": {},
   "source": [
    "Furthermore, continue and break keyword can be used inside a for loop to respectively continue or break from the block of the code."
   ]
  },
  {
   "cell_type": "code",
   "execution_count": 97,
   "id": "5174c2e3",
   "metadata": {},
   "outputs": [],
   "source": [
    "sequence = [1, None, 3, None, 5, None, 7]\n",
    "total = 0\n",
    "for value in sequence:\n",
    "    if value is None:\n",
    "        continue          #using continue to skip the None value in the sequence.\n",
    "    total += value"
   ]
  },
  {
   "cell_type": "code",
   "execution_count": 98,
   "id": "ccaf7a68",
   "metadata": {},
   "outputs": [
    {
     "data": {
      "text/plain": [
       "16"
      ]
     },
     "execution_count": 98,
     "metadata": {},
     "output_type": "execute_result"
    }
   ],
   "source": [
    "total"
   ]
  },
  {
   "cell_type": "code",
   "execution_count": 102,
   "id": "06cd89ff",
   "metadata": {},
   "outputs": [],
   "source": [
    "sequence = [1, 2, 3, 4, 5, 6, 7]\n",
    "total_until_5 = 0\n",
    "for value in sequence:\n",
    "    if value == 5:\n",
    "        break\n",
    "    total_until_5 += value\n",
    "    "
   ]
  },
  {
   "cell_type": "markdown",
   "id": "b3e419e9",
   "metadata": {},
   "source": [
    "Using break to terminate the for loop. If break is used in nested for loop conditmions, only the inner most for loop of the loop is terminated or the only for loop block where it is defined is terminated."
   ]
  },
  {
   "cell_type": "code",
   "execution_count": 103,
   "id": "97fde29f",
   "metadata": {},
   "outputs": [
    {
     "data": {
      "text/plain": [
       "10"
      ]
     },
     "execution_count": 103,
     "metadata": {},
     "output_type": "execute_result"
    }
   ],
   "source": [
    "total_until_5"
   ]
  },
  {
   "cell_type": "markdown",
   "id": "627d94bf",
   "metadata": {},
   "source": [
    "***"
   ]
  },
  {
   "cell_type": "markdown",
   "id": "c5e83ead",
   "metadata": {},
   "source": [
    "__<span style=\"font-size:16px\">While loops</span>__"
   ]
  },
  {
   "cell_type": "markdown",
   "id": "d1f329be",
   "metadata": {},
   "source": [
    "A while loop specifies a condition and a block of code that is to be executed until the condition evaluates to False or the loop is explicitly ended with break:"
   ]
  },
  {
   "cell_type": "code",
   "execution_count": 110,
   "id": "04046084",
   "metadata": {},
   "outputs": [],
   "source": [
    "x = 256\n",
    "total = 0\n",
    "while x > 0:\n",
    "    if total > 500:\n",
    "        break\n",
    "    total += x\n",
    "    x = x // 2\n"
   ]
  },
  {
   "cell_type": "code",
   "execution_count": 111,
   "id": "147542f2",
   "metadata": {},
   "outputs": [
    {
     "data": {
      "text/plain": [
       "504"
      ]
     },
     "execution_count": 111,
     "metadata": {},
     "output_type": "execute_result"
    }
   ],
   "source": [
    "total"
   ]
  },
  {
   "cell_type": "markdown",
   "id": "62f58caf",
   "metadata": {},
   "source": [
    "#### pass"
   ]
  },
  {
   "cell_type": "markdown",
   "id": "5d12189f",
   "metadata": {},
   "source": [
    "Pass as clear from the name; it simply helps to pass the block of code where nothing is to be done. It is required because python uses whitespace to delimit blocks."
   ]
  },
  {
   "cell_type": "code",
   "execution_count": 113,
   "id": "e29835fb",
   "metadata": {},
   "outputs": [
    {
     "name": "stdout",
     "output_type": "stream",
     "text": [
      "positive\n"
     ]
    }
   ],
   "source": [
    "if x < 0:\n",
    "    print(\"negative\")\n",
    "elif x == 0:\n",
    "    pass\n",
    "else:\n",
    "    print(\"positive\")"
   ]
  },
  {
   "cell_type": "markdown",
   "id": "29a33e8e",
   "metadata": {},
   "source": [
    "#### range"
   ]
  },
  {
   "cell_type": "markdown",
   "id": "a7301426",
   "metadata": {},
   "source": [
    "range functions returns a sequence of evenly spaced integers."
   ]
  },
  {
   "cell_type": "code",
   "execution_count": 115,
   "id": "1c219fd8",
   "metadata": {},
   "outputs": [
    {
     "data": {
      "text/plain": [
       "range(0, 10)"
      ]
     },
     "execution_count": 115,
     "metadata": {},
     "output_type": "execute_result"
    }
   ],
   "source": [
    "range(10)"
   ]
  },
  {
   "cell_type": "code",
   "execution_count": 116,
   "id": "79a5b39a",
   "metadata": {},
   "outputs": [
    {
     "data": {
      "text/plain": [
       "[0, 1, 2, 3, 4, 5, 6, 7, 8, 9]"
      ]
     },
     "execution_count": 116,
     "metadata": {},
     "output_type": "execute_result"
    }
   ],
   "source": [
    "list(range(10))"
   ]
  },
  {
   "cell_type": "markdown",
   "id": "f0affc1b",
   "metadata": {},
   "source": [
    "The syntax for range function is:"
   ]
  },
  {
   "cell_type": "raw",
   "id": "a0a8d381",
   "metadata": {},
   "source": [
    "range(start, stop, step)"
   ]
  },
  {
   "cell_type": "markdown",
   "id": "1d863b7e",
   "metadata": {},
   "source": [
    "By default, passing single arguement is the stop. where start and step are optional."
   ]
  },
  {
   "cell_type": "code",
   "execution_count": 118,
   "id": "d822ddb8",
   "metadata": {},
   "outputs": [
    {
     "data": {
      "text/plain": [
       "[10, 12, 14, 16, 18]"
      ]
     },
     "execution_count": 118,
     "metadata": {},
     "output_type": "execute_result"
    }
   ],
   "source": [
    "list(range(10, 20, 2))"
   ]
  },
  {
   "cell_type": "markdown",
   "id": "0b2ab33f",
   "metadata": {},
   "source": [
    "The upper limit or the stop is always excluded. "
   ]
  },
  {
   "cell_type": "markdown",
   "id": "abe7e849",
   "metadata": {},
   "source": [
    "***"
   ]
  },
  {
   "cell_type": "markdown",
   "id": "269248c0",
   "metadata": {},
   "source": [
    "__<span style=\"font-size:16px\">Ternary expressions</span>__"
   ]
  },
  {
   "cell_type": "markdown",
   "id": "e70a1595",
   "metadata": {},
   "source": [
    "A expression that combines or incorporates the if-else block of code that produces a value into single line or expression is knowns as ternary expressions. The syntax of it is:"
   ]
  },
  {
   "cell_type": "raw",
   "id": "9e5793ba",
   "metadata": {},
   "source": [
    "value = true-expr if condition else false-expr"
   ]
  },
  {
   "cell_type": "markdown",
   "id": "9aa36325",
   "metadata": {},
   "source": [
    "Example:"
   ]
  },
  {
   "cell_type": "code",
   "execution_count": 122,
   "id": "31587545",
   "metadata": {},
   "outputs": [],
   "source": [
    "x = 5"
   ]
  },
  {
   "cell_type": "code",
   "execution_count": 123,
   "id": "9160ffc4",
   "metadata": {},
   "outputs": [
    {
     "data": {
      "text/plain": [
       "'positive number'"
      ]
     },
     "execution_count": 123,
     "metadata": {},
     "output_type": "execute_result"
    }
   ],
   "source": [
    "'positive number' if x > 0 else 'negative number'"
   ]
  },
  {
   "cell_type": "code",
   "execution_count": null,
   "id": "335c8c12",
   "metadata": {},
   "outputs": [],
   "source": []
  }
 ],
 "metadata": {
  "kernelspec": {
   "display_name": "Python 3",
   "language": "python",
   "name": "python3"
  },
  "language_info": {
   "codemirror_mode": {
    "name": "ipython",
    "version": 3
   },
   "file_extension": ".py",
   "mimetype": "text/x-python",
   "name": "python",
   "nbconvert_exporter": "python",
   "pygments_lexer": "ipython3",
   "version": "3.8.8"
  }
 },
 "nbformat": 4,
 "nbformat_minor": 5
}
