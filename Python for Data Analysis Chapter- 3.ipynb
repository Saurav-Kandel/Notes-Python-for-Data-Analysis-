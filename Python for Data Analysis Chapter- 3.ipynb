{
 "cells": [
  {
   "cell_type": "markdown",
   "id": "3b4f877d",
   "metadata": {},
   "source": [
    "# Notes for Chapter 3:"
   ]
  },
  {
   "cell_type": "markdown",
   "id": "2839101a",
   "metadata": {},
   "source": [
    "# Built-in Data Structures, Functions, and Files"
   ]
  },
  {
   "cell_type": "markdown",
   "id": "2f784e2c",
   "metadata": {},
   "source": [
    "***"
   ]
  },
  {
   "cell_type": "markdown",
   "id": "88acd709",
   "metadata": {},
   "source": [
    "## 1. Data Structures and Sequences"
   ]
  },
  {
   "cell_type": "markdown",
   "id": "a921f5ab",
   "metadata": {},
   "source": [
    "### Tuple"
   ]
  },
  {
   "cell_type": "markdown",
   "id": "5342735b",
   "metadata": {},
   "source": [
    "A tuple is a immutable, fixed-length python in-built sequence. creating tuples:-"
   ]
  },
  {
   "cell_type": "code",
   "execution_count": 1,
   "id": "e84a2a1f",
   "metadata": {},
   "outputs": [],
   "source": [
    "tup = 1, 2, 3"
   ]
  },
  {
   "cell_type": "code",
   "execution_count": 2,
   "id": "b21a07c5",
   "metadata": {},
   "outputs": [
    {
     "data": {
      "text/plain": [
       "(1, 2, 3)"
      ]
     },
     "execution_count": 2,
     "metadata": {},
     "output_type": "execute_result"
    }
   ],
   "source": [
    "tup"
   ]
  },
  {
   "cell_type": "markdown",
   "id": "36abee8b",
   "metadata": {},
   "source": [
    "It is most basic way of creating tuple. but it is a good pratice to always use parentheses to create tuple either basic or complex."
   ]
  },
  {
   "cell_type": "code",
   "execution_count": 3,
   "id": "123d8d5c",
   "metadata": {},
   "outputs": [],
   "source": [
    "a_tup = (4, 5, 6)\n",
    "\n",
    "nested_tup = ((1, 2, 3), (4, 5, 6))"
   ]
  },
  {
   "cell_type": "code",
   "execution_count": 4,
   "id": "685102a9",
   "metadata": {},
   "outputs": [
    {
     "data": {
      "text/plain": [
       "(4, 5, 6)"
      ]
     },
     "execution_count": 4,
     "metadata": {},
     "output_type": "execute_result"
    }
   ],
   "source": [
    "a_tup"
   ]
  },
  {
   "cell_type": "code",
   "execution_count": 5,
   "id": "370817a4",
   "metadata": {},
   "outputs": [
    {
     "data": {
      "text/plain": [
       "((1, 2, 3), (4, 5, 6))"
      ]
     },
     "execution_count": 5,
     "metadata": {},
     "output_type": "execute_result"
    }
   ],
   "source": [
    "nested_tup"
   ]
  },
  {
   "cell_type": "code",
   "execution_count": 6,
   "id": "fb16327e",
   "metadata": {},
   "outputs": [
    {
     "data": {
      "text/plain": [
       "tuple"
      ]
     },
     "execution_count": 6,
     "metadata": {},
     "output_type": "execute_result"
    }
   ],
   "source": [
    "type(nested_tup)"
   ]
  },
  {
   "cell_type": "markdown",
   "id": "7c91993b",
   "metadata": {},
   "source": [
    "***"
   ]
  },
  {
   "cell_type": "markdown",
   "id": "5b74442d",
   "metadata": {},
   "source": [
    "Furthermore, __tuple__ keyword can be used to convert any sequence to tuple."
   ]
  },
  {
   "cell_type": "code",
   "execution_count": 8,
   "id": "3afa6c6e",
   "metadata": {},
   "outputs": [
    {
     "data": {
      "text/plain": [
       "(4, 0, 2)"
      ]
     },
     "execution_count": 8,
     "metadata": {},
     "output_type": "execute_result"
    }
   ],
   "source": [
    "tuple([4, 0, 2])"
   ]
  },
  {
   "cell_type": "code",
   "execution_count": 11,
   "id": "1e575353",
   "metadata": {},
   "outputs": [],
   "source": [
    "tup = tuple('Hello')"
   ]
  },
  {
   "cell_type": "code",
   "execution_count": 12,
   "id": "fbf503be",
   "metadata": {},
   "outputs": [
    {
     "data": {
      "text/plain": [
       "('H', 'e', 'l', 'l', 'o')"
      ]
     },
     "execution_count": 12,
     "metadata": {},
     "output_type": "execute_result"
    }
   ],
   "source": [
    "tup"
   ]
  },
  {
   "cell_type": "code",
   "execution_count": 13,
   "id": "fd79c81e",
   "metadata": {},
   "outputs": [
    {
     "data": {
      "text/plain": [
       "'H'"
      ]
     },
     "execution_count": 13,
     "metadata": {},
     "output_type": "execute_result"
    }
   ],
   "source": [
    "tup[0]"
   ]
  },
  {
   "cell_type": "markdown",
   "id": "ce95f616",
   "metadata": {},
   "source": [
    "Elements inside a tuple can be accessed with index starting at 0, as with most other sequences."
   ]
  },
  {
   "cell_type": "markdown",
   "id": "0d421430",
   "metadata": {},
   "source": [
    "***"
   ]
  },
  {
   "cell_type": "markdown",
   "id": "eac8e6d4",
   "metadata": {},
   "source": [
    "If an object stored inside a tuple is mutable, such as list, we can modify it in-place"
   ]
  },
  {
   "cell_type": "code",
   "execution_count": 3,
   "id": "4a5816be",
   "metadata": {},
   "outputs": [],
   "source": [
    "tup = ('hello', [1, 2], True)"
   ]
  },
  {
   "cell_type": "code",
   "execution_count": 4,
   "id": "9bc5578d",
   "metadata": {},
   "outputs": [],
   "source": [
    "tup[1].append(3)"
   ]
  },
  {
   "cell_type": "code",
   "execution_count": 5,
   "id": "453b8007",
   "metadata": {},
   "outputs": [
    {
     "data": {
      "text/plain": [
       "('hello', [1, 2, 3], True)"
      ]
     },
     "execution_count": 5,
     "metadata": {},
     "output_type": "execute_result"
    }
   ],
   "source": [
    "tup"
   ]
  },
  {
   "cell_type": "markdown",
   "id": "da6cd435",
   "metadata": {},
   "source": [
    "***"
   ]
  },
  {
   "cell_type": "markdown",
   "id": "4bb3bd3d",
   "metadata": {},
   "source": [
    "Tuple concatenation can be done by using __+__ sign."
   ]
  },
  {
   "cell_type": "code",
   "execution_count": 7,
   "id": "43cc6d51",
   "metadata": {},
   "outputs": [
    {
     "data": {
      "text/plain": [
       "(4, None, 'hello', 6, 0, 'bar')"
      ]
     },
     "execution_count": 7,
     "metadata": {},
     "output_type": "execute_result"
    }
   ],
   "source": [
    "(4, None, 'hello') + (6, 0) + ('bar',)"
   ]
  },
  {
   "cell_type": "markdown",
   "id": "48350edc",
   "metadata": {},
   "source": [
    "Multiplying tuple by an integer, as with lists, concatenates that many copies of the tuple."
   ]
  },
  {
   "cell_type": "code",
   "execution_count": 9,
   "id": "0b621c42",
   "metadata": {},
   "outputs": [
    {
     "data": {
      "text/plain": [
       "(1, 2, 1, 2, 1, 2, 1, 2)"
      ]
     },
     "execution_count": 9,
     "metadata": {},
     "output_type": "execute_result"
    }
   ],
   "source": [
    "(1, 2) * 4"
   ]
  },
  {
   "cell_type": "code",
   "execution_count": 10,
   "id": "7d4ed508",
   "metadata": {},
   "outputs": [
    {
     "data": {
      "text/plain": [
       "('hello', 'world', 'hello', 'world')"
      ]
     },
     "execution_count": 10,
     "metadata": {},
     "output_type": "execute_result"
    }
   ],
   "source": [
    "('hello', 'world') * 2"
   ]
  },
  {
   "cell_type": "markdown",
   "id": "fde4907a",
   "metadata": {},
   "source": [
    "Note that the objects themselves are not copied, only the references to them."
   ]
  },
  {
   "cell_type": "markdown",
   "id": "ea952a70",
   "metadata": {},
   "source": [
    "***"
   ]
  },
  {
   "cell_type": "markdown",
   "id": "4ac0fa9d",
   "metadata": {},
   "source": [
    "##### Unpacking tuples"
   ]
  },
  {
   "cell_type": "markdown",
   "id": "822c2015",
   "metadata": {},
   "source": [
    "Python will attempt to unpack the value on the right hand side of the equal sign, if a tuple like expression of variable is assigned."
   ]
  },
  {
   "cell_type": "code",
   "execution_count": 11,
   "id": "923b910b",
   "metadata": {},
   "outputs": [],
   "source": [
    "tup = (1, 2, 3)"
   ]
  },
  {
   "cell_type": "code",
   "execution_count": 12,
   "id": "b3a46528",
   "metadata": {},
   "outputs": [],
   "source": [
    "a, b, c = tup"
   ]
  },
  {
   "cell_type": "code",
   "execution_count": 13,
   "id": "6726324b",
   "metadata": {},
   "outputs": [
    {
     "data": {
      "text/plain": [
       "1"
      ]
     },
     "execution_count": 13,
     "metadata": {},
     "output_type": "execute_result"
    }
   ],
   "source": [
    "a"
   ]
  },
  {
   "cell_type": "markdown",
   "id": "da0c5386",
   "metadata": {},
   "source": [
    "###### Unpacking nested tuples"
   ]
  },
  {
   "cell_type": "code",
   "execution_count": 14,
   "id": "073f2741",
   "metadata": {},
   "outputs": [],
   "source": [
    "tup = 4, 5, (6, 7)"
   ]
  },
  {
   "cell_type": "code",
   "execution_count": 15,
   "id": "c8712909",
   "metadata": {},
   "outputs": [],
   "source": [
    "a, b, (c, d) = tup"
   ]
  },
  {
   "cell_type": "code",
   "execution_count": 16,
   "id": "5930a1f7",
   "metadata": {},
   "outputs": [
    {
     "data": {
      "text/plain": [
       "6"
      ]
     },
     "execution_count": 16,
     "metadata": {},
     "output_type": "execute_result"
    }
   ],
   "source": [
    "c"
   ]
  },
  {
   "cell_type": "code",
   "execution_count": 17,
   "id": "fd453e53",
   "metadata": {},
   "outputs": [
    {
     "data": {
      "text/plain": [
       "4"
      ]
     },
     "execution_count": 17,
     "metadata": {},
     "output_type": "execute_result"
    }
   ],
   "source": [
    "a"
   ]
  },
  {
   "cell_type": "markdown",
   "id": "df5e4194",
   "metadata": {},
   "source": [
    "###### Swapping in Python"
   ]
  },
  {
   "cell_type": "code",
   "execution_count": 18,
   "id": "448f8975",
   "metadata": {},
   "outputs": [],
   "source": [
    "a, b = 1, 2"
   ]
  },
  {
   "cell_type": "code",
   "execution_count": 19,
   "id": "4910ac08",
   "metadata": {},
   "outputs": [
    {
     "data": {
      "text/plain": [
       "1"
      ]
     },
     "execution_count": 19,
     "metadata": {},
     "output_type": "execute_result"
    }
   ],
   "source": [
    "a"
   ]
  },
  {
   "cell_type": "code",
   "execution_count": 20,
   "id": "f180eacc",
   "metadata": {},
   "outputs": [
    {
     "data": {
      "text/plain": [
       "2"
      ]
     },
     "execution_count": 20,
     "metadata": {},
     "output_type": "execute_result"
    }
   ],
   "source": [
    "b"
   ]
  },
  {
   "cell_type": "code",
   "execution_count": 21,
   "id": "ef2f4097",
   "metadata": {},
   "outputs": [],
   "source": [
    "b, a = a, b"
   ]
  },
  {
   "cell_type": "code",
   "execution_count": 22,
   "id": "67ef9feb",
   "metadata": {},
   "outputs": [
    {
     "data": {
      "text/plain": [
       "2"
      ]
     },
     "execution_count": 22,
     "metadata": {},
     "output_type": "execute_result"
    }
   ],
   "source": [
    "a"
   ]
  },
  {
   "cell_type": "code",
   "execution_count": 23,
   "id": "ea17d6b1",
   "metadata": {},
   "outputs": [
    {
     "data": {
      "text/plain": [
       "1"
      ]
     },
     "execution_count": 23,
     "metadata": {},
     "output_type": "execute_result"
    }
   ],
   "source": [
    "b"
   ]
  },
  {
   "cell_type": "markdown",
   "id": "f57d59a4",
   "metadata": {},
   "source": [
    "***"
   ]
  },
  {
   "cell_type": "markdown",
   "id": "28271d40",
   "metadata": {},
   "source": [
    "The Python language recently acquired some more advanced tuple unpacking to help with situations where you may want to “pluck” a few elements from the beginning of a tuple. This uses the special syntax *rest, which is also used in function signatures to capture an arbitrarily long list of positional arguments:"
   ]
  },
  {
   "cell_type": "code",
   "execution_count": 24,
   "id": "02dee36c",
   "metadata": {},
   "outputs": [],
   "source": [
    "values = 1, 2, 3, 4, 5"
   ]
  },
  {
   "cell_type": "code",
   "execution_count": 25,
   "id": "42fe5f32",
   "metadata": {},
   "outputs": [],
   "source": [
    "a, b, *rest = values"
   ]
  },
  {
   "cell_type": "code",
   "execution_count": 26,
   "id": "22a94901",
   "metadata": {},
   "outputs": [
    {
     "data": {
      "text/plain": [
       "1"
      ]
     },
     "execution_count": 26,
     "metadata": {},
     "output_type": "execute_result"
    }
   ],
   "source": [
    "a"
   ]
  },
  {
   "cell_type": "code",
   "execution_count": 27,
   "id": "1bed1dcd",
   "metadata": {},
   "outputs": [
    {
     "data": {
      "text/plain": [
       "2"
      ]
     },
     "execution_count": 27,
     "metadata": {},
     "output_type": "execute_result"
    }
   ],
   "source": [
    "b"
   ]
  },
  {
   "cell_type": "code",
   "execution_count": 29,
   "id": "3eb67d0a",
   "metadata": {},
   "outputs": [
    {
     "data": {
      "text/plain": [
       "[3, 4, 5]"
      ]
     },
     "execution_count": 29,
     "metadata": {},
     "output_type": "execute_result"
    }
   ],
   "source": [
    "rest"
   ]
  },
  {
   "cell_type": "markdown",
   "id": "43b14153",
   "metadata": {},
   "source": [
    "The rest word is replaceable with any suitable name. The standard pratice of unwanted variables is usually (_) underscore."
   ]
  },
  {
   "cell_type": "code",
   "execution_count": 31,
   "id": "348ca53d",
   "metadata": {},
   "outputs": [],
   "source": [
    "a, b, *_ = values"
   ]
  },
  {
   "cell_type": "code",
   "execution_count": 32,
   "id": "8acd2ad5",
   "metadata": {},
   "outputs": [
    {
     "data": {
      "text/plain": [
       "[3, 4, 5]"
      ]
     },
     "execution_count": 32,
     "metadata": {},
     "output_type": "execute_result"
    }
   ],
   "source": [
    "_"
   ]
  },
  {
   "cell_type": "markdown",
   "id": "b65b11cd",
   "metadata": {},
   "source": [
    "***"
   ]
  },
  {
   "cell_type": "markdown",
   "id": "0ed98580",
   "metadata": {},
   "source": [
    "###### Tuple methods"
   ]
  },
  {
   "cell_type": "markdown",
   "id": "3226a4cf",
   "metadata": {},
   "source": [
    "tuple is immutable so, it does not have lot of methods to work with. but, a count method is highly useful that counts the number of occurence of a value"
   ]
  },
  {
   "cell_type": "code",
   "execution_count": 34,
   "id": "0f9b9aa6",
   "metadata": {},
   "outputs": [],
   "source": [
    "a = (1, 2, 3, 4, 2, 6, 1, 7, 9)"
   ]
  },
  {
   "cell_type": "code",
   "execution_count": 35,
   "id": "da409fa8",
   "metadata": {},
   "outputs": [
    {
     "data": {
      "text/plain": [
       "2"
      ]
     },
     "execution_count": 35,
     "metadata": {},
     "output_type": "execute_result"
    }
   ],
   "source": [
    "a.count(2)"
   ]
  },
  {
   "cell_type": "markdown",
   "id": "8c395c12",
   "metadata": {},
   "source": [
    "***"
   ]
  },
  {
   "cell_type": "markdown",
   "id": "8b0c0438",
   "metadata": {},
   "source": [
    "### List"
   ]
  },
  {
   "cell_type": "markdown",
   "id": "bbe58cb4",
   "metadata": {},
   "source": [
    "List are mutable and highly used in-built python sequence. list are defined using square brackets or using the list type function to convert objects to List."
   ]
  },
  {
   "cell_type": "code",
   "execution_count": 36,
   "id": "0b73e510",
   "metadata": {},
   "outputs": [],
   "source": [
    "a_list = [1, 2, 3, None]"
   ]
  },
  {
   "cell_type": "code",
   "execution_count": 38,
   "id": "46c09a6a",
   "metadata": {},
   "outputs": [],
   "source": [
    "tup = ('x', 'y', 'z')"
   ]
  },
  {
   "cell_type": "code",
   "execution_count": 39,
   "id": "c3f15309",
   "metadata": {},
   "outputs": [],
   "source": [
    "b_list = list(tup)"
   ]
  },
  {
   "cell_type": "code",
   "execution_count": 40,
   "id": "2b55af68",
   "metadata": {},
   "outputs": [
    {
     "data": {
      "text/plain": [
       "['x', 'y', 'z']"
      ]
     },
     "execution_count": 40,
     "metadata": {},
     "output_type": "execute_result"
    }
   ],
   "source": [
    "b_list"
   ]
  },
  {
   "cell_type": "code",
   "execution_count": 41,
   "id": "c7afa051",
   "metadata": {},
   "outputs": [],
   "source": [
    "b_list[0] = 'e'"
   ]
  },
  {
   "cell_type": "code",
   "execution_count": 42,
   "id": "901d88cf",
   "metadata": {},
   "outputs": [
    {
     "data": {
      "text/plain": [
       "['e', 'y', 'z']"
      ]
     },
     "execution_count": 42,
     "metadata": {},
     "output_type": "execute_result"
    }
   ],
   "source": [
    "b_list"
   ]
  },
  {
   "cell_type": "markdown",
   "id": "96464e9d",
   "metadata": {},
   "source": [
    "***"
   ]
  },
  {
   "cell_type": "markdown",
   "id": "0fd4a0d6",
   "metadata": {},
   "source": [
    "###### Adding and Removing Elements"
   ]
  },
  {
   "cell_type": "markdown",
   "id": "402fbbdf",
   "metadata": {},
   "source": [
    "append method is used to add the element at the end of the list."
   ]
  },
  {
   "cell_type": "code",
   "execution_count": 62,
   "id": "9e0bbb9f",
   "metadata": {},
   "outputs": [],
   "source": [
    "b_list.append('a')"
   ]
  },
  {
   "cell_type": "code",
   "execution_count": 63,
   "id": "4b859d60",
   "metadata": {},
   "outputs": [
    {
     "data": {
      "text/plain": [
       "['e', 'y', 'z', 'a']"
      ]
     },
     "execution_count": 63,
     "metadata": {},
     "output_type": "execute_result"
    }
   ],
   "source": [
    "b_list"
   ]
  },
  {
   "cell_type": "markdown",
   "id": "c329d635",
   "metadata": {},
   "source": [
    "Another method, insert can be used to insert an element in specific index in the list."
   ]
  },
  {
   "cell_type": "code",
   "execution_count": 66,
   "id": "f8754f22",
   "metadata": {},
   "outputs": [],
   "source": [
    "b_list.insert(0, 'x')"
   ]
  },
  {
   "cell_type": "code",
   "execution_count": 67,
   "id": "700a639f",
   "metadata": {},
   "outputs": [
    {
     "data": {
      "text/plain": [
       "['x', 'e', 'y', 'z', 'a']"
      ]
     },
     "execution_count": 67,
     "metadata": {},
     "output_type": "execute_result"
    }
   ],
   "source": [
    "b_list"
   ]
  },
  {
   "cell_type": "markdown",
   "id": "8a22bcad",
   "metadata": {},
   "source": [
    "pop method can be used to remove a specific element by specifying the index of element inside the list. This method returns the value removed."
   ]
  },
  {
   "cell_type": "code",
   "execution_count": 69,
   "id": "13bd5a0b",
   "metadata": {},
   "outputs": [
    {
     "data": {
      "text/plain": [
       "'e'"
      ]
     },
     "execution_count": 69,
     "metadata": {},
     "output_type": "execute_result"
    }
   ],
   "source": [
    "b_list.pop(1)"
   ]
  },
  {
   "cell_type": "code",
   "execution_count": 70,
   "id": "8da44778",
   "metadata": {},
   "outputs": [
    {
     "data": {
      "text/plain": [
       "['x', 'y', 'z', 'a']"
      ]
     },
     "execution_count": 70,
     "metadata": {},
     "output_type": "execute_result"
    }
   ],
   "source": [
    "b_list"
   ]
  },
  {
   "cell_type": "markdown",
   "id": "1d573ebf",
   "metadata": {},
   "source": [
    "Elements can also be removed using remove method, remove method removes the first such value specified ."
   ]
  },
  {
   "cell_type": "code",
   "execution_count": 72,
   "id": "56c1aa9d",
   "metadata": {},
   "outputs": [],
   "source": [
    "b_list.insert(0, 'a')"
   ]
  },
  {
   "cell_type": "code",
   "execution_count": 73,
   "id": "36ea146a",
   "metadata": {},
   "outputs": [
    {
     "data": {
      "text/plain": [
       "['a', 'x', 'y', 'z', 'a']"
      ]
     },
     "execution_count": 73,
     "metadata": {},
     "output_type": "execute_result"
    }
   ],
   "source": [
    "b_list"
   ]
  },
  {
   "cell_type": "code",
   "execution_count": 75,
   "id": "92a3ef95",
   "metadata": {},
   "outputs": [],
   "source": [
    "b_list.remove('a')"
   ]
  },
  {
   "cell_type": "code",
   "execution_count": 76,
   "id": "475b6206",
   "metadata": {},
   "outputs": [
    {
     "data": {
      "text/plain": [
       "['x', 'y', 'z', 'a']"
      ]
     },
     "execution_count": 76,
     "metadata": {},
     "output_type": "execute_result"
    }
   ],
   "source": [
    "b_list"
   ]
  },
  {
   "cell_type": "markdown",
   "id": "3fdd7fbf",
   "metadata": {},
   "source": [
    "Check if a list contains certain value or not:"
   ]
  },
  {
   "cell_type": "code",
   "execution_count": 77,
   "id": "b859b7cc",
   "metadata": {},
   "outputs": [
    {
     "data": {
      "text/plain": [
       "True"
      ]
     },
     "execution_count": 77,
     "metadata": {},
     "output_type": "execute_result"
    }
   ],
   "source": [
    "'a' in b_list"
   ]
  },
  {
   "cell_type": "code",
   "execution_count": 78,
   "id": "3204a43d",
   "metadata": {},
   "outputs": [
    {
     "data": {
      "text/plain": [
       "False"
      ]
     },
     "execution_count": 78,
     "metadata": {},
     "output_type": "execute_result"
    }
   ],
   "source": [
    "'hello' in b_list"
   ]
  },
  {
   "cell_type": "markdown",
   "id": "72aad6ac",
   "metadata": {},
   "source": [
    "Checking whether a list contains a value is a lot slower than doing so with dicts and\n",
    "sets (to be introduced shortly), as Python makes a linear scan across the values of the\n",
    "list, whereas it can check the others (based on hash tables) in constant time."
   ]
  },
  {
   "cell_type": "markdown",
   "id": "ea64d318",
   "metadata": {},
   "source": [
    "***"
   ]
  },
  {
   "cell_type": "markdown",
   "id": "ad937db2",
   "metadata": {},
   "source": [
    "###### Concatenating and Combining lists"
   ]
  },
  {
   "cell_type": "markdown",
   "id": "b8d8b2b1",
   "metadata": {},
   "source": [
    "__+__ sign is used to concatenate list in python. It is a straight forward approach. Beside this, __extend__ method can also be used to concatenate a list to another list."
   ]
  },
  {
   "cell_type": "code",
   "execution_count": 79,
   "id": "7d5bf13e",
   "metadata": {},
   "outputs": [
    {
     "data": {
      "text/plain": [
       "[1, 2, 3, 4, 5, 6]"
      ]
     },
     "execution_count": 79,
     "metadata": {},
     "output_type": "execute_result"
    }
   ],
   "source": [
    "[1, 2, 3] + [4, 5, 6]"
   ]
  },
  {
   "cell_type": "code",
   "execution_count": 80,
   "id": "7bc11c9b",
   "metadata": {},
   "outputs": [
    {
     "data": {
      "text/plain": [
       "['x', 'y', 'z', 'a']"
      ]
     },
     "execution_count": 80,
     "metadata": {},
     "output_type": "execute_result"
    }
   ],
   "source": [
    "b_list"
   ]
  },
  {
   "cell_type": "code",
   "execution_count": 81,
   "id": "c83bbf18",
   "metadata": {},
   "outputs": [
    {
     "data": {
      "text/plain": [
       "[1, 2, 3, None]"
      ]
     },
     "execution_count": 81,
     "metadata": {},
     "output_type": "execute_result"
    }
   ],
   "source": [
    "a_list"
   ]
  },
  {
   "cell_type": "code",
   "execution_count": 82,
   "id": "e8609707",
   "metadata": {},
   "outputs": [],
   "source": [
    "a_list.extend(b_list)"
   ]
  },
  {
   "cell_type": "code",
   "execution_count": 83,
   "id": "8a27a4b0",
   "metadata": {},
   "outputs": [
    {
     "data": {
      "text/plain": [
       "[1, 2, 3, None, 'x', 'y', 'z', 'a']"
      ]
     },
     "execution_count": 83,
     "metadata": {},
     "output_type": "execute_result"
    }
   ],
   "source": [
    "a_list"
   ]
  },
  {
   "cell_type": "markdown",
   "id": "28835815",
   "metadata": {},
   "source": [
    "<span style='color:red'>Note:</span>list concatenation by addition is a comparatively expensive operation since a new list must be created and the objects copied over. Using extend to append elements to an existing list, especially if you are building up a large list, is usually preferable."
   ]
  },
  {
   "cell_type": "markdown",
   "id": "6656bca7",
   "metadata": {},
   "source": [
    "***"
   ]
  },
  {
   "cell_type": "markdown",
   "id": "fccc53b9",
   "metadata": {},
   "source": [
    "###### Sorting"
   ]
  },
  {
   "cell_type": "markdown",
   "id": "683c3b5a",
   "metadata": {},
   "source": [
    "sort function can be used to sort a list."
   ]
  },
  {
   "cell_type": "code",
   "execution_count": 86,
   "id": "b9f2b98e",
   "metadata": {},
   "outputs": [],
   "source": [
    "a = [10, 8 , 9 , 6, 2, 4, 1, 5, 3 ]"
   ]
  },
  {
   "cell_type": "code",
   "execution_count": 87,
   "id": "e4221b41",
   "metadata": {},
   "outputs": [
    {
     "data": {
      "text/plain": [
       "[10, 8, 9, 6, 2, 4, 1, 5, 3]"
      ]
     },
     "execution_count": 87,
     "metadata": {},
     "output_type": "execute_result"
    }
   ],
   "source": [
    "a"
   ]
  },
  {
   "cell_type": "code",
   "execution_count": 88,
   "id": "9fe18eac",
   "metadata": {},
   "outputs": [],
   "source": [
    "a.sort()"
   ]
  },
  {
   "cell_type": "code",
   "execution_count": 89,
   "id": "068fb87e",
   "metadata": {},
   "outputs": [
    {
     "data": {
      "text/plain": [
       "[1, 2, 3, 4, 5, 6, 8, 9, 10]"
      ]
     },
     "execution_count": 89,
     "metadata": {},
     "output_type": "execute_result"
    }
   ],
   "source": [
    "a"
   ]
  },
  {
   "cell_type": "markdown",
   "id": "86954b4a",
   "metadata": {},
   "source": [
    "key is one of the feature that can be used in the sort function. for example:"
   ]
  },
  {
   "cell_type": "code",
   "execution_count": 92,
   "id": "40a24084",
   "metadata": {},
   "outputs": [],
   "source": [
    "b = ['i','Thank You', 'fine', 'am']"
   ]
  },
  {
   "cell_type": "code",
   "execution_count": 93,
   "id": "5eae8e00",
   "metadata": {},
   "outputs": [],
   "source": [
    "b.sort(key = len)"
   ]
  },
  {
   "cell_type": "code",
   "execution_count": 94,
   "id": "73f33117",
   "metadata": {},
   "outputs": [
    {
     "data": {
      "text/plain": [
       "['i', 'am', 'fine', 'Thank You']"
      ]
     },
     "execution_count": 94,
     "metadata": {},
     "output_type": "execute_result"
    }
   ],
   "source": [
    "b"
   ]
  },
  {
   "cell_type": "markdown",
   "id": "936869dc",
   "metadata": {},
   "source": [
    "***"
   ]
  },
  {
   "cell_type": "markdown",
   "id": "7141ceb6",
   "metadata": {},
   "source": [
    "###### Binary search and maintaining a sorted list"
   ]
  },
  {
   "cell_type": "markdown",
   "id": "b1204280",
   "metadata": {},
   "source": [
    "The built-in bisect module implements binary search and insertion into a sorted list. bisect.bisect finds the location where an element should be inserted to keep it sorted, while bisect.insort actually inserts the element into that location:"
   ]
  },
  {
   "cell_type": "code",
   "execution_count": 95,
   "id": "4eedfa35",
   "metadata": {},
   "outputs": [],
   "source": [
    "import bisect"
   ]
  },
  {
   "cell_type": "code",
   "execution_count": 104,
   "id": "d45ddbb7",
   "metadata": {},
   "outputs": [],
   "source": [
    "a_list = [1, 2, 3, 4, 5, 6, 7, 8, 9 , 10]"
   ]
  },
  {
   "cell_type": "code",
   "execution_count": 105,
   "id": "a5b5e9df",
   "metadata": {},
   "outputs": [
    {
     "data": {
      "text/plain": [
       "2"
      ]
     },
     "execution_count": 105,
     "metadata": {},
     "output_type": "execute_result"
    }
   ],
   "source": [
    "bisect.bisect(a_list, 2)"
   ]
  },
  {
   "cell_type": "code",
   "execution_count": 106,
   "id": "36fe9a51",
   "metadata": {},
   "outputs": [
    {
     "data": {
      "text/plain": [
       "9"
      ]
     },
     "execution_count": 106,
     "metadata": {},
     "output_type": "execute_result"
    }
   ],
   "source": [
    "bisect.bisect(a_list, 9)"
   ]
  },
  {
   "cell_type": "code",
   "execution_count": 107,
   "id": "922194de",
   "metadata": {},
   "outputs": [],
   "source": [
    "bisect.insort(a_list, 9)"
   ]
  },
  {
   "cell_type": "code",
   "execution_count": 108,
   "id": "e7ad9717",
   "metadata": {},
   "outputs": [
    {
     "data": {
      "text/plain": [
       "[1, 2, 3, 4, 5, 6, 7, 8, 9, 9, 10]"
      ]
     },
     "execution_count": 108,
     "metadata": {},
     "output_type": "execute_result"
    }
   ],
   "source": [
    "a_list"
   ]
  },
  {
   "cell_type": "markdown",
   "id": "2a9106c3",
   "metadata": {},
   "source": [
    "***"
   ]
  },
  {
   "cell_type": "markdown",
   "id": "0078a563",
   "metadata": {},
   "source": [
    "###### Slicing"
   ]
  },
  {
   "cell_type": "markdown",
   "id": "fdb9736a",
   "metadata": {},
   "source": [
    "Slicing is generally referred to picking specific set of elements by defining the start:stop range in a sequence."
   ]
  },
  {
   "cell_type": "code",
   "execution_count": 111,
   "id": "167481de",
   "metadata": {},
   "outputs": [],
   "source": [
    "seq = [5, 4, 3, 2, 1, 0]"
   ]
  },
  {
   "cell_type": "code",
   "execution_count": 112,
   "id": "20f842df",
   "metadata": {},
   "outputs": [
    {
     "data": {
      "text/plain": [
       "[4, 3]"
      ]
     },
     "execution_count": 112,
     "metadata": {},
     "output_type": "execute_result"
    }
   ],
   "source": [
    "seq[1:3]"
   ]
  },
  {
   "cell_type": "markdown",
   "id": "c3e68a70",
   "metadata": {},
   "source": [
    "slice of elements can also be specified to the sequence:"
   ]
  },
  {
   "cell_type": "code",
   "execution_count": 113,
   "id": "39263965",
   "metadata": {},
   "outputs": [],
   "source": [
    "seq[3:4] = ['a', 'b']"
   ]
  },
  {
   "cell_type": "code",
   "execution_count": 114,
   "id": "fa9f54a7",
   "metadata": {},
   "outputs": [
    {
     "data": {
      "text/plain": [
       "[5, 4, 3, 'a', 'b', 1, 0]"
      ]
     },
     "execution_count": 114,
     "metadata": {},
     "output_type": "execute_result"
    }
   ],
   "source": [
    "seq"
   ]
  },
  {
   "cell_type": "markdown",
   "id": "b6780762",
   "metadata": {},
   "source": [
    "The upper limit or stop limit is excluded is slicing."
   ]
  },
  {
   "cell_type": "markdown",
   "id": "3d2d3caa",
   "metadata": {},
   "source": [
    "either start or stop can be omitted, in the slicing "
   ]
  },
  {
   "cell_type": "code",
   "execution_count": 115,
   "id": "1599575a",
   "metadata": {},
   "outputs": [
    {
     "data": {
      "text/plain": [
       "[5, 4, 3, 'a', 'b', 1, 0]"
      ]
     },
     "execution_count": 115,
     "metadata": {},
     "output_type": "execute_result"
    }
   ],
   "source": [
    "seq"
   ]
  },
  {
   "cell_type": "code",
   "execution_count": 116,
   "id": "e8f2c663",
   "metadata": {},
   "outputs": [
    {
     "data": {
      "text/plain": [
       "[5, 4, 3, 'a']"
      ]
     },
     "execution_count": 116,
     "metadata": {},
     "output_type": "execute_result"
    }
   ],
   "source": [
    "seq[:4]"
   ]
  },
  {
   "cell_type": "code",
   "execution_count": 117,
   "id": "26b036d9",
   "metadata": {},
   "outputs": [
    {
     "data": {
      "text/plain": [
       "[4, 3, 'a', 'b', 1, 0]"
      ]
     },
     "execution_count": 117,
     "metadata": {},
     "output_type": "execute_result"
    }
   ],
   "source": [
    "seq[1:]"
   ]
  },
  {
   "cell_type": "markdown",
   "id": "80cb10fb",
   "metadata": {},
   "source": [
    "Furthermore, a step can also be used by specifying the step with double colon __::__"
   ]
  },
  {
   "cell_type": "code",
   "execution_count": 118,
   "id": "40f31a7d",
   "metadata": {},
   "outputs": [
    {
     "data": {
      "text/plain": [
       "[5, 3, 'b', 0]"
      ]
     },
     "execution_count": 118,
     "metadata": {},
     "output_type": "execute_result"
    }
   ],
   "source": [
    "seq[::2]"
   ]
  },
  {
   "cell_type": "code",
   "execution_count": 119,
   "id": "0b343523",
   "metadata": {},
   "outputs": [
    {
     "data": {
      "text/plain": [
       "[0, 1, 'b', 'a', 3, 4, 5]"
      ]
     },
     "execution_count": 119,
     "metadata": {},
     "output_type": "execute_result"
    }
   ],
   "source": [
    "seq[::-1]"
   ]
  },
  {
   "cell_type": "markdown",
   "id": "bac43fa0",
   "metadata": {},
   "source": [
    "***"
   ]
  },
  {
   "cell_type": "markdown",
   "id": "db717ef3",
   "metadata": {},
   "source": [
    "### Built-in Sequence Functions"
   ]
  },
  {
   "cell_type": "markdown",
   "id": "0de25d32",
   "metadata": {},
   "source": [
    "#### enumerate"
   ]
  },
  {
   "cell_type": "markdown",
   "id": "94e3b799",
   "metadata": {},
   "source": [
    "enumerate is a built-in python functions which returns a sequence of (i, value) tuples:"
   ]
  },
  {
   "cell_type": "code",
   "execution_count": null,
   "id": "44e99f35",
   "metadata": {},
   "outputs": [],
   "source": [
    "for i, value in enumerate(collection):\n",
    "    #do something with the value\n",
    "    # i refers to the index of the collection"
   ]
  },
  {
   "cell_type": "markdown",
   "id": "b075bf86",
   "metadata": {},
   "source": [
    "dict can be used along with enumerate function to keep the systematic track of index and value of any collection:"
   ]
  },
  {
   "cell_type": "code",
   "execution_count": 122,
   "id": "3732a1af",
   "metadata": {},
   "outputs": [],
   "source": [
    "some_list = ['He', 'is', 'tall']"
   ]
  },
  {
   "cell_type": "code",
   "execution_count": 134,
   "id": "f7355da8",
   "metadata": {},
   "outputs": [],
   "source": [
    "mapping = {}"
   ]
  },
  {
   "cell_type": "code",
   "execution_count": 135,
   "id": "529bcb02",
   "metadata": {},
   "outputs": [],
   "source": [
    "for i, value in enumerate(some_list):\n",
    "    mapping[i] = value"
   ]
  },
  {
   "cell_type": "code",
   "execution_count": 136,
   "id": "80a7c8e6",
   "metadata": {},
   "outputs": [
    {
     "data": {
      "text/plain": [
       "{0: 'He', 1: 'is', 2: 'tall'}"
      ]
     },
     "execution_count": 136,
     "metadata": {},
     "output_type": "execute_result"
    }
   ],
   "source": [
    "mapping"
   ]
  },
  {
   "cell_type": "markdown",
   "id": "40937e0d",
   "metadata": {},
   "source": [
    "***"
   ]
  },
  {
   "cell_type": "markdown",
   "id": "bfc5a8ff",
   "metadata": {},
   "source": [
    "###### sorted"
   ]
  },
  {
   "cell_type": "markdown",
   "id": "b683c76d",
   "metadata": {},
   "source": [
    "the __sorted__ function returns a new sorted list from the elements of any sequence:"
   ]
  },
  {
   "cell_type": "code",
   "execution_count": 137,
   "id": "cd417aa3",
   "metadata": {},
   "outputs": [
    {
     "data": {
      "text/plain": [
       "[1, 2, 3]"
      ]
     },
     "execution_count": 137,
     "metadata": {},
     "output_type": "execute_result"
    }
   ],
   "source": [
    "sorted([1, 2, 3])"
   ]
  },
  {
   "cell_type": "code",
   "execution_count": 138,
   "id": "91efeb5c",
   "metadata": {},
   "outputs": [],
   "source": [
    "a_list = ['volley', 'ball', 'xylophone', 'rex']"
   ]
  },
  {
   "cell_type": "code",
   "execution_count": 139,
   "id": "ebf00b29",
   "metadata": {},
   "outputs": [
    {
     "data": {
      "text/plain": [
       "['ball', 'rex', 'volley', 'xylophone']"
      ]
     },
     "execution_count": 139,
     "metadata": {},
     "output_type": "execute_result"
    }
   ],
   "source": [
    "sorted(a_list)"
   ]
  },
  {
   "cell_type": "code",
   "execution_count": 140,
   "id": "4c0098ca",
   "metadata": {},
   "outputs": [
    {
     "data": {
      "text/plain": [
       "['volley', 'ball', 'xylophone', 'rex']"
      ]
     },
     "execution_count": 140,
     "metadata": {},
     "output_type": "execute_result"
    }
   ],
   "source": [
    "a_list"
   ]
  },
  {
   "cell_type": "markdown",
   "id": "f5959913",
   "metadata": {},
   "source": [
    "The real object is unchanged; __sorted__ just returns a new sorted list unlike __sort__ which entirely change the sequence itself into sorted form."
   ]
  },
  {
   "cell_type": "markdown",
   "id": "72d84ea3",
   "metadata": {},
   "source": [
    "***"
   ]
  },
  {
   "cell_type": "markdown",
   "id": "0be74040",
   "metadata": {},
   "source": [
    "###### Zip"
   ]
  },
  {
   "cell_type": "markdown",
   "id": "ecf26115",
   "metadata": {},
   "source": [
    "zip pairs up the elements of numbers of any sequence to create a list of tuples:"
   ]
  },
  {
   "cell_type": "code",
   "execution_count": 141,
   "id": "a246cf0d",
   "metadata": {},
   "outputs": [],
   "source": [
    "seq1 = ['foo', 'bar', 'baz']"
   ]
  },
  {
   "cell_type": "code",
   "execution_count": 142,
   "id": "cb1c31d2",
   "metadata": {},
   "outputs": [],
   "source": [
    "seq2 = ['one', 'two', 'three']"
   ]
  },
  {
   "cell_type": "code",
   "execution_count": 143,
   "id": "c765ef93",
   "metadata": {},
   "outputs": [],
   "source": [
    "zipped = zip(seq1, seq2)"
   ]
  },
  {
   "cell_type": "code",
   "execution_count": 144,
   "id": "b9941f26",
   "metadata": {},
   "outputs": [
    {
     "data": {
      "text/plain": [
       "<zip at 0x1fd51fc0c80>"
      ]
     },
     "execution_count": 144,
     "metadata": {},
     "output_type": "execute_result"
    }
   ],
   "source": [
    "zipped"
   ]
  },
  {
   "cell_type": "code",
   "execution_count": 145,
   "id": "db9a155b",
   "metadata": {},
   "outputs": [
    {
     "data": {
      "text/plain": [
       "[('foo', 'one'), ('bar', 'two'), ('baz', 'three')]"
      ]
     },
     "execution_count": 145,
     "metadata": {},
     "output_type": "execute_result"
    }
   ],
   "source": [
    "list(zipped)"
   ]
  },
  {
   "cell_type": "markdown",
   "id": "1d83c649",
   "metadata": {},
   "source": [
    "zip can take an arbitrary number of sequences, and the number of elements it pro‐\n",
    "duces is determined by the shortest sequence:"
   ]
  },
  {
   "cell_type": "code",
   "execution_count": 146,
   "id": "dfd08837",
   "metadata": {},
   "outputs": [],
   "source": [
    "seq3 = [False, True]"
   ]
  },
  {
   "cell_type": "code",
   "execution_count": 147,
   "id": "40cf06b0",
   "metadata": {},
   "outputs": [
    {
     "data": {
      "text/plain": [
       "[('foo', 'one', False), ('bar', 'two', True)]"
      ]
     },
     "execution_count": 147,
     "metadata": {},
     "output_type": "execute_result"
    }
   ],
   "source": [
    "list(zip(seq1, seq2, seq3))"
   ]
  },
  {
   "cell_type": "markdown",
   "id": "b346c8cb",
   "metadata": {},
   "source": [
    "***"
   ]
  },
  {
   "cell_type": "markdown",
   "id": "fe134ea1",
   "metadata": {},
   "source": [
    "###### reversed"
   ]
  },
  {
   "cell_type": "markdown",
   "id": "f3e1e86f",
   "metadata": {},
   "source": [
    "reversed is a generator that iterates over the elements of a sequence in reverse order:"
   ]
  },
  {
   "cell_type": "code",
   "execution_count": 148,
   "id": "b9855d61",
   "metadata": {},
   "outputs": [
    {
     "data": {
      "text/plain": [
       "[9, 8, 7, 6, 5, 4, 3, 2, 1, 0]"
      ]
     },
     "execution_count": 148,
     "metadata": {},
     "output_type": "execute_result"
    }
   ],
   "source": [
    "list(reversed(range(10)))"
   ]
  },
  {
   "cell_type": "markdown",
   "id": "13517c38",
   "metadata": {},
   "source": [
    "***"
   ]
  },
  {
   "cell_type": "markdown",
   "id": "ba9eb4d9",
   "metadata": {},
   "source": [
    "### Dict"
   ]
  },
  {
   "cell_type": "markdown",
   "id": "d916f582",
   "metadata": {},
   "source": [
    "dict is another built-in python sequence. And one of the most important. It is also known as hash map or associative array. It is flexibly sized collection of key-value pairs, where key and value are python objects."
   ]
  },
  {
   "cell_type": "code",
   "execution_count": 149,
   "id": "6cd3a304",
   "metadata": {},
   "outputs": [],
   "source": [
    "empty_dict = {}"
   ]
  },
  {
   "cell_type": "code",
   "execution_count": 151,
   "id": "23388610",
   "metadata": {},
   "outputs": [],
   "source": [
    "d1 = {1: 'hello', 2: 'world', 'a': [1, 2, 3]}"
   ]
  },
  {
   "cell_type": "code",
   "execution_count": 152,
   "id": "19e822e7",
   "metadata": {},
   "outputs": [
    {
     "data": {
      "text/plain": [
       "{1: 'hello', 2: 'world', 'a': [1, 2, 3]}"
      ]
     },
     "execution_count": 152,
     "metadata": {},
     "output_type": "execute_result"
    }
   ],
   "source": [
    "d1"
   ]
  },
  {
   "cell_type": "markdown",
   "id": "9a93133f",
   "metadata": {},
   "source": [
    "we can use modifiers from list to dict as well:\n",
    "\n",
    "<br>\n",
    "<br>\n",
    "\n",
    "Furthermore, __keys__ and __values__ methods gives the dict's keys and values respectively."
   ]
  },
  {
   "cell_type": "code",
   "execution_count": 153,
   "id": "46a2c452",
   "metadata": {},
   "outputs": [
    {
     "data": {
      "text/plain": [
       "dict_keys([1, 2, 'a'])"
      ]
     },
     "execution_count": 153,
     "metadata": {},
     "output_type": "execute_result"
    }
   ],
   "source": [
    "d1.keys()"
   ]
  },
  {
   "cell_type": "code",
   "execution_count": 154,
   "id": "abd6da8b",
   "metadata": {},
   "outputs": [
    {
     "data": {
      "text/plain": [
       "dict_values(['hello', 'world', [1, 2, 3]])"
      ]
     },
     "execution_count": 154,
     "metadata": {},
     "output_type": "execute_result"
    }
   ],
   "source": [
    "d1.values()"
   ]
  },
  {
   "cell_type": "markdown",
   "id": "cabc79f0",
   "metadata": {},
   "source": [
    "__del__ and __pop__ method can be used to remove value from dict. for example:"
   ]
  },
  {
   "cell_type": "code",
   "execution_count": 155,
   "id": "b1f676f4",
   "metadata": {},
   "outputs": [],
   "source": [
    "d1['b'] = 'some value'"
   ]
  },
  {
   "cell_type": "code",
   "execution_count": 156,
   "id": "64253663",
   "metadata": {},
   "outputs": [
    {
     "data": {
      "text/plain": [
       "{1: 'hello', 2: 'world', 'a': [1, 2, 3], 'b': 'some value'}"
      ]
     },
     "execution_count": 156,
     "metadata": {},
     "output_type": "execute_result"
    }
   ],
   "source": [
    "d1"
   ]
  },
  {
   "cell_type": "code",
   "execution_count": 158,
   "id": "1bed63e0",
   "metadata": {},
   "outputs": [],
   "source": [
    "del d1['b']"
   ]
  },
  {
   "cell_type": "code",
   "execution_count": 159,
   "id": "289825a6",
   "metadata": {},
   "outputs": [
    {
     "data": {
      "text/plain": [
       "{1: 'hello', 2: 'world', 'a': [1, 2, 3]}"
      ]
     },
     "execution_count": 159,
     "metadata": {},
     "output_type": "execute_result"
    }
   ],
   "source": [
    "d1"
   ]
  },
  {
   "cell_type": "markdown",
   "id": "7a62e8a5",
   "metadata": {},
   "source": [
    "__pop__ returns the value removed."
   ]
  },
  {
   "cell_type": "code",
   "execution_count": 160,
   "id": "4740df02",
   "metadata": {},
   "outputs": [
    {
     "data": {
      "text/plain": [
       "[1, 2, 3]"
      ]
     },
     "execution_count": 160,
     "metadata": {},
     "output_type": "execute_result"
    }
   ],
   "source": [
    "d1.pop('a')"
   ]
  },
  {
   "cell_type": "code",
   "execution_count": 161,
   "id": "cc38fa8a",
   "metadata": {},
   "outputs": [
    {
     "data": {
      "text/plain": [
       "{1: 'hello', 2: 'world'}"
      ]
     },
     "execution_count": 161,
     "metadata": {},
     "output_type": "execute_result"
    }
   ],
   "source": [
    "d1"
   ]
  },
  {
   "cell_type": "markdown",
   "id": "b7bbfb28",
   "metadata": {},
   "source": [
    "__update__ method is used in dict to merge one dict to another."
   ]
  },
  {
   "cell_type": "code",
   "execution_count": 162,
   "id": "4e2ca35d",
   "metadata": {},
   "outputs": [],
   "source": [
    "d1.update({'b': 'foo', 'c': 12})"
   ]
  },
  {
   "cell_type": "code",
   "execution_count": 163,
   "id": "b5048393",
   "metadata": {},
   "outputs": [
    {
     "data": {
      "text/plain": [
       "{1: 'hello', 2: 'world', 'b': 'foo', 'c': 12}"
      ]
     },
     "execution_count": 163,
     "metadata": {},
     "output_type": "execute_result"
    }
   ],
   "source": [
    "d1"
   ]
  },
  {
   "cell_type": "code",
   "execution_count": 164,
   "id": "3a2b902e",
   "metadata": {},
   "outputs": [],
   "source": [
    "d1.update({1: 'Bye'})"
   ]
  },
  {
   "cell_type": "code",
   "execution_count": 165,
   "id": "3011e43f",
   "metadata": {},
   "outputs": [
    {
     "data": {
      "text/plain": [
       "{1: 'Bye', 2: 'world', 'b': 'foo', 'c': 12}"
      ]
     },
     "execution_count": 165,
     "metadata": {},
     "output_type": "execute_result"
    }
   ],
   "source": [
    "d1"
   ]
  },
  {
   "cell_type": "markdown",
   "id": "3fdc82bc",
   "metadata": {},
   "source": [
    "***"
   ]
  },
  {
   "cell_type": "markdown",
   "id": "5437cab7",
   "metadata": {},
   "source": [
    "###### Creating dicts from sequences"
   ]
  },
  {
   "cell_type": "markdown",
   "id": "2f570e2c",
   "metadata": {},
   "source": [
    "Since a dict is essentially a collection of 2-tuples, the dict function accepts a list of\n",
    "2-tuples:"
   ]
  },
  {
   "cell_type": "code",
   "execution_count": null,
   "id": "bb0254c8",
   "metadata": {},
   "outputs": [],
   "source": [
    "mapping = {}\n",
    "for key, value in zip(key_list, value_list):\n",
    "    mapping[key] = value"
   ]
  },
  {
   "cell_type": "code",
   "execution_count": 169,
   "id": "fc3338b2",
   "metadata": {},
   "outputs": [],
   "source": [
    "mapping = dict(zip(range(5), reversed(range(5))))"
   ]
  },
  {
   "cell_type": "code",
   "execution_count": 170,
   "id": "68da7696",
   "metadata": {},
   "outputs": [
    {
     "data": {
      "text/plain": [
       "{0: 4, 1: 3, 2: 2, 3: 1, 4: 0}"
      ]
     },
     "execution_count": 170,
     "metadata": {},
     "output_type": "execute_result"
    }
   ],
   "source": [
    "mapping"
   ]
  },
  {
   "cell_type": "markdown",
   "id": "21972087",
   "metadata": {},
   "source": [
    "***"
   ]
  },
  {
   "cell_type": "markdown",
   "id": "69b8ee72",
   "metadata": {},
   "source": [
    "###### Valid dict key types"
   ]
  },
  {
   "cell_type": "markdown",
   "id": "cdcaac12",
   "metadata": {},
   "source": [
    "While the values of a dict can be any Python object, the keys generally have to be immutable objects like scalar types (int, float, string) or tuples (all the objects in the tuple need to be immutable, too). The technical term for this is hashability. An objects hashability can be checked with __hash__ function"
   ]
  },
  {
   "cell_type": "code",
   "execution_count": 171,
   "id": "839d7624",
   "metadata": {},
   "outputs": [
    {
     "data": {
      "text/plain": [
       "-7051824215975767429"
      ]
     },
     "execution_count": 171,
     "metadata": {},
     "output_type": "execute_result"
    }
   ],
   "source": [
    "hash('hello world')"
   ]
  },
  {
   "cell_type": "code",
   "execution_count": 172,
   "id": "641ec35a",
   "metadata": {},
   "outputs": [
    {
     "data": {
      "text/plain": [
       "-9209053662355515447"
      ]
     },
     "execution_count": 172,
     "metadata": {},
     "output_type": "execute_result"
    }
   ],
   "source": [
    "hash((1, 2 , (2, 3)))"
   ]
  },
  {
   "cell_type": "code",
   "execution_count": 174,
   "id": "fdef590f",
   "metadata": {},
   "outputs": [
    {
     "ename": "TypeError",
     "evalue": "unhashable type: 'list'",
     "output_type": "error",
     "traceback": [
      "\u001b[1;31m---------------------------------------------------------------------------\u001b[0m",
      "\u001b[1;31mTypeError\u001b[0m                                 Traceback (most recent call last)",
      "\u001b[1;32m<ipython-input-174-15f5b86d850d>\u001b[0m in \u001b[0;36m<module>\u001b[1;34m\u001b[0m\n\u001b[1;32m----> 1\u001b[1;33m \u001b[0mhash\u001b[0m\u001b[1;33m(\u001b[0m\u001b[1;33m[\u001b[0m\u001b[1;36m1\u001b[0m\u001b[1;33m,\u001b[0m \u001b[1;36m2\u001b[0m\u001b[1;33m]\u001b[0m\u001b[1;33m)\u001b[0m \u001b[1;31m# error because list are mutable.\u001b[0m\u001b[1;33m\u001b[0m\u001b[1;33m\u001b[0m\u001b[0m\n\u001b[0m",
      "\u001b[1;31mTypeError\u001b[0m: unhashable type: 'list'"
     ]
    }
   ],
   "source": [
    "hash([1, 2]) # error because list are mutable."
   ]
  },
  {
   "cell_type": "markdown",
   "id": "fce8efef",
   "metadata": {},
   "source": [
    "***"
   ]
  },
  {
   "cell_type": "markdown",
   "id": "1004183a",
   "metadata": {},
   "source": [
    "###### Default Values"
   ]
  },
  {
   "cell_type": "markdown",
   "id": "3b60070d",
   "metadata": {},
   "source": [
    "The dict methods __get__ and __pop__ can take a default value to be returned, so that the if-else block in __#sample 1__ below can be written as in __#sample 2__"
   ]
  },
  {
   "cell_type": "code",
   "execution_count": null,
   "id": "d6465766",
   "metadata": {},
   "outputs": [],
   "source": [
    "# sample 1\n",
    "\n",
    "if key in some_dict:\n",
    "    value = some_dict[key]\n",
    "else:\n",
    "    value = default_value"
   ]
  },
  {
   "cell_type": "code",
   "execution_count": null,
   "id": "52943cfe",
   "metadata": {},
   "outputs": [],
   "source": [
    "# sample 2\n",
    "\n",
    "value = some_dict.get(key, default_value)"
   ]
  },
  {
   "cell_type": "markdown",
   "id": "329c5084",
   "metadata": {},
   "source": [
    "***"
   ]
  },
  {
   "cell_type": "markdown",
   "id": "69015222",
   "metadata": {},
   "source": [
    "### set"
   ]
  },
  {
   "cell_type": "markdown",
   "id": "8f52965e",
   "metadata": {},
   "source": [
    "A set is an ordered collection of unique element. A set can be created either using __set__ function or passing set literal with curly braces. Sets are like dicts but keys only, no values."
   ]
  },
  {
   "cell_type": "code",
   "execution_count": 2,
   "id": "4f7bad35",
   "metadata": {},
   "outputs": [
    {
     "data": {
      "text/plain": [
       "{1, 2, 3, 4, 5}"
      ]
     },
     "execution_count": 2,
     "metadata": {},
     "output_type": "execute_result"
    }
   ],
   "source": [
    "set([1, 2, 3 , 4 , 4, 5])"
   ]
  },
  {
   "cell_type": "markdown",
   "id": "a06ca217",
   "metadata": {},
   "source": [
    "###### repeated values are not taken in set."
   ]
  },
  {
   "cell_type": "code",
   "execution_count": 5,
   "id": "e296eea3",
   "metadata": {},
   "outputs": [
    {
     "data": {
      "text/plain": [
       "{1, 2, 3, 4, 5}"
      ]
     },
     "execution_count": 5,
     "metadata": {},
     "output_type": "execute_result"
    }
   ],
   "source": [
    "{1, 2 , 2, 2, 3, 4, 4, 4, 5, 5,}"
   ]
  },
  {
   "cell_type": "markdown",
   "id": "7ccda477",
   "metadata": {},
   "source": [
    "***"
   ]
  },
  {
   "cell_type": "markdown",
   "id": "854f6f2b",
   "metadata": {},
   "source": [
    "Set is use specially as it allows mathematical set operations like union, intersection, difference and symmetric difference"
   ]
  },
  {
   "cell_type": "code",
   "execution_count": 6,
   "id": "f2224e3c",
   "metadata": {},
   "outputs": [],
   "source": [
    "a = {1, 2, 3, 4, 5}"
   ]
  },
  {
   "cell_type": "code",
   "execution_count": 7,
   "id": "a2715cd0",
   "metadata": {},
   "outputs": [],
   "source": [
    "b = {6, 7, 8, 2, 3, 9}"
   ]
  },
  {
   "cell_type": "code",
   "execution_count": 8,
   "id": "5e75fe34",
   "metadata": {},
   "outputs": [
    {
     "data": {
      "text/plain": [
       "{1, 2, 3, 4, 5, 6, 7, 8, 9}"
      ]
     },
     "execution_count": 8,
     "metadata": {},
     "output_type": "execute_result"
    }
   ],
   "source": [
    "a.union(b)"
   ]
  },
  {
   "cell_type": "code",
   "execution_count": 11,
   "id": "ad11054f",
   "metadata": {},
   "outputs": [
    {
     "data": {
      "text/plain": [
       "{1, 2, 3, 4, 5, 6, 7, 8, 9}"
      ]
     },
     "execution_count": 11,
     "metadata": {},
     "output_type": "execute_result"
    }
   ],
   "source": [
    "# symbolic representation of union\n",
    "\n",
    "a | b"
   ]
  },
  {
   "cell_type": "code",
   "execution_count": 12,
   "id": "e8cc8266",
   "metadata": {},
   "outputs": [
    {
     "data": {
      "text/plain": [
       "{2, 3}"
      ]
     },
     "execution_count": 12,
     "metadata": {},
     "output_type": "execute_result"
    }
   ],
   "source": [
    "a.intersection(b)"
   ]
  },
  {
   "cell_type": "code",
   "execution_count": 13,
   "id": "961145ce",
   "metadata": {},
   "outputs": [
    {
     "data": {
      "text/plain": [
       "{2, 3}"
      ]
     },
     "execution_count": 13,
     "metadata": {},
     "output_type": "execute_result"
    }
   ],
   "source": [
    "# symbolic representation of intersection\n",
    "\n",
    "a & b"
   ]
  },
  {
   "cell_type": "markdown",
   "id": "7bbda9af",
   "metadata": {},
   "source": [
    "##### other useful function of set"
   ]
  },
  {
   "cell_type": "code",
   "execution_count": null,
   "id": "50f3ae37",
   "metadata": {},
   "outputs": [],
   "source": [
    "Function                  Alternative syntax               Description\n",
    "\n",
    "a.add(x)                           N/A          Add element x to the set a\n",
    "a.clear()                          N/A          Reset the set a to an empty state, discarding all of its elements\n",
    "\n",
    "a.remove(x)                        N/A          Remove element x from the set a\n",
    "a.pop()                            N/A          Remove arbitrary element from the set a, raising KeyError if the set is empty\n",
    " \n",
    "a.union(b)                         a | b        All of the unique elements in a and b\n",
    "a.update(b)                        a |= b       Set the contents of a to be the union of the elements in a and b\n",
    "\n",
    "a.intersection(b)                  a & b        All of the elements in both a and b\n",
    "a.intersection_update(b)           a &= b       Set the contents of a to be the intersection of theelements in a and b\n",
    "\n",
    "\n",
    "a.difference(b)                    a - b        The elements in a that are not in b\n",
    "a.difference_update(b)             a -= b       Set a to the elements in a that are not in b\n",
    "a.symmetric_difference(b)          a ^ b        All of the elements in either a or b but not both\n",
    "a.symmetric_difference_update(b)   a ^= b       Set a to contain the elements in either a or b but not both\n",
    "\n",
    "\n",
    "a.issubset(b)                      N/A          True if the elements of a are all contained in b\n",
    "a.issuperset(b)                    N/A          True if the elements of b are all contained in a\n",
    "a.isdisjoint(b)                    N/A          True if a and b have no elements in common\n",
    "\n"
   ]
  },
  {
   "cell_type": "code",
   "execution_count": 14,
   "id": "525523be",
   "metadata": {},
   "outputs": [],
   "source": [
    "# copy element of a set to another\n",
    "\n",
    "c = a.copy()"
   ]
  },
  {
   "cell_type": "code",
   "execution_count": 15,
   "id": "54070402",
   "metadata": {},
   "outputs": [
    {
     "data": {
      "text/plain": [
       "{1, 2, 3, 4, 5}"
      ]
     },
     "execution_count": 15,
     "metadata": {},
     "output_type": "execute_result"
    }
   ],
   "source": [
    "c"
   ]
  },
  {
   "cell_type": "markdown",
   "id": "58cefd48",
   "metadata": {},
   "source": [
    "we can check if a set is subset of or a superset of another set:"
   ]
  },
  {
   "cell_type": "code",
   "execution_count": 17,
   "id": "c5d123d3",
   "metadata": {},
   "outputs": [],
   "source": [
    "a_set = {1, 2, 3, 4, 5}"
   ]
  },
  {
   "cell_type": "code",
   "execution_count": 18,
   "id": "de40b995",
   "metadata": {},
   "outputs": [
    {
     "data": {
      "text/plain": [
       "True"
      ]
     },
     "execution_count": 18,
     "metadata": {},
     "output_type": "execute_result"
    }
   ],
   "source": [
    "{1, 2, 3}.issubset(a_set)"
   ]
  },
  {
   "cell_type": "code",
   "execution_count": 19,
   "id": "29c2630c",
   "metadata": {},
   "outputs": [
    {
     "data": {
      "text/plain": [
       "True"
      ]
     },
     "execution_count": 19,
     "metadata": {},
     "output_type": "execute_result"
    }
   ],
   "source": [
    "a_set.issuperset({1, 2, 3})"
   ]
  },
  {
   "cell_type": "markdown",
   "id": "43d2adf1",
   "metadata": {},
   "source": [
    "<span style='color:red'>Note:</span> Sets are equal only if their contents are equal:"
   ]
  },
  {
   "cell_type": "code",
   "execution_count": 21,
   "id": "a024cb28",
   "metadata": {},
   "outputs": [
    {
     "data": {
      "text/plain": [
       "True"
      ]
     },
     "execution_count": 21,
     "metadata": {},
     "output_type": "execute_result"
    }
   ],
   "source": [
    "{1, 2, 3} == {1, 2, 3}"
   ]
  },
  {
   "cell_type": "markdown",
   "id": "e3bb3048",
   "metadata": {},
   "source": [
    "***"
   ]
  },
  {
   "cell_type": "markdown",
   "id": "48c9a6c0",
   "metadata": {},
   "source": [
    "### List, set and Dict Comprehensions"
   ]
  },
  {
   "cell_type": "markdown",
   "id": "54a795dd",
   "metadata": {},
   "source": [
    "List comprehensions in python allows to concisely form a new list by filtering the elements of a collection, transforming the elements passing the filter in once concise expression."
   ]
  },
  {
   "cell_type": "markdown",
   "id": "4afb89f2",
   "metadata": {},
   "source": [
    "[expr for value in collection if condition]"
   ]
  },
  {
   "cell_type": "code",
   "execution_count": null,
   "id": "6fbd7d20",
   "metadata": {},
   "outputs": [],
   "source": [
    "# The syntax above is equivalent to the following for loop:\n",
    "\n",
    "result = []\n",
    "for value in collection:\n",
    "    if condition:\n",
    "        result.append(expr)"
   ]
  },
  {
   "cell_type": "markdown",
   "id": "56defeb8",
   "metadata": {},
   "source": [
    "The filter condition can be omitted, leaving only the expression. For example, given a list of strings, we could filter out strings with length 2 or less and also convert them to uppercase like this:\n"
   ]
  },
  {
   "cell_type": "code",
   "execution_count": 22,
   "id": "379ff813",
   "metadata": {},
   "outputs": [],
   "source": [
    "strings = ['a', 'as', 'bat', 'hello', 'nice', 'trick']"
   ]
  },
  {
   "cell_type": "code",
   "execution_count": 23,
   "id": "57571f9d",
   "metadata": {},
   "outputs": [
    {
     "data": {
      "text/plain": [
       "['BAT', 'HELLO', 'NICE', 'TRICK']"
      ]
     },
     "execution_count": 23,
     "metadata": {},
     "output_type": "execute_result"
    }
   ],
   "source": [
    "[x.upper() for x in strings if len(x)>2]"
   ]
  },
  {
   "cell_type": "markdown",
   "id": "505dc97a",
   "metadata": {},
   "source": [
    "Similarly, __dict comprehensions__:"
   ]
  },
  {
   "cell_type": "code",
   "execution_count": null,
   "id": "fe55c2ff",
   "metadata": {},
   "outputs": [],
   "source": [
    "dict_comp = {key-expr : value-expr for value in collection if condition}"
   ]
  },
  {
   "cell_type": "markdown",
   "id": "e4978351",
   "metadata": {},
   "source": [
    "__set comprehensions__:"
   ]
  },
  {
   "cell_type": "code",
   "execution_count": null,
   "id": "53aaa295",
   "metadata": {},
   "outputs": [],
   "source": [
    "set_comp = {expr for value in collection if condition}"
   ]
  },
  {
   "cell_type": "markdown",
   "id": "1d2865b3",
   "metadata": {},
   "source": [
    "###### Nested List Comprehensions"
   ]
  },
  {
   "cell_type": "code",
   "execution_count": 25,
   "id": "771c20ed",
   "metadata": {},
   "outputs": [],
   "source": [
    "all_data = [['John', 'Emily', 'Michael', 'Mary', 'Steven'], ['Maria', 'Juan', 'Javier', 'Natalia', 'Pilar']]"
   ]
  },
  {
   "cell_type": "markdown",
   "id": "447e2eb7",
   "metadata": {},
   "source": [
    "suppose, this is a list with a lot of data of names; and we want to get a single list with all names with two or more e's in them. The for loop would be like this:"
   ]
  },
  {
   "cell_type": "code",
   "execution_count": null,
   "id": "3d20ae3f",
   "metadata": {},
   "outputs": [],
   "source": [
    "eNames = []\n",
    "for names in all_data:\n",
    "    enough_es = [name for name in names if name.count('e') >= 2]\n",
    "    eNames.extend(enough_es)"
   ]
  },
  {
   "cell_type": "markdown",
   "id": "ef2c4589",
   "metadata": {},
   "source": [
    "similary, the nested list compression would be:"
   ]
  },
  {
   "cell_type": "code",
   "execution_count": 26,
   "id": "368e0b78",
   "metadata": {},
   "outputs": [],
   "source": [
    "result = [name for names in all_data for name in names if name.count('e') >= 2]"
   ]
  },
  {
   "cell_type": "code",
   "execution_count": 28,
   "id": "97a016df",
   "metadata": {},
   "outputs": [
    {
     "data": {
      "text/plain": [
       "['Steven']"
      ]
     },
     "execution_count": 28,
     "metadata": {},
     "output_type": "execute_result"
    }
   ],
   "source": [
    "result"
   ]
  },
  {
   "cell_type": "markdown",
   "id": "dd18703b",
   "metadata": {},
   "source": [
    "***"
   ]
  },
  {
   "cell_type": "markdown",
   "id": "19522adc",
   "metadata": {},
   "source": [
    "## Functions"
   ]
  },
  {
   "cell_type": "markdown",
   "id": "42ea2cf1",
   "metadata": {},
   "source": [
    "Function in simple terms represent a block of code that is purposefully written to deal with a specific problem withtin the code. Defining function makes the particular block of code reusable by calling it again and again if needed."
   ]
  },
  {
   "cell_type": "markdown",
   "id": "72cea621",
   "metadata": {},
   "source": [
    "Functions are declared with def keyword and returned from with retun key word:"
   ]
  },
  {
   "cell_type": "code",
   "execution_count": null,
   "id": "9f581c51",
   "metadata": {},
   "outputs": [],
   "source": [
    "def sample_function(x, y, z=1.5):\n",
    "    if z>1:\n",
    "        return z* (x+y)\n",
    "    else:\n",
    "        return z/ (x+y)"
   ]
  },
  {
   "cell_type": "markdown",
   "id": "1ec3422e",
   "metadata": {},
   "source": [
    "If python reaches the end of function without any return statement, then None is returned automatically. Furthermore, there is no issue with having mutliple return statements."
   ]
  },
  {
   "cell_type": "markdown",
   "id": "a6cfbc2b",
   "metadata": {},
   "source": [
    "Each function can have positional and keyword arguments. keyword argument are most commonly used to specify default values or optional arguments. "
   ]
  },
  {
   "cell_type": "code",
   "execution_count": null,
   "id": "f46f7be3",
   "metadata": {},
   "outputs": [],
   "source": [
    "sample_function (1, 2, z = 0.5)"
   ]
  },
  {
   "cell_type": "markdown",
   "id": "c71a08bc",
   "metadata": {},
   "source": [
    "In above example, z is the keyword argument and x and y are positional argument."
   ]
  },
  {
   "cell_type": "markdown",
   "id": "99e3b679",
   "metadata": {},
   "source": [
    "***"
   ]
  },
  {
   "cell_type": "markdown",
   "id": "8aa68a95",
   "metadata": {},
   "source": [
    "### Namespaces, Scope and Local Functions"
   ]
  },
  {
   "cell_type": "markdown",
   "id": "eeb32fcb",
   "metadata": {},
   "source": [
    "Functions can access variables in two scopes: global and local. An alternative and more descriptive name describing a variable scope in Python is name space. "
   ]
  },
  {
   "cell_type": "markdown",
   "id": "c1525ee8",
   "metadata": {},
   "source": [
    "Any variables that are assigned within a function by default are assigned to the local namespace. The local namespace is created when the function is called and immedi‐ately populated by the function’s arguments. After the function is finished, the local namespace is destroyed."
   ]
  },
  {
   "cell_type": "markdown",
   "id": "4a1eecc7",
   "metadata": {},
   "source": [
    "for example:"
   ]
  },
  {
   "cell_type": "code",
   "execution_count": 2,
   "id": "7a011d18",
   "metadata": {},
   "outputs": [],
   "source": [
    "def func():\n",
    "    a = []\n",
    "    for i in range(10):\n",
    "        a.append(i)\n"
   ]
  },
  {
   "cell_type": "markdown",
   "id": "56d68c59",
   "metadata": {},
   "source": [
    "When func() is called, the empty list a is created and then a is destroyed when the function exits. we can also declare variable outside the function like this:"
   ]
  },
  {
   "cell_type": "code",
   "execution_count": 4,
   "id": "d1585eae",
   "metadata": {},
   "outputs": [],
   "source": [
    "a = []\n",
    "def func():\n",
    "    for i in range(10):\n",
    "        a.append(i)\n",
    "    "
   ]
  },
  {
   "cell_type": "markdown",
   "id": "5067a9d6",
   "metadata": {},
   "source": [
    "***"
   ]
  },
  {
   "cell_type": "markdown",
   "id": "b973ba88",
   "metadata": {},
   "source": [
    "### Returning Multiple Values"
   ]
  },
  {
   "cell_type": "code",
   "execution_count": 5,
   "id": "9325b6ec",
   "metadata": {},
   "outputs": [],
   "source": [
    "def f():\n",
    "    a = 5\n",
    "    b = 6\n",
    "    c = 7\n",
    "    return a, b, c"
   ]
  },
  {
   "cell_type": "code",
   "execution_count": 6,
   "id": "a0382710",
   "metadata": {},
   "outputs": [],
   "source": [
    "a, b, c = f()"
   ]
  },
  {
   "cell_type": "code",
   "execution_count": 7,
   "id": "fb2169c6",
   "metadata": {},
   "outputs": [],
   "source": [
    "return_value = f()"
   ]
  },
  {
   "cell_type": "code",
   "execution_count": 8,
   "id": "ab70773c",
   "metadata": {},
   "outputs": [
    {
     "data": {
      "text/plain": [
       "5"
      ]
     },
     "execution_count": 8,
     "metadata": {},
     "output_type": "execute_result"
    }
   ],
   "source": [
    "a"
   ]
  },
  {
   "cell_type": "code",
   "execution_count": 9,
   "id": "98a18c70",
   "metadata": {},
   "outputs": [
    {
     "data": {
      "text/plain": [
       "6"
      ]
     },
     "execution_count": 9,
     "metadata": {},
     "output_type": "execute_result"
    }
   ],
   "source": [
    "b"
   ]
  },
  {
   "cell_type": "code",
   "execution_count": 10,
   "id": "8c7ecb69",
   "metadata": {},
   "outputs": [
    {
     "data": {
      "text/plain": [
       "7"
      ]
     },
     "execution_count": 10,
     "metadata": {},
     "output_type": "execute_result"
    }
   ],
   "source": [
    "c"
   ]
  },
  {
   "cell_type": "code",
   "execution_count": 11,
   "id": "20449bd6",
   "metadata": {},
   "outputs": [
    {
     "data": {
      "text/plain": [
       "(5, 6, 7)"
      ]
     },
     "execution_count": 11,
     "metadata": {},
     "output_type": "execute_result"
    }
   ],
   "source": [
    "return_value"
   ]
  },
  {
   "cell_type": "markdown",
   "id": "3215ae89",
   "metadata": {},
   "source": [
    "This is an example on how to return and retreive the multiple value."
   ]
  },
  {
   "cell_type": "markdown",
   "id": "869ab503",
   "metadata": {},
   "source": [
    "***"
   ]
  },
  {
   "cell_type": "markdown",
   "id": "26e0bcec",
   "metadata": {},
   "source": [
    "### Functions are objects"
   ]
  },
  {
   "cell_type": "markdown",
   "id": "20990ead",
   "metadata": {},
   "source": [
    "In python, functions are objects as they can be passed as argument in another function, can be stored in variable and capable of other task. lets take a list of strings with messy data and do data cleaning to demonstrate it well:"
   ]
  },
  {
   "cell_type": "code",
   "execution_count": 17,
   "id": "b9d97738",
   "metadata": {},
   "outputs": [],
   "source": [
    "states = [' Alabama ', 'Georgia!', 'Georgia', 'georgia', 'FlOrIda', 'south   carolina##', 'West virginia?']"
   ]
  },
  {
   "cell_type": "markdown",
   "id": "aaad9314",
   "metadata": {},
   "source": [
    "These data needs to be cleaned by: stripping whitecase, removing punctuation symbols and standardizing on proper capitalization. one way to do this is to use built-in string methods along with the __re__ standard library module for regular expressions:"
   ]
  },
  {
   "cell_type": "code",
   "execution_count": 18,
   "id": "b6301573",
   "metadata": {},
   "outputs": [],
   "source": [
    "import re"
   ]
  },
  {
   "cell_type": "code",
   "execution_count": 19,
   "id": "85fc2913",
   "metadata": {},
   "outputs": [],
   "source": [
    "def clean_strings(strings):\n",
    "    result = []\n",
    "    for value in strings:\n",
    "        value = value.strip()\n",
    "        value = re.sub('[!#?]', '', value)\n",
    "        value = value.title()\n",
    "        result.append(value)\n",
    "    return result\n"
   ]
  },
  {
   "cell_type": "code",
   "execution_count": 20,
   "id": "60d05790",
   "metadata": {},
   "outputs": [
    {
     "data": {
      "text/plain": [
       "['Alabama',\n",
       " 'Georgia',\n",
       " 'Georgia',\n",
       " 'Georgia',\n",
       " 'Florida',\n",
       " 'South   Carolina',\n",
       " 'West Virginia']"
      ]
     },
     "execution_count": 20,
     "metadata": {},
     "output_type": "execute_result"
    }
   ],
   "source": [
    "clean_strings(states)"
   ]
  },
  {
   "cell_type": "markdown",
   "id": "725e3253",
   "metadata": {},
   "source": [
    "Another approach for the same task would be to make a list of operations to apply to particular set of strings:"
   ]
  },
  {
   "cell_type": "code",
   "execution_count": 21,
   "id": "4ff695ae",
   "metadata": {},
   "outputs": [],
   "source": [
    "def remove_punctuation(value):\n",
    "    return re.sub('[!#?]', '', value)\n",
    "\n",
    "clean_ops = [str.strip, remove_punctuation, str.title]"
   ]
  },
  {
   "cell_type": "code",
   "execution_count": 23,
   "id": "9bf39c1b",
   "metadata": {},
   "outputs": [],
   "source": [
    "def clean_strings(strings, ops):\n",
    "    result = []\n",
    "    for value in strings:\n",
    "        for function in ops:\n",
    "            value = function(value)\n",
    "        result.append(value)\n",
    "    return result"
   ]
  },
  {
   "cell_type": "code",
   "execution_count": 24,
   "id": "04af664f",
   "metadata": {},
   "outputs": [
    {
     "data": {
      "text/plain": [
       "['Alabama',\n",
       " 'Georgia',\n",
       " 'Georgia',\n",
       " 'Georgia',\n",
       " 'Florida',\n",
       " 'South   Carolina',\n",
       " 'West Virginia']"
      ]
     },
     "execution_count": 24,
     "metadata": {},
     "output_type": "execute_result"
    }
   ],
   "source": [
    "clean_strings(states, clean_ops)"
   ]
  },
  {
   "cell_type": "markdown",
   "id": "f1ebdf8d",
   "metadata": {},
   "source": [
    "The 2nd approach makes it easy to modify how the strings are transformed at a very high level. The clean_strings functions is also now more reusable."
   ]
  },
  {
   "cell_type": "markdown",
   "id": "611aa3e3",
   "metadata": {},
   "source": [
    "***"
   ]
  },
  {
   "cell_type": "markdown",
   "id": "0c4b1eeb",
   "metadata": {},
   "source": [
    "### Anonymous (Lamda) Functions"
   ]
  },
  {
   "cell_type": "markdown",
   "id": "cd50412d",
   "metadata": {},
   "source": [
    "A way of writing functions consisting of single statement is known as anonymous or lamda functions in python. The result of such function is return value. They are defined with lambda keyword which signifies the declration of anonymous function:"
   ]
  },
  {
   "cell_type": "code",
   "execution_count": 25,
   "id": "54cd2582",
   "metadata": {},
   "outputs": [],
   "source": [
    "def short_function(x):\n",
    "    return x * 2"
   ]
  },
  {
   "cell_type": "code",
   "execution_count": 27,
   "id": "efd182c1",
   "metadata": {},
   "outputs": [],
   "source": [
    "euqiv_anon = lambda x: x * 2 "
   ]
  },
  {
   "cell_type": "markdown",
   "id": "097e37f9",
   "metadata": {},
   "source": [
    "lamda function are useful to be passed as argument for another function. for example:"
   ]
  },
  {
   "cell_type": "code",
   "execution_count": 28,
   "id": "b6183e04",
   "metadata": {},
   "outputs": [],
   "source": [
    "def apply_to_list(some_list, f):\n",
    "    return [f(x) for x in some_list]\n",
    "\n",
    "ints = [1, 2, 3, 4]"
   ]
  },
  {
   "cell_type": "code",
   "execution_count": 29,
   "id": "67e70948",
   "metadata": {},
   "outputs": [
    {
     "data": {
      "text/plain": [
       "[2, 4, 6, 8]"
      ]
     },
     "execution_count": 29,
     "metadata": {},
     "output_type": "execute_result"
    }
   ],
   "source": [
    "apply_to_list(ints, lambda x: x * 2)"
   ]
  },
  {
   "cell_type": "markdown",
   "id": "a57d5812",
   "metadata": {},
   "source": [
    "<span style='color:red'>Note:</span>"
   ]
  },
  {
   "cell_type": "markdown",
   "id": "6ea75041",
   "metadata": {},
   "source": [
    "One reason lambda functions are called anonymous functions is that , unlike functions declared with the def keyword, the function object itself is never given an explicit __name__ attribute."
   ]
  },
  {
   "cell_type": "markdown",
   "id": "58add75f",
   "metadata": {},
   "source": [
    "***"
   ]
  },
  {
   "cell_type": "markdown",
   "id": "3d44ec97",
   "metadata": {},
   "source": [
    "### Currying:Partial Argument Application"
   ]
  },
  {
   "cell_type": "markdown",
   "id": "8748f1b2",
   "metadata": {},
   "source": [
    "The procedure of deriving new functions from exiting ones by partial argument application is knowns as Currying. for example:"
   ]
  },
  {
   "cell_type": "code",
   "execution_count": 31,
   "id": "55656730",
   "metadata": {},
   "outputs": [],
   "source": [
    "def add_numbers(x, y):\n",
    "    return x + y"
   ]
  },
  {
   "cell_type": "markdown",
   "id": "58778fb6",
   "metadata": {},
   "source": [
    "We could derive a new function of one variable, add_five, that adds 5 to its argument:"
   ]
  },
  {
   "cell_type": "code",
   "execution_count": 32,
   "id": "c144d182",
   "metadata": {},
   "outputs": [],
   "source": [
    "add_five = lambda y: add_numbers(5, y)"
   ]
  },
  {
   "cell_type": "markdown",
   "id": "ce0c1ce0",
   "metadata": {},
   "source": [
    "We can simply this process using partial function from built-in functools module"
   ]
  },
  {
   "cell_type": "code",
   "execution_count": 35,
   "id": "e28c1697",
   "metadata": {},
   "outputs": [],
   "source": [
    "from functools import partial"
   ]
  },
  {
   "cell_type": "code",
   "execution_count": 36,
   "id": "fa7b3826",
   "metadata": {},
   "outputs": [],
   "source": [
    "add_five = partial (add_numbers, 5)"
   ]
  },
  {
   "cell_type": "markdown",
   "id": "8e3992bf",
   "metadata": {},
   "source": [
    "***"
   ]
  },
  {
   "cell_type": "markdown",
   "id": "0d76a5a1",
   "metadata": {},
   "source": [
    "### Generators"
   ]
  },
  {
   "cell_type": "markdown",
   "id": "34547d4e",
   "metadata": {},
   "source": [
    "A generator is a concise way to construct a new iterable object.  Whereas normal functions execute and return a single result at a time, generators return a sequence of multiple results, pausing after each one until the next one is requested. To create a generator, use the yeild keyword instead of return in a function:"
   ]
  },
  {
   "cell_type": "code",
   "execution_count": 38,
   "id": "bcd2aa84",
   "metadata": {},
   "outputs": [],
   "source": [
    "def squares(n = 10):\n",
    "    print('Generating squares from 0 to {0}'.format(n ** 2))\n",
    "    for i in range(1, n + 1):\n",
    "        yield i ** 2"
   ]
  },
  {
   "cell_type": "code",
   "execution_count": 43,
   "id": "2301b231",
   "metadata": {},
   "outputs": [
    {
     "data": {
      "text/plain": [
       "<generator object squares at 0x000002110A3F23C0>"
      ]
     },
     "execution_count": 43,
     "metadata": {},
     "output_type": "execute_result"
    }
   ],
   "source": [
    "gen = squares()\n",
    "\n",
    "gen"
   ]
  },
  {
   "cell_type": "code",
   "execution_count": 44,
   "id": "44285073",
   "metadata": {
    "scrolled": true
   },
   "outputs": [
    {
     "name": "stdout",
     "output_type": "stream",
     "text": [
      "Generating squares from 0 to 100\n",
      "1 4 9 16 25 36 49 64 81 100 "
     ]
    }
   ],
   "source": [
    "for x in gen:\n",
    "    print(x, end = ' ')"
   ]
  },
  {
   "cell_type": "markdown",
   "id": "f042e877",
   "metadata": {},
   "source": [
    "##### Generator expressions"
   ]
  },
  {
   "cell_type": "markdown",
   "id": "f99ccd0d",
   "metadata": {},
   "source": [
    "__generator expressions__ is another more concise way to make a generator. This is a generator analogue to list, dict, and set comprehensions; to create one, enclose what would otherwise be a list comprehension within parentheses instead of brackets:"
   ]
  },
  {
   "cell_type": "code",
   "execution_count": 51,
   "id": "c2a3a5b5",
   "metadata": {},
   "outputs": [],
   "source": [
    "gen = (x ** 2 for x in range(1, 11))"
   ]
  },
  {
   "cell_type": "code",
   "execution_count": 52,
   "id": "0dd73b94",
   "metadata": {},
   "outputs": [
    {
     "data": {
      "text/plain": [
       "<generator object <genexpr> at 0x000002110A3F2D60>"
      ]
     },
     "execution_count": 52,
     "metadata": {},
     "output_type": "execute_result"
    }
   ],
   "source": [
    "gen"
   ]
  },
  {
   "cell_type": "code",
   "execution_count": 53,
   "id": "f7156005",
   "metadata": {},
   "outputs": [
    {
     "data": {
      "text/plain": [
       "[1, 4, 9, 16, 25, 36, 49, 64, 81, 100]"
      ]
     },
     "execution_count": 53,
     "metadata": {},
     "output_type": "execute_result"
    }
   ],
   "source": [
    "list(gen)"
   ]
  },
  {
   "cell_type": "markdown",
   "id": "a31b8621",
   "metadata": {},
   "source": [
    "This is equivalent to the approach by defining the __squares__ generator above."
   ]
  },
  {
   "cell_type": "markdown",
   "id": "cc97c65d",
   "metadata": {},
   "source": [
    "##### itertools module"
   ]
  },
  {
   "cell_type": "markdown",
   "id": "160e839e",
   "metadata": {},
   "source": [
    "The standard library itertools module has a collection of generators for many common data algorithms. For example, groupby takes any sequence and a function, grouping consecutive elements in the sequence by return value of the function. For example:"
   ]
  },
  {
   "cell_type": "code",
   "execution_count": 54,
   "id": "3f828d9f",
   "metadata": {},
   "outputs": [],
   "source": [
    "import itertools"
   ]
  },
  {
   "cell_type": "code",
   "execution_count": 55,
   "id": "1d45a467",
   "metadata": {},
   "outputs": [],
   "source": [
    "first_letter = lambda x: x[0]"
   ]
  },
  {
   "cell_type": "code",
   "execution_count": 56,
   "id": "b634b068",
   "metadata": {},
   "outputs": [],
   "source": [
    "names = ['Alan', 'Adam', 'Wes', 'Will', 'Albert', 'Steven']"
   ]
  },
  {
   "cell_type": "code",
   "execution_count": 58,
   "id": "9904b56a",
   "metadata": {},
   "outputs": [
    {
     "name": "stdout",
     "output_type": "stream",
     "text": [
      "A ['Alan', 'Adam']\n",
      "W ['Wes', 'Will']\n",
      "A ['Albert']\n",
      "S ['Steven']\n"
     ]
    }
   ],
   "source": [
    "for letter, names in itertools.groupby(names, first_letter):\n",
    "    print(letter, list(names))"
   ]
  },
  {
   "cell_type": "markdown",
   "id": "d3dda46c",
   "metadata": {},
   "source": [
    "Some useful itertools functions:"
   ]
  },
  {
   "cell_type": "code",
   "execution_count": null,
   "id": "e44112db",
   "metadata": {},
   "outputs": [],
   "source": [
    "      Function                                                            Description\n",
    "\n",
    "combinations(iterable, k)             Generates a sequence of all possible k-tuples of elements in the iterable, ignoring order\n",
    "                                      and without replacement (see also the companion function combinations_with_replacement)\n",
    "\n",
    "permutations(iterable, k)             Generates a sequence of all possible k-tuples of elements in the iterable, respecting\n",
    "                                      order\n",
    "\n",
    "groupby(iterable[, keyfunc])          Generates (key, sub-iterator) for each unique key\n",
    "\n",
    "product(*iterables, repeat=1)         Generates the Cartesian product of the input iterables as tuples, similar to a nested for\n",
    "                                      loop\n"
   ]
  },
  {
   "cell_type": "markdown",
   "id": "25584c51",
   "metadata": {},
   "source": [
    "***"
   ]
  },
  {
   "cell_type": "markdown",
   "id": "8b5665da",
   "metadata": {},
   "source": [
    "### Errors and Exception Handling"
   ]
  },
  {
   "cell_type": "markdown",
   "id": "bbf53571",
   "metadata": {},
   "source": [
    "We can use try and except block of code to handle error and exception in python. for example a __float__ function coverts string into float, but fails with a __ValueError__ on improper inputs:"
   ]
  },
  {
   "cell_type": "code",
   "execution_count": 59,
   "id": "687a0925",
   "metadata": {},
   "outputs": [
    {
     "data": {
      "text/plain": [
       "1.3555"
      ]
     },
     "execution_count": 59,
     "metadata": {},
     "output_type": "execute_result"
    }
   ],
   "source": [
    "float('1.3555')"
   ]
  },
  {
   "cell_type": "code",
   "execution_count": 60,
   "id": "219b6516",
   "metadata": {},
   "outputs": [
    {
     "ename": "ValueError",
     "evalue": "could not convert string to float: 'hello world'",
     "output_type": "error",
     "traceback": [
      "\u001b[1;31m---------------------------------------------------------------------------\u001b[0m",
      "\u001b[1;31mValueError\u001b[0m                                Traceback (most recent call last)",
      "\u001b[1;32m<ipython-input-60-6af25d54cc02>\u001b[0m in \u001b[0;36m<module>\u001b[1;34m\u001b[0m\n\u001b[1;32m----> 1\u001b[1;33m \u001b[0mfloat\u001b[0m\u001b[1;33m(\u001b[0m\u001b[1;34m'hello world'\u001b[0m\u001b[1;33m)\u001b[0m\u001b[1;33m\u001b[0m\u001b[1;33m\u001b[0m\u001b[0m\n\u001b[0m",
      "\u001b[1;31mValueError\u001b[0m: could not convert string to float: 'hello world'"
     ]
    }
   ],
   "source": [
    "float('hello world')"
   ]
  },
  {
   "cell_type": "markdown",
   "id": "be63af3f",
   "metadata": {},
   "source": [
    "Suppose, we want to handle this error we can do it like so:"
   ]
  },
  {
   "cell_type": "code",
   "execution_count": 78,
   "id": "0dc30f45",
   "metadata": {},
   "outputs": [],
   "source": [
    "def attempt_float(x):\n",
    "    try:\n",
    "        return float(x)\n",
    "    except:\n",
    "        return (print('(', x,')', 'cannot be converted to float.'))"
   ]
  },
  {
   "cell_type": "code",
   "execution_count": 79,
   "id": "3528a52a",
   "metadata": {},
   "outputs": [
    {
     "data": {
      "text/plain": [
       "34.355"
      ]
     },
     "execution_count": 79,
     "metadata": {},
     "output_type": "execute_result"
    }
   ],
   "source": [
    "attempt_float('34.355')"
   ]
  },
  {
   "cell_type": "code",
   "execution_count": 80,
   "id": "dfc4ff56",
   "metadata": {},
   "outputs": [
    {
     "name": "stdout",
     "output_type": "stream",
     "text": [
      "( Hello World ) cannot be converted to float.\n"
     ]
    }
   ],
   "source": [
    "attempt_float('Hello World')"
   ]
  },
  {
   "cell_type": "markdown",
   "id": "dc853321",
   "metadata": {},
   "source": [
    "we can specify the specific error type to supress a specific error in the program. for example __float__ function has exceptions other than ValueError:"
   ]
  },
  {
   "cell_type": "code",
   "execution_count": 81,
   "id": "c3a498ec",
   "metadata": {},
   "outputs": [
    {
     "ename": "TypeError",
     "evalue": "float() argument must be a string or a number, not 'tuple'",
     "output_type": "error",
     "traceback": [
      "\u001b[1;31m---------------------------------------------------------------------------\u001b[0m",
      "\u001b[1;31mTypeError\u001b[0m                                 Traceback (most recent call last)",
      "\u001b[1;32m<ipython-input-81-82f777b0e564>\u001b[0m in \u001b[0;36m<module>\u001b[1;34m\u001b[0m\n\u001b[1;32m----> 1\u001b[1;33m \u001b[0mfloat\u001b[0m\u001b[1;33m(\u001b[0m\u001b[1;33m(\u001b[0m\u001b[1;36m1\u001b[0m\u001b[1;33m,\u001b[0m \u001b[1;36m2\u001b[0m\u001b[1;33m)\u001b[0m\u001b[1;33m)\u001b[0m\u001b[1;33m\u001b[0m\u001b[1;33m\u001b[0m\u001b[0m\n\u001b[0m",
      "\u001b[1;31mTypeError\u001b[0m: float() argument must be a string or a number, not 'tuple'"
     ]
    }
   ],
   "source": [
    "float((1, 2))"
   ]
  },
  {
   "cell_type": "markdown",
   "id": "71e7e688",
   "metadata": {},
   "source": [
    "Since, we want to supress only ValueError. We can do the following:"
   ]
  },
  {
   "cell_type": "code",
   "execution_count": 83,
   "id": "81d1a09d",
   "metadata": {},
   "outputs": [],
   "source": [
    "def attempt_float(x):\n",
    "    try:\n",
    "        return float(x)\n",
    "    except ValueError:\n",
    "        return (print('(', x,')', 'cannot be converted to float.'))"
   ]
  },
  {
   "cell_type": "code",
   "execution_count": 84,
   "id": "01ef4985",
   "metadata": {},
   "outputs": [
    {
     "ename": "TypeError",
     "evalue": "float() argument must be a string or a number, not 'tuple'",
     "output_type": "error",
     "traceback": [
      "\u001b[1;31m---------------------------------------------------------------------------\u001b[0m",
      "\u001b[1;31mTypeError\u001b[0m                                 Traceback (most recent call last)",
      "\u001b[1;32m<ipython-input-84-e11acb9916ee>\u001b[0m in \u001b[0;36m<module>\u001b[1;34m\u001b[0m\n\u001b[1;32m----> 1\u001b[1;33m \u001b[0mattempt_float\u001b[0m\u001b[1;33m(\u001b[0m\u001b[1;33m(\u001b[0m\u001b[1;36m2\u001b[0m\u001b[1;33m,\u001b[0m \u001b[1;36m1\u001b[0m\u001b[1;33m)\u001b[0m\u001b[1;33m)\u001b[0m\u001b[1;33m\u001b[0m\u001b[1;33m\u001b[0m\u001b[0m\n\u001b[0m",
      "\u001b[1;32m<ipython-input-83-0e15412441a8>\u001b[0m in \u001b[0;36mattempt_float\u001b[1;34m(x)\u001b[0m\n\u001b[0;32m      1\u001b[0m \u001b[1;32mdef\u001b[0m \u001b[0mattempt_float\u001b[0m\u001b[1;33m(\u001b[0m\u001b[0mx\u001b[0m\u001b[1;33m)\u001b[0m\u001b[1;33m:\u001b[0m\u001b[1;33m\u001b[0m\u001b[1;33m\u001b[0m\u001b[0m\n\u001b[0;32m      2\u001b[0m     \u001b[1;32mtry\u001b[0m\u001b[1;33m:\u001b[0m\u001b[1;33m\u001b[0m\u001b[1;33m\u001b[0m\u001b[0m\n\u001b[1;32m----> 3\u001b[1;33m         \u001b[1;32mreturn\u001b[0m \u001b[0mfloat\u001b[0m\u001b[1;33m(\u001b[0m\u001b[0mx\u001b[0m\u001b[1;33m)\u001b[0m\u001b[1;33m\u001b[0m\u001b[1;33m\u001b[0m\u001b[0m\n\u001b[0m\u001b[0;32m      4\u001b[0m     \u001b[1;32mexcept\u001b[0m \u001b[0mValueError\u001b[0m\u001b[1;33m:\u001b[0m\u001b[1;33m\u001b[0m\u001b[1;33m\u001b[0m\u001b[0m\n\u001b[0;32m      5\u001b[0m         \u001b[1;32mreturn\u001b[0m \u001b[1;33m(\u001b[0m\u001b[0mprint\u001b[0m\u001b[1;33m(\u001b[0m\u001b[1;34m'('\u001b[0m\u001b[1;33m,\u001b[0m \u001b[0mx\u001b[0m\u001b[1;33m,\u001b[0m\u001b[1;34m')'\u001b[0m\u001b[1;33m,\u001b[0m \u001b[1;34m'cannot be converted to float.'\u001b[0m\u001b[1;33m)\u001b[0m\u001b[1;33m)\u001b[0m\u001b[1;33m\u001b[0m\u001b[1;33m\u001b[0m\u001b[0m\n",
      "\u001b[1;31mTypeError\u001b[0m: float() argument must be a string or a number, not 'tuple'"
     ]
    }
   ],
   "source": [
    "attempt_float((2, 1))"
   ]
  },
  {
   "cell_type": "markdown",
   "id": "5e0ccffb",
   "metadata": {},
   "source": [
    "furthermore, we can catch multiple exception types by writing a tuple of exceptions types. for example:"
   ]
  },
  {
   "cell_type": "code",
   "execution_count": 85,
   "id": "814ad654",
   "metadata": {},
   "outputs": [],
   "source": [
    "def attempt_float(x):\n",
    "    try:\n",
    "        return float(x)\n",
    "    except (TypeError, ValueError):\n",
    "        return (print('(', x,')', 'cannot be converted to float.'))"
   ]
  },
  {
   "cell_type": "markdown",
   "id": "1c1d8d47",
   "metadata": {},
   "source": [
    "In some cases, you may not want to suppress an exception, but you want some code to be executed regardless of whether the code in the try block succeeds or not. To do this, use __finally__"
   ]
  },
  {
   "cell_type": "code",
   "execution_count": null,
   "id": "b1958c26",
   "metadata": {},
   "outputs": [],
   "source": [
    "f = open(path, 'w')\n",
    "\n",
    "try:\n",
    "    write_to_file(f)\n",
    "finally:\n",
    "    f.close()"
   ]
  },
  {
   "cell_type": "markdown",
   "id": "fdc0ded5",
   "metadata": {},
   "source": [
    "Similarly, we can have the code that executes only if the try: block success using __else__"
   ]
  },
  {
   "cell_type": "code",
   "execution_count": null,
   "id": "9264cc1c",
   "metadata": {},
   "outputs": [],
   "source": [
    "f = open(path, 'w')\n",
    "\n",
    "try:\n",
    "    write_to_file(f)\n",
    "except:\n",
    "    print('failed')\n",
    "else:\n",
    "    print('succeeded')\n",
    "finally:\n",
    "    f.close()"
   ]
  },
  {
   "cell_type": "markdown",
   "id": "ef47c183",
   "metadata": {},
   "source": [
    "***"
   ]
  },
  {
   "cell_type": "markdown",
   "id": "1cd53b09",
   "metadata": {},
   "source": [
    "## Files and Operating System"
   ]
  },
  {
   "cell_type": "markdown",
   "id": "4955042a",
   "metadata": {},
   "source": [
    "we can use __open__ a built-in function to read or write a file, either with realive or absolute file path:"
   ]
  },
  {
   "cell_type": "code",
   "execution_count": null,
   "id": "b5eb9689",
   "metadata": {},
   "outputs": [],
   "source": [
    "path = 'user/helloWorld.txt'\n",
    "\n",
    "f = open(path)"
   ]
  },
  {
   "cell_type": "markdown",
   "id": "4cd7e59b",
   "metadata": {},
   "source": [
    "By deafault, the file is open in read only mode 'r'. we can treat the file handle __f__ like a list and iterate over the lines like so:"
   ]
  },
  {
   "cell_type": "code",
   "execution_count": null,
   "id": "7d77660a",
   "metadata": {},
   "outputs": [],
   "source": [
    "for line in f:\n",
    "    pass"
   ]
  },
  {
   "cell_type": "markdown",
   "id": "a1c455c0",
   "metadata": {},
   "source": [
    "The lines come out of the file with the end-of-line (EOL) markers intact, so you’ll\n",
    "often see code to get an EOL-free list of lines in a file like:"
   ]
  },
  {
   "cell_type": "code",
   "execution_count": null,
   "id": "8b11037f",
   "metadata": {},
   "outputs": [],
   "source": [
    "lines = [x.rstrip() for x in open(path)]\n",
    "\n",
    "lines\n",
    "\n",
    "['Sueña el rico en su riqueza,',\n",
    "'que más cuidados le ofrece;',\n",
    "'',\n",
    "'sueña el pobre que padece',\n",
    "'su miseria y su pobreza;',\n",
    "'',\n",
    "'sueña el que a medrar empieza,',\n",
    "'sueña el que afana y pretende,',\n",
    "'sueña el que agravia y ofende,',\n",
    "'',\n",
    "'y en el mundo, en conclusión,',\n",
    "'todos sueñan lo que son,',\n",
    "'aunque ninguno lo entiende.',\n",
    "'']\n"
   ]
  },
  {
   "cell_type": "markdown",
   "id": "55c61b70",
   "metadata": {},
   "source": [
    "When you use open to create file objects, it is important to explicitly close the file when you are finished with it. Closing the file releases its resources back to the operating system:\n"
   ]
  },
  {
   "cell_type": "markdown",
   "id": "b6d715b5",
   "metadata": {},
   "source": [
    "f.close()"
   ]
  },
  {
   "cell_type": "markdown",
   "id": "6d48400f",
   "metadata": {},
   "source": [
    "Another way to open files is __with__ statement. It will automatically close the file when exiting the with block. for example:"
   ]
  },
  {
   "cell_type": "code",
   "execution_count": null,
   "id": "9d0d1949",
   "metadata": {},
   "outputs": [],
   "source": [
    "with open(path) as f:\n",
    "    lines = [x.rstrip() for x in f]"
   ]
  },
  {
   "cell_type": "markdown",
   "id": "324cf08e",
   "metadata": {},
   "source": [
    "Some of the most common methods used for readable files are __read__, __seek__ and __tell__. __read__ returns a certain number of characters from the file. what makes a 'character' is determined by the file's encoding or simply raw bytes if the file is opened in binary mode."
   ]
  },
  {
   "cell_type": "code",
   "execution_count": null,
   "id": "d9abb6a1",
   "metadata": {},
   "outputs": [],
   "source": [
    "In [1]: f = open(path)\n",
    "\n",
    "In [2]: f.read(10)\n",
    "Out[2]: 'Sueña el r'\n",
    "\n",
    "In [3]: f2 = open(path, 'rb') # Binary mode\n",
    "\n",
    "In [4]: f2.read(10)\n",
    "Out[4]: b'Sue\\xc3\\xb1a el '"
   ]
  },
  {
   "cell_type": "markdown",
   "id": "121bd15d",
   "metadata": {},
   "source": [
    "The read method advances the file handle’s position by the number of bytes read. __tell__ gives you the current position:\n"
   ]
  },
  {
   "cell_type": "code",
   "execution_count": null,
   "id": "da6fac5e",
   "metadata": {},
   "outputs": [],
   "source": [
    "In [5]: f.tell()\n",
    "Out[5]: 11\n",
    "    \n",
    "In [6]: f2.tell()\n",
    "Out[6]: 10"
   ]
  },
  {
   "cell_type": "markdown",
   "id": "de5a699b",
   "metadata": {},
   "source": [
    "Even though we read 10 characters from the file, the position is 11 because it took that many bytes to decode 10 characters using the default encoding"
   ]
  },
  {
   "cell_type": "markdown",
   "id": "67a60c83",
   "metadata": {},
   "source": [
    "__seek__ changes the file position to the indicated byte in the file:"
   ]
  },
  {
   "cell_type": "code",
   "execution_count": null,
   "id": "268bfe8b",
   "metadata": {},
   "outputs": [],
   "source": [
    "In [7]: f.seek(3)\n",
    "Out[7]: 3\n",
    "    \n",
    "In [8]: f.read(1)\n",
    "Out[8]: 'ñ'"
   ]
  },
  {
   "cell_type": "markdown",
   "id": "73a58eab",
   "metadata": {},
   "source": [
    "We should always close the files at the end of use."
   ]
  },
  {
   "cell_type": "code",
   "execution_count": null,
   "id": "5b625b6e",
   "metadata": {},
   "outputs": [],
   "source": [
    "In [9]: f.close()\n",
    "    \n",
    "In [10]: f2.close()"
   ]
  },
  {
   "cell_type": "markdown",
   "id": "e91917a0",
   "metadata": {},
   "source": [
    "#### Python File Modes"
   ]
  },
  {
   "cell_type": "code",
   "execution_count": null,
   "id": "12362eb2",
   "metadata": {},
   "outputs": [],
   "source": [
    "Mode                                         Description\n",
    "\n",
    "r            Read-only mode\n",
    "\n",
    "w            Write-only mode; creates a new file (erasing the data for any file with the same name)\n",
    "\n",
    "x            Write-only mode; creates a new file, but fails if the file path already exists\n",
    "\n",
    "a            Append to existing file (create the file if it does not already exist)\n",
    "\n",
    "r+           Read and write\n",
    "\n",
    "b            Add to mode for binary files (i.e., 'rb' or 'wb')\n",
    "\n",
    "t            Text mode for files (automatically decoding bytes to Unicode). This is the default if not specified. Add t to\n",
    "             other modes to use this (i.e., 'rt' or 'xt')"
   ]
  },
  {
   "cell_type": "markdown",
   "id": "2e0b67a5",
   "metadata": {},
   "source": [
    "To write text to a file, you can use the file’s write or writelines methods. For example, we could create a version of prof_mod.py with no blank lines like so:\n"
   ]
  },
  {
   "cell_type": "code",
   "execution_count": null,
   "id": "dbc9f180",
   "metadata": {},
   "outputs": [],
   "source": [
    "In [11]: with open('tmp.txt', 'w') as handle:\n",
    "            handle.writelines(x for x in open(path) if len(x) > 1)\n",
    "\n",
    "In [12]: with open('tmp.txt') as f:\n",
    "            lines = f.readlines()\n",
    "\n",
    "Out[12]:\n",
    "['Sueña el rico en su riqueza,\\n',\n",
    "'que más cuidados le ofrece;\\n',\n",
    "'sueña el pobre que padece\\n',\n",
    "'su miseria y su pobreza;\\n',\n",
    "'sueña el que a medrar empieza,\\n',\n",
    "'sueña el que afana y pretende,\\n',\n",
    "'sueña el que agravia y ofende,\\n',\n",
    "'y en el mundo, en conclusión,\\n',\n",
    "'todos sueñan lo que son,\\n',\n",
    "'aunque ninguno lo entiende.\\n']"
   ]
  },
  {
   "cell_type": "markdown",
   "id": "07edeca2",
   "metadata": {},
   "source": [
    "#### Python file methods or attributes"
   ]
  },
  {
   "cell_type": "code",
   "execution_count": null,
   "id": "e4fc4a7d",
   "metadata": {},
   "outputs": [],
   "source": [
    "  Method                                                             Description\n",
    "\n",
    "read([size])              Return data from file as a string, with optional size argument indicating the number of bytes to read\n",
    "\n",
    "readlines([size])         Return list of lines in the file, with optional size argument\n",
    "\n",
    "write(str)                Write passed string to file\n",
    "\n",
    "writelines(strings)       Write passed sequence of strings to the file\n",
    "\n",
    "close()                   Close the handle\n",
    "\n",
    "flush()                   Flush the internal I/O buffer to disk\n",
    "\n",
    "seek(pos)                 Move to indicated file position (integer)\n",
    "\n",
    "tell()                    Return current file position as integer\n",
    "\n",
    "closed                    True if the file is closed"
   ]
  },
  {
   "cell_type": "markdown",
   "id": "93c30d72",
   "metadata": {},
   "source": [
    "***"
   ]
  },
  {
   "cell_type": "markdown",
   "id": "7e1f974e",
   "metadata": {},
   "source": [
    "### Bytes and Unicodes with Files"
   ]
  },
  {
   "cell_type": "markdown",
   "id": "fc2d3157",
   "metadata": {},
   "source": [
    "The default behavior for Python files (whether readable or writable) is text mode, which means that you intend to work with Python strings (i.e., Unicode). This contrasts with binary mode, which you can obtain by appending b onto the file mode."
   ]
  },
  {
   "cell_type": "markdown",
   "id": "d2ebcee4",
   "metadata": {},
   "source": [
    "In [230]: with open(path) as f:\n",
    "    chars = f.read(10)\n",
    "\n",
    "In [231]: chars\n",
    "\n",
    "Out[231]: 'Sueña el r'"
   ]
  },
  {
   "cell_type": "markdown",
   "id": "5aad7661",
   "metadata": {},
   "source": [
    "UTF-8 is a variable-length Unicode encoding, so when requested some number of charaters from the file, Python reads enough bytes from the file to decode that many characters. If we open the file in 'rb' mode instead, and read requests exact numbers of bytes: "
   ]
  },
  {
   "cell_type": "code",
   "execution_count": null,
   "id": "2dfe7af2",
   "metadata": {},
   "outputs": [],
   "source": [
    "In [232]: with open(path, 'rb') as f:\n",
    "            data = f.read(10)\n",
    "\n",
    "In [233]: data\n",
    "Out[233]: b'Sue\\xc3\\xb1a el '"
   ]
  }
 ],
 "metadata": {
  "kernelspec": {
   "display_name": "Python 3",
   "language": "python",
   "name": "python3"
  },
  "language_info": {
   "codemirror_mode": {
    "name": "ipython",
    "version": 3
   },
   "file_extension": ".py",
   "mimetype": "text/x-python",
   "name": "python",
   "nbconvert_exporter": "python",
   "pygments_lexer": "ipython3",
   "version": "3.8.8"
  }
 },
 "nbformat": 4,
 "nbformat_minor": 5
}
