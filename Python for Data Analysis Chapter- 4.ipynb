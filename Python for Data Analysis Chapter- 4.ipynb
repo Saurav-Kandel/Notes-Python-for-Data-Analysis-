{
 "cells": [
  {
   "cell_type": "markdown",
   "id": "0fa756f6",
   "metadata": {},
   "source": [
    "# Chapter 4"
   ]
  },
  {
   "cell_type": "markdown",
   "id": "99b15197",
   "metadata": {},
   "source": [
    "# NumPy Basics: Arrays and Vectorized Computation"
   ]
  },
  {
   "cell_type": "markdown",
   "id": "ea0feed5",
   "metadata": {},
   "source": [
    "***"
   ]
  },
  {
   "cell_type": "markdown",
   "id": "90c9cedb",
   "metadata": {},
   "source": [
    "NumPy is one of most important packages for numerical computing in Python. It is a open source python library that mainly provides a multidimensional array object to work with.\n",
    "\n"
   ]
  },
  {
   "cell_type": "markdown",
   "id": "5779e54a",
   "metadata": {},
   "source": [
    "NumPy provides __ndarray__, with its methods to efficiently operate on it. The array object in NumPy is called __ndarray__. The array on the NumPy aims to counter the slow built-in sequence in Python like lists with its speed."
   ]
  },
  {
   "cell_type": "markdown",
   "id": "ef3e293d",
   "metadata": {},
   "source": [
    "To check th difference in list and the array consider the example below with one million integer."
   ]
  },
  {
   "cell_type": "code",
   "execution_count": 1,
   "id": "f96dd80a",
   "metadata": {},
   "outputs": [],
   "source": [
    "import numpy as np"
   ]
  },
  {
   "cell_type": "markdown",
   "id": "ec28e556",
   "metadata": {},
   "source": [
    "It is a standard practice to __import numpy as np__. "
   ]
  },
  {
   "cell_type": "code",
   "execution_count": 2,
   "id": "b2b4c269",
   "metadata": {},
   "outputs": [],
   "source": [
    "a_arr = np.arange(1000000)"
   ]
  },
  {
   "cell_type": "code",
   "execution_count": 3,
   "id": "0b874d01",
   "metadata": {},
   "outputs": [],
   "source": [
    "a_list = list(range(1000000))"
   ]
  },
  {
   "cell_type": "markdown",
   "id": "f7eb2508",
   "metadata": {},
   "source": [
    "multiply each sequence by 2:"
   ]
  },
  {
   "cell_type": "code",
   "execution_count": 4,
   "id": "70ae9b2e",
   "metadata": {},
   "outputs": [
    {
     "name": "stdout",
     "output_type": "stream",
     "text": [
      "Wall time: 18.9 ms\n"
     ]
    }
   ],
   "source": [
    "%time for _ in range(10): a_arr2 = a_arr*2"
   ]
  },
  {
   "cell_type": "code",
   "execution_count": 5,
   "id": "1e557ad9",
   "metadata": {},
   "outputs": [
    {
     "name": "stdout",
     "output_type": "stream",
     "text": [
      "Wall time: 851 ms\n"
     ]
    }
   ],
   "source": [
    "%time for _ in range(10): a_list2 = [x * 2 for x in a_list]"
   ]
  },
  {
   "cell_type": "markdown",
   "id": "51476fcd",
   "metadata": {},
   "source": [
    "We can clearly see the time difference to perform the two action from above. Hence, the use of array for huge datasets."
   ]
  },
  {
   "cell_type": "markdown",
   "id": "ae2cd402",
   "metadata": {},
   "source": [
    "***"
   ]
  },
  {
   "cell_type": "markdown",
   "id": "c5b5f10c",
   "metadata": {},
   "source": [
    "## 1. The NumPy ndarray: A Multidimensional Array Object"
   ]
  },
  {
   "cell_type": "markdown",
   "id": "eb4eb707",
   "metadata": {},
   "source": [
    "N-dimensional array object, or ndarray in short is one of the main features of NumPy. It is fast, flexible container for large datasets in Python. Arrays allows to perform mathematical operations on whole block of data using similar syntax to the equivalent operations between scalar elements. "
   ]
  },
  {
   "cell_type": "markdown",
   "id": "c76d7983",
   "metadata": {},
   "source": [
    "For example,"
   ]
  },
  {
   "cell_type": "code",
   "execution_count": 6,
   "id": "352b5a83",
   "metadata": {},
   "outputs": [],
   "source": [
    "data = np.random.randn(2,3)"
   ]
  },
  {
   "cell_type": "code",
   "execution_count": 7,
   "id": "17f58ffc",
   "metadata": {},
   "outputs": [
    {
     "data": {
      "text/plain": [
       "array([[-1.3614347 ,  0.76309189,  0.99520754],\n",
       "       [-1.26694389, -1.76733928, -0.31894432]])"
      ]
     },
     "execution_count": 7,
     "metadata": {},
     "output_type": "execute_result"
    }
   ],
   "source": [
    "data"
   ]
  },
  {
   "cell_type": "code",
   "execution_count": 8,
   "id": "3b17fc84",
   "metadata": {},
   "outputs": [
    {
     "data": {
      "text/plain": [
       "array([[-2.7228694 ,  1.52618379,  1.99041507],\n",
       "       [-2.53388779, -3.53467855, -0.63788864]])"
      ]
     },
     "execution_count": 8,
     "metadata": {},
     "output_type": "execute_result"
    }
   ],
   "source": [
    "data * 2"
   ]
  },
  {
   "cell_type": "code",
   "execution_count": 9,
   "id": "59a381a6",
   "metadata": {},
   "outputs": [
    {
     "data": {
      "text/plain": [
       "array([[0., 0., 0.],\n",
       "       [0., 0., 0.]])"
      ]
     },
     "execution_count": 9,
     "metadata": {},
     "output_type": "execute_result"
    }
   ],
   "source": [
    "data - data"
   ]
  },
  {
   "cell_type": "markdown",
   "id": "55292b91",
   "metadata": {},
   "source": [
    "The specified operations are carried out to each element in the array. "
   ]
  },
  {
   "cell_type": "markdown",
   "id": "681b3f4e",
   "metadata": {},
   "source": [
    "An ndarray is a generic multidimensional container for homogeneous data; that is, all of the elements must be the same type. Every array has a shape, a tuple indicating the size of each dimension, and a dtype, an object describing the data type of the array:\n"
   ]
  },
  {
   "cell_type": "code",
   "execution_count": 10,
   "id": "be1c8c8e",
   "metadata": {},
   "outputs": [
    {
     "data": {
      "text/plain": [
       "(2, 3)"
      ]
     },
     "execution_count": 10,
     "metadata": {},
     "output_type": "execute_result"
    }
   ],
   "source": [
    "data.shape"
   ]
  },
  {
   "cell_type": "code",
   "execution_count": 11,
   "id": "18ddd897",
   "metadata": {},
   "outputs": [
    {
     "data": {
      "text/plain": [
       "dtype('float64')"
      ]
     },
     "execution_count": 11,
     "metadata": {},
     "output_type": "execute_result"
    }
   ],
   "source": [
    "data.dtype"
   ]
  },
  {
   "cell_type": "markdown",
   "id": "d4ed22a2",
   "metadata": {},
   "source": [
    "### Creating ndarrays"
   ]
  },
  {
   "cell_type": "markdown",
   "id": "425589cc",
   "metadata": {},
   "source": [
    "__array__ function is the most basic way to create an ndarray. This function accepts any sequence like object (including other arrays) and produces a new NumPy array with passed data. For example,"
   ]
  },
  {
   "cell_type": "code",
   "execution_count": 12,
   "id": "cf6f3e93",
   "metadata": {},
   "outputs": [],
   "source": [
    "data1 = [1 , 32, 45, 66, 87, 99]"
   ]
  },
  {
   "cell_type": "code",
   "execution_count": 13,
   "id": "fe3470d7",
   "metadata": {},
   "outputs": [],
   "source": [
    "arr1 = np.array(data1)"
   ]
  },
  {
   "cell_type": "code",
   "execution_count": 14,
   "id": "25e0ca5c",
   "metadata": {},
   "outputs": [
    {
     "data": {
      "text/plain": [
       "array([ 1, 32, 45, 66, 87, 99])"
      ]
     },
     "execution_count": 14,
     "metadata": {},
     "output_type": "execute_result"
    }
   ],
   "source": [
    "arr1"
   ]
  },
  {
   "cell_type": "code",
   "execution_count": 15,
   "id": "46911aa6",
   "metadata": {},
   "outputs": [
    {
     "data": {
      "text/plain": [
       "dtype('int32')"
      ]
     },
     "execution_count": 15,
     "metadata": {},
     "output_type": "execute_result"
    }
   ],
   "source": [
    "arr1.dtype"
   ]
  },
  {
   "cell_type": "markdown",
   "id": "951ad71c",
   "metadata": {},
   "source": [
    "similarly, we can create higher dimension arrays with nested sequences as passed value in the function __array__."
   ]
  },
  {
   "cell_type": "code",
   "execution_count": 16,
   "id": "ea3b0074",
   "metadata": {
    "scrolled": false
   },
   "outputs": [],
   "source": [
    "data2 = [[1, 2, 3, 4], [5, 6, 7, 8]]"
   ]
  },
  {
   "cell_type": "code",
   "execution_count": 17,
   "id": "403be142",
   "metadata": {},
   "outputs": [],
   "source": [
    "arr2 = np.array(data2)"
   ]
  },
  {
   "cell_type": "code",
   "execution_count": 18,
   "id": "e38d8d7c",
   "metadata": {},
   "outputs": [
    {
     "data": {
      "text/plain": [
       "array([[1, 2, 3, 4],\n",
       "       [5, 6, 7, 8]])"
      ]
     },
     "execution_count": 18,
     "metadata": {},
     "output_type": "execute_result"
    }
   ],
   "source": [
    "arr2"
   ]
  },
  {
   "cell_type": "markdown",
   "id": "b1bc52fd",
   "metadata": {},
   "source": [
    "Furthermore, __ndim__ and __shape__ attributes can be used to check the dimension and the shape of a array"
   ]
  },
  {
   "cell_type": "code",
   "execution_count": 19,
   "id": "5679b117",
   "metadata": {},
   "outputs": [
    {
     "data": {
      "text/plain": [
       "1"
      ]
     },
     "execution_count": 19,
     "metadata": {},
     "output_type": "execute_result"
    }
   ],
   "source": [
    "arr1.ndim"
   ]
  },
  {
   "cell_type": "code",
   "execution_count": 20,
   "id": "ded757e7",
   "metadata": {},
   "outputs": [
    {
     "data": {
      "text/plain": [
       "2"
      ]
     },
     "execution_count": 20,
     "metadata": {},
     "output_type": "execute_result"
    }
   ],
   "source": [
    "arr2.ndim"
   ]
  },
  {
   "cell_type": "code",
   "execution_count": 21,
   "id": "583981c7",
   "metadata": {},
   "outputs": [
    {
     "data": {
      "text/plain": [
       "(6,)"
      ]
     },
     "execution_count": 21,
     "metadata": {},
     "output_type": "execute_result"
    }
   ],
   "source": [
    "arr1.shape"
   ]
  },
  {
   "cell_type": "code",
   "execution_count": 22,
   "id": "0fe02d67",
   "metadata": {},
   "outputs": [
    {
     "data": {
      "text/plain": [
       "(2, 4)"
      ]
     },
     "execution_count": 22,
     "metadata": {},
     "output_type": "execute_result"
    }
   ],
   "source": [
    "arr2.shape"
   ]
  },
  {
   "cell_type": "markdown",
   "id": "c5df6cc7",
   "metadata": {},
   "source": [
    "There are additional other ways to create new arrays. __zeros__ and __ones__ create arrays of 0s and 1s respectively with given length or shape."
   ]
  },
  {
   "cell_type": "code",
   "execution_count": 23,
   "id": "5848f77c",
   "metadata": {},
   "outputs": [
    {
     "data": {
      "text/plain": [
       "array([0., 0., 0., 0., 0.])"
      ]
     },
     "execution_count": 23,
     "metadata": {},
     "output_type": "execute_result"
    }
   ],
   "source": [
    "np.zeros(5)"
   ]
  },
  {
   "cell_type": "code",
   "execution_count": 24,
   "id": "f15646dc",
   "metadata": {},
   "outputs": [
    {
     "data": {
      "text/plain": [
       "array([[1., 1., 1.],\n",
       "       [1., 1., 1.],\n",
       "       [1., 1., 1.]])"
      ]
     },
     "execution_count": 24,
     "metadata": {},
     "output_type": "execute_result"
    }
   ],
   "source": [
    "np.ones((3, 3))"
   ]
  },
  {
   "cell_type": "markdown",
   "id": "02db45ee",
   "metadata": {},
   "source": [
    "Another way is to use __empty__ which creates an array without initializing its values to any particular value. It’s not safe to assume that np.empty will return an array of all zeros. In some cases, it may return uninitialized “garbage” values. "
   ]
  },
  {
   "cell_type": "code",
   "execution_count": 25,
   "id": "667c6683",
   "metadata": {},
   "outputs": [
    {
     "data": {
      "text/plain": [
       "array([[2.12199579e-314, 9.37922140e-312],\n",
       "       [3.81418679e-321, 6.95250784e-310]])"
      ]
     },
     "execution_count": 25,
     "metadata": {},
     "output_type": "execute_result"
    }
   ],
   "source": [
    "np.empty((2, 2))"
   ]
  },
  {
   "cell_type": "markdown",
   "id": "6fb6c9e4",
   "metadata": {},
   "source": [
    "arange is an array-valued version of the built-in range function on Python:"
   ]
  },
  {
   "cell_type": "code",
   "execution_count": 26,
   "id": "97515678",
   "metadata": {},
   "outputs": [
    {
     "data": {
      "text/plain": [
       "array([0, 1, 2, 3, 4])"
      ]
     },
     "execution_count": 26,
     "metadata": {},
     "output_type": "execute_result"
    }
   ],
   "source": [
    "np.arange(5)"
   ]
  },
  {
   "cell_type": "markdown",
   "id": "1904098b",
   "metadata": {},
   "source": [
    "***"
   ]
  },
  {
   "cell_type": "markdown",
   "id": "08f57a8e",
   "metadata": {},
   "source": [
    "### Data Types for ndarrays"
   ]
  },
  {
   "cell_type": "markdown",
   "id": "a01fc288",
   "metadata": {},
   "source": [
    "data type or __dtype__ is a special object that holds the information the ndarray needs to interpret a chunk of memory as particular type of data:"
   ]
  },
  {
   "cell_type": "markdown",
   "id": "96042129",
   "metadata": {},
   "source": [
    "We can excplicitly define the dtype of the array while creating an array but its optional."
   ]
  },
  {
   "cell_type": "code",
   "execution_count": 27,
   "id": "f59e16e8",
   "metadata": {},
   "outputs": [],
   "source": [
    "arr1 = np.array([1, 2, 3], dtype=np.float64)"
   ]
  },
  {
   "cell_type": "code",
   "execution_count": 28,
   "id": "8f9fea09",
   "metadata": {},
   "outputs": [],
   "source": [
    "arr2 = np.array([1, 2, 3], dtype=np.int32)"
   ]
  },
  {
   "cell_type": "code",
   "execution_count": 29,
   "id": "7f54d164",
   "metadata": {},
   "outputs": [
    {
     "data": {
      "text/plain": [
       "dtype('float64')"
      ]
     },
     "execution_count": 29,
     "metadata": {},
     "output_type": "execute_result"
    }
   ],
   "source": [
    "arr1.dtype"
   ]
  },
  {
   "cell_type": "code",
   "execution_count": 30,
   "id": "194ba9a1",
   "metadata": {},
   "outputs": [
    {
     "data": {
      "text/plain": [
       "dtype('int32')"
      ]
     },
     "execution_count": 30,
     "metadata": {},
     "output_type": "execute_result"
    }
   ],
   "source": [
    "arr2.dtype"
   ]
  },
  {
   "cell_type": "markdown",
   "id": "e23164dc",
   "metadata": {},
   "source": [
    "we can explicitly convert or cast an array from one dtype to another using ndarray's __astype__ method:"
   ]
  },
  {
   "cell_type": "code",
   "execution_count": 31,
   "id": "b34c2402",
   "metadata": {},
   "outputs": [],
   "source": [
    "arr = np.array([1, 2, 3, 4, 5])"
   ]
  },
  {
   "cell_type": "code",
   "execution_count": 32,
   "id": "8b97b2a4",
   "metadata": {},
   "outputs": [
    {
     "data": {
      "text/plain": [
       "dtype('int32')"
      ]
     },
     "execution_count": 32,
     "metadata": {},
     "output_type": "execute_result"
    }
   ],
   "source": [
    "arr.dtype"
   ]
  },
  {
   "cell_type": "code",
   "execution_count": 33,
   "id": "1181d546",
   "metadata": {},
   "outputs": [
    {
     "data": {
      "text/plain": [
       "array([1., 2., 3., 4., 5.])"
      ]
     },
     "execution_count": 33,
     "metadata": {},
     "output_type": "execute_result"
    }
   ],
   "source": [
    "arr.astype(np.float64)"
   ]
  },
  {
   "cell_type": "code",
   "execution_count": 34,
   "id": "89241294",
   "metadata": {},
   "outputs": [
    {
     "data": {
      "text/plain": [
       "dtype('int32')"
      ]
     },
     "execution_count": 34,
     "metadata": {},
     "output_type": "execute_result"
    }
   ],
   "source": [
    "arr.dtype"
   ]
  },
  {
   "cell_type": "markdown",
   "id": "cd90b853",
   "metadata": {},
   "source": [
    "<span style='color:red'>Note:</span> __astype__ method returns the copy of the result by creating a new array; it does not change the original array itself."
   ]
  },
  {
   "cell_type": "code",
   "execution_count": 35,
   "id": "ea44e2ce",
   "metadata": {},
   "outputs": [],
   "source": [
    "f_array = np.array([1.2, 3.2, 4.5, 1.1, 0.2])"
   ]
  },
  {
   "cell_type": "code",
   "execution_count": 36,
   "id": "512fafda",
   "metadata": {},
   "outputs": [
    {
     "data": {
      "text/plain": [
       "dtype('float64')"
      ]
     },
     "execution_count": 36,
     "metadata": {},
     "output_type": "execute_result"
    }
   ],
   "source": [
    "f_array.dtype"
   ]
  },
  {
   "cell_type": "code",
   "execution_count": 37,
   "id": "c91fbc25",
   "metadata": {},
   "outputs": [
    {
     "data": {
      "text/plain": [
       "array([1, 3, 4, 1, 0])"
      ]
     },
     "execution_count": 37,
     "metadata": {},
     "output_type": "execute_result"
    }
   ],
   "source": [
    "f_array.astype(np.int32)"
   ]
  },
  {
   "cell_type": "markdown",
   "id": "10ef52ee",
   "metadata": {},
   "source": [
    "Converting float dtype array to int; truncates the values after the decimal point in the array for all element."
   ]
  },
  {
   "cell_type": "markdown",
   "id": "70fd371e",
   "metadata": {},
   "source": [
    "similarly, if a array of strings represent numbers, we can use __astype__ to convert them to numeric forms:"
   ]
  },
  {
   "cell_type": "code",
   "execution_count": 38,
   "id": "0097399a",
   "metadata": {},
   "outputs": [],
   "source": [
    "numeric_strings = np.array(['2.3', '44.5', '3.22', '9.88', '55.11'], dtype=np.string_)"
   ]
  },
  {
   "cell_type": "code",
   "execution_count": 39,
   "id": "3f450368",
   "metadata": {},
   "outputs": [
    {
     "data": {
      "text/plain": [
       "array([b'2.3', b'44.5', b'3.22', b'9.88', b'55.11'], dtype='|S5')"
      ]
     },
     "execution_count": 39,
     "metadata": {},
     "output_type": "execute_result"
    }
   ],
   "source": [
    "numeric_strings"
   ]
  },
  {
   "cell_type": "code",
   "execution_count": 40,
   "id": "0260d875",
   "metadata": {},
   "outputs": [
    {
     "data": {
      "text/plain": [
       "array([ 2.3 , 44.5 ,  3.22,  9.88, 55.11])"
      ]
     },
     "execution_count": 40,
     "metadata": {},
     "output_type": "execute_result"
    }
   ],
   "source": [
    "numeric_strings.astype(float)"
   ]
  },
  {
   "cell_type": "markdown",
   "id": "c8603ced",
   "metadata": {},
   "source": [
    "<span style='color:red'>Note:</span>It’s important to be cautious when using the numpy.string_ type, as string data in NumPy is fixed size and may truncate input without warning. pandas has more intuitive out-of-the-box behavior on non-numeric data"
   ]
  },
  {
   "cell_type": "markdown",
   "id": "84cf7c10",
   "metadata": {},
   "source": [
    "NumPy aliases the Python types to its own equivalent data types. Thus, only passing float rather than np.float did not raised error."
   ]
  },
  {
   "cell_type": "markdown",
   "id": "9ed18c19",
   "metadata": {},
   "source": [
    "Furthermore, if the casting were to fail for some reason(like a string cannot be converted to float64), a ValueError will be raised."
   ]
  },
  {
   "cell_type": "markdown",
   "id": "fd05abd4",
   "metadata": {},
   "source": [
    "We can also assign the data type of one array to another. For example:"
   ]
  },
  {
   "cell_type": "code",
   "execution_count": 41,
   "id": "e8254825",
   "metadata": {},
   "outputs": [],
   "source": [
    "int_array = np.arange(10)"
   ]
  },
  {
   "cell_type": "code",
   "execution_count": 42,
   "id": "711c5123",
   "metadata": {},
   "outputs": [
    {
     "data": {
      "text/plain": [
       "array([0, 1, 2, 3, 4, 5, 6, 7, 8, 9])"
      ]
     },
     "execution_count": 42,
     "metadata": {},
     "output_type": "execute_result"
    }
   ],
   "source": [
    "int_array"
   ]
  },
  {
   "cell_type": "code",
   "execution_count": 43,
   "id": "da915758",
   "metadata": {},
   "outputs": [],
   "source": [
    "float_array = np.random.randn(5)"
   ]
  },
  {
   "cell_type": "code",
   "execution_count": 44,
   "id": "4f294567",
   "metadata": {},
   "outputs": [
    {
     "data": {
      "text/plain": [
       "array([-0.36634617, -0.61533867,  0.58029466, -0.78510612, -1.13210423])"
      ]
     },
     "execution_count": 44,
     "metadata": {},
     "output_type": "execute_result"
    }
   ],
   "source": [
    "float_array"
   ]
  },
  {
   "cell_type": "code",
   "execution_count": 45,
   "id": "8e4641a7",
   "metadata": {},
   "outputs": [
    {
     "data": {
      "text/plain": [
       "dtype('float64')"
      ]
     },
     "execution_count": 45,
     "metadata": {},
     "output_type": "execute_result"
    }
   ],
   "source": [
    "float_array.dtype"
   ]
  },
  {
   "cell_type": "code",
   "execution_count": 46,
   "id": "2f321ca3",
   "metadata": {},
   "outputs": [
    {
     "data": {
      "text/plain": [
       "dtype('int32')"
      ]
     },
     "execution_count": 46,
     "metadata": {},
     "output_type": "execute_result"
    }
   ],
   "source": [
    "int_array.dtype"
   ]
  },
  {
   "cell_type": "markdown",
   "id": "841a7a4a",
   "metadata": {},
   "source": [
    "Now, converting the dtype of int_array to float 64 using float_array as reference."
   ]
  },
  {
   "cell_type": "code",
   "execution_count": 47,
   "id": "0414ea0c",
   "metadata": {},
   "outputs": [
    {
     "data": {
      "text/plain": [
       "array([0., 1., 2., 3., 4., 5., 6., 7., 8., 9.])"
      ]
     },
     "execution_count": 47,
     "metadata": {},
     "output_type": "execute_result"
    }
   ],
   "source": [
    "int_array.astype(float_array.dtype)"
   ]
  },
  {
   "cell_type": "markdown",
   "id": "0b2406fb",
   "metadata": {},
   "source": [
    "***"
   ]
  },
  {
   "cell_type": "markdown",
   "id": "9e95dfc5",
   "metadata": {},
   "source": [
    "### Arithmetic with NumPy Arrays"
   ]
  },
  {
   "cell_type": "markdown",
   "id": "99e0c781",
   "metadata": {},
   "source": [
    "Arrays enables to express batch operations on data without writing any for loops which is called __vectorization__ in NumPy. Any arithmetic operations between equal size arrays applies the operation element-wise:"
   ]
  },
  {
   "cell_type": "code",
   "execution_count": 48,
   "id": "3053d0c9",
   "metadata": {},
   "outputs": [],
   "source": [
    "array = np.arange(6).reshape((2, 3))"
   ]
  },
  {
   "cell_type": "code",
   "execution_count": 49,
   "id": "92e9f56f",
   "metadata": {},
   "outputs": [
    {
     "data": {
      "text/plain": [
       "array([[0, 1, 2],\n",
       "       [3, 4, 5]])"
      ]
     },
     "execution_count": 49,
     "metadata": {},
     "output_type": "execute_result"
    }
   ],
   "source": [
    "array"
   ]
  },
  {
   "cell_type": "code",
   "execution_count": 50,
   "id": "9f9d1cf4",
   "metadata": {},
   "outputs": [
    {
     "data": {
      "text/plain": [
       "array([[ 0,  2,  4],\n",
       "       [ 6,  8, 10]])"
      ]
     },
     "execution_count": 50,
     "metadata": {},
     "output_type": "execute_result"
    }
   ],
   "source": [
    "array + array"
   ]
  },
  {
   "cell_type": "code",
   "execution_count": 51,
   "id": "f3c4e4c6",
   "metadata": {},
   "outputs": [
    {
     "data": {
      "text/plain": [
       "array([[ 0,  1,  4],\n",
       "       [ 9, 16, 25]])"
      ]
     },
     "execution_count": 51,
     "metadata": {},
     "output_type": "execute_result"
    }
   ],
   "source": [
    "array * array"
   ]
  },
  {
   "cell_type": "markdown",
   "id": "8937c1c2",
   "metadata": {},
   "source": [
    "Arithmetic operations with scalars propagate the scalar argument to each element in\n",
    "the array:"
   ]
  },
  {
   "cell_type": "code",
   "execution_count": 52,
   "id": "39d42a23",
   "metadata": {
    "scrolled": true
   },
   "outputs": [
    {
     "data": {
      "text/plain": [
       "array([[0. , 0.5, 1. ],\n",
       "       [1.5, 2. , 2.5]])"
      ]
     },
     "execution_count": 52,
     "metadata": {},
     "output_type": "execute_result"
    }
   ],
   "source": [
    "array / 2"
   ]
  },
  {
   "cell_type": "markdown",
   "id": "0abee320",
   "metadata": {},
   "source": [
    "Comparision of arrayas of same size yield boolean arrays:"
   ]
  },
  {
   "cell_type": "code",
   "execution_count": 53,
   "id": "5caacf5d",
   "metadata": {},
   "outputs": [],
   "source": [
    "array2 = np.random.randn(6).reshape((2, 3))"
   ]
  },
  {
   "cell_type": "code",
   "execution_count": 54,
   "id": "548e7ac4",
   "metadata": {},
   "outputs": [
    {
     "data": {
      "text/plain": [
       "array([[-0.61283953, -1.47586485,  0.65819075],\n",
       "       [-0.55513632,  0.49524572,  0.38387671]])"
      ]
     },
     "execution_count": 54,
     "metadata": {},
     "output_type": "execute_result"
    }
   ],
   "source": [
    "array2"
   ]
  },
  {
   "cell_type": "code",
   "execution_count": 55,
   "id": "f735982b",
   "metadata": {},
   "outputs": [
    {
     "data": {
      "text/plain": [
       "array([[False, False, False],\n",
       "       [False, False, False]])"
      ]
     },
     "execution_count": 55,
     "metadata": {},
     "output_type": "execute_result"
    }
   ],
   "source": [
    "array2 > array"
   ]
  },
  {
   "cell_type": "markdown",
   "id": "3c87b62a",
   "metadata": {},
   "source": [
    "Operations between differently sized arrays is called __broadcasting__."
   ]
  },
  {
   "cell_type": "markdown",
   "id": "04a6b95d",
   "metadata": {},
   "source": [
    "***"
   ]
  },
  {
   "cell_type": "markdown",
   "id": "d3ffbfba",
   "metadata": {},
   "source": [
    "### Basic Indexing and Slicing"
   ]
  },
  {
   "cell_type": "markdown",
   "id": "8e25cbe8",
   "metadata": {},
   "source": [
    "Indexing is a vast topic in NumPy array, as it has many ways to select a portion of your data or each element. In 1-D array, the logic works similar to Python lists:"
   ]
  },
  {
   "cell_type": "code",
   "execution_count": 56,
   "id": "807cfafb",
   "metadata": {},
   "outputs": [],
   "source": [
    "arr = np.arange(10)"
   ]
  },
  {
   "cell_type": "code",
   "execution_count": 57,
   "id": "b4653911",
   "metadata": {},
   "outputs": [
    {
     "data": {
      "text/plain": [
       "array([0, 1, 2, 3, 4, 5, 6, 7, 8, 9])"
      ]
     },
     "execution_count": 57,
     "metadata": {},
     "output_type": "execute_result"
    }
   ],
   "source": [
    "arr"
   ]
  },
  {
   "cell_type": "code",
   "execution_count": 58,
   "id": "a0feb8e6",
   "metadata": {},
   "outputs": [
    {
     "data": {
      "text/plain": [
       "5"
      ]
     },
     "execution_count": 58,
     "metadata": {},
     "output_type": "execute_result"
    }
   ],
   "source": [
    "arr[5]"
   ]
  },
  {
   "cell_type": "code",
   "execution_count": 59,
   "id": "c5eb4fdb",
   "metadata": {},
   "outputs": [
    {
     "data": {
      "text/plain": [
       "array([2, 3])"
      ]
     },
     "execution_count": 59,
     "metadata": {},
     "output_type": "execute_result"
    }
   ],
   "source": [
    "arr[2:4]"
   ]
  },
  {
   "cell_type": "markdown",
   "id": "f11b2164",
   "metadata": {},
   "source": [
    "Now, for assigning value with slices:"
   ]
  },
  {
   "cell_type": "code",
   "execution_count": 60,
   "id": "875d93fa",
   "metadata": {},
   "outputs": [],
   "source": [
    "arr[8:] = 7 "
   ]
  },
  {
   "cell_type": "code",
   "execution_count": 61,
   "id": "6159fd86",
   "metadata": {},
   "outputs": [
    {
     "data": {
      "text/plain": [
       "array([0, 1, 2, 3, 4, 5, 6, 7, 7, 7])"
      ]
     },
     "execution_count": 61,
     "metadata": {},
     "output_type": "execute_result"
    }
   ],
   "source": [
    "arr"
   ]
  },
  {
   "cell_type": "markdown",
   "id": "8dfaef82",
   "metadata": {},
   "source": [
    "The important thing to note here in NumPy arrays are; if any modification is done to the view, it is changed in the souce array. For example:"
   ]
  },
  {
   "cell_type": "code",
   "execution_count": 62,
   "id": "9708447c",
   "metadata": {},
   "outputs": [],
   "source": [
    "arr_slice = arr[8:]"
   ]
  },
  {
   "cell_type": "code",
   "execution_count": 63,
   "id": "4ad7cf78",
   "metadata": {},
   "outputs": [
    {
     "data": {
      "text/plain": [
       "array([7, 7])"
      ]
     },
     "execution_count": 63,
     "metadata": {},
     "output_type": "execute_result"
    }
   ],
   "source": [
    "arr_slice"
   ]
  },
  {
   "cell_type": "markdown",
   "id": "00e78e3f",
   "metadata": {},
   "source": [
    "Now, if the values of arr_slice is changed it will also change in the source array."
   ]
  },
  {
   "cell_type": "code",
   "execution_count": 64,
   "id": "1e451167",
   "metadata": {},
   "outputs": [],
   "source": [
    "arr_slice[:] = 8"
   ]
  },
  {
   "cell_type": "code",
   "execution_count": 65,
   "id": "84b66bc8",
   "metadata": {},
   "outputs": [
    {
     "data": {
      "text/plain": [
       "array([0, 1, 2, 3, 4, 5, 6, 7, 8, 8])"
      ]
     },
     "execution_count": 65,
     "metadata": {},
     "output_type": "execute_result"
    }
   ],
   "source": [
    "arr"
   ]
  },
  {
   "cell_type": "markdown",
   "id": "6e60d8d2",
   "metadata": {},
   "source": [
    "We can use, __array.copy()__ method explicitly to copy the array instead of view."
   ]
  },
  {
   "cell_type": "markdown",
   "id": "cd9e8e63",
   "metadata": {},
   "source": [
    "For example,"
   ]
  },
  {
   "cell_type": "code",
   "execution_count": 66,
   "id": "af9cca02",
   "metadata": {},
   "outputs": [],
   "source": [
    "arr_slice2 = arr[1:5].copy()"
   ]
  },
  {
   "cell_type": "code",
   "execution_count": 67,
   "id": "22b8633c",
   "metadata": {},
   "outputs": [
    {
     "data": {
      "text/plain": [
       "array([1, 2, 3, 4])"
      ]
     },
     "execution_count": 67,
     "metadata": {},
     "output_type": "execute_result"
    }
   ],
   "source": [
    "arr_slice2"
   ]
  },
  {
   "cell_type": "code",
   "execution_count": 68,
   "id": "01506db2",
   "metadata": {},
   "outputs": [],
   "source": [
    "arr_slice2[:] = 0"
   ]
  },
  {
   "cell_type": "code",
   "execution_count": 69,
   "id": "b72230e5",
   "metadata": {},
   "outputs": [
    {
     "data": {
      "text/plain": [
       "array([0, 0, 0, 0])"
      ]
     },
     "execution_count": 69,
     "metadata": {},
     "output_type": "execute_result"
    }
   ],
   "source": [
    "arr_slice2"
   ]
  },
  {
   "cell_type": "code",
   "execution_count": 70,
   "id": "e0ebf1de",
   "metadata": {},
   "outputs": [
    {
     "data": {
      "text/plain": [
       "array([0, 1, 2, 3, 4, 5, 6, 7, 8, 8])"
      ]
     },
     "execution_count": 70,
     "metadata": {},
     "output_type": "execute_result"
    }
   ],
   "source": [
    "arr"
   ]
  },
  {
   "cell_type": "markdown",
   "id": "8728e444",
   "metadata": {},
   "source": [
    "In this case, the original array is unaffected as __.copy__ is used to explicitly copy instead of view of original array."
   ]
  },
  {
   "cell_type": "markdown",
   "id": "fad66813",
   "metadata": {},
   "source": [
    "For higher dimensional arrays, it can be treated as nested lists from python, where the element at each index are no longer scalars but rather lower dimensional ndarray."
   ]
  },
  {
   "cell_type": "markdown",
   "id": "3a7a3f5a",
   "metadata": {},
   "source": [
    "##### In 2-D Array"
   ]
  },
  {
   "cell_type": "code",
   "execution_count": 71,
   "id": "d210911e",
   "metadata": {},
   "outputs": [],
   "source": [
    "arr2d = np.arange(1, 10).reshape((3, 3))"
   ]
  },
  {
   "cell_type": "code",
   "execution_count": 72,
   "id": "3f47dc45",
   "metadata": {},
   "outputs": [
    {
     "data": {
      "text/plain": [
       "array([[1, 2, 3],\n",
       "       [4, 5, 6],\n",
       "       [7, 8, 9]])"
      ]
     },
     "execution_count": 72,
     "metadata": {},
     "output_type": "execute_result"
    }
   ],
   "source": [
    "arr2d"
   ]
  },
  {
   "cell_type": "code",
   "execution_count": 73,
   "id": "dcb5946a",
   "metadata": {},
   "outputs": [
    {
     "data": {
      "text/plain": [
       "array([4, 5, 6])"
      ]
     },
     "execution_count": 73,
     "metadata": {},
     "output_type": "execute_result"
    }
   ],
   "source": [
    "arr2d[1]"
   ]
  },
  {
   "cell_type": "code",
   "execution_count": 74,
   "id": "28f4445a",
   "metadata": {},
   "outputs": [
    {
     "data": {
      "text/plain": [
       "7"
      ]
     },
     "execution_count": 74,
     "metadata": {},
     "output_type": "execute_result"
    }
   ],
   "source": [
    "arr2d[2][0]"
   ]
  },
  {
   "cell_type": "code",
   "execution_count": 75,
   "id": "fcfc63c8",
   "metadata": {},
   "outputs": [
    {
     "data": {
      "text/plain": [
       "9"
      ]
     },
     "execution_count": 75,
     "metadata": {},
     "output_type": "execute_result"
    }
   ],
   "source": [
    "arr2d[2, 2]"
   ]
  },
  {
   "cell_type": "markdown",
   "id": "dc328c1e",
   "metadata": {},
   "source": [
    "##### In 3-D Array"
   ]
  },
  {
   "cell_type": "code",
   "execution_count": 76,
   "id": "7e252592",
   "metadata": {},
   "outputs": [],
   "source": [
    "arr3d = np.arange(1, 13).reshape((2, 2, 3))"
   ]
  },
  {
   "cell_type": "code",
   "execution_count": 77,
   "id": "f9fbfd03",
   "metadata": {},
   "outputs": [
    {
     "data": {
      "text/plain": [
       "array([[[ 1,  2,  3],\n",
       "        [ 4,  5,  6]],\n",
       "\n",
       "       [[ 7,  8,  9],\n",
       "        [10, 11, 12]]])"
      ]
     },
     "execution_count": 77,
     "metadata": {},
     "output_type": "execute_result"
    }
   ],
   "source": [
    "arr3d"
   ]
  },
  {
   "cell_type": "code",
   "execution_count": 78,
   "id": "ba403de8",
   "metadata": {},
   "outputs": [
    {
     "data": {
      "text/plain": [
       "array([[1, 2, 3],\n",
       "       [4, 5, 6]])"
      ]
     },
     "execution_count": 78,
     "metadata": {},
     "output_type": "execute_result"
    }
   ],
   "source": [
    "arr3d[0]"
   ]
  },
  {
   "cell_type": "markdown",
   "id": "5a2b2fc3",
   "metadata": {},
   "source": [
    "Both scalar values or another array can be assigned to the slices."
   ]
  },
  {
   "cell_type": "code",
   "execution_count": 79,
   "id": "2cb4a06f",
   "metadata": {},
   "outputs": [],
   "source": [
    "backup = arr3d[0].copy()"
   ]
  },
  {
   "cell_type": "code",
   "execution_count": 80,
   "id": "84b5a9dd",
   "metadata": {},
   "outputs": [],
   "source": [
    "arr3d[0] = 0"
   ]
  },
  {
   "cell_type": "code",
   "execution_count": 81,
   "id": "632cd20d",
   "metadata": {},
   "outputs": [
    {
     "data": {
      "text/plain": [
       "array([[[ 0,  0,  0],\n",
       "        [ 0,  0,  0]],\n",
       "\n",
       "       [[ 7,  8,  9],\n",
       "        [10, 11, 12]]])"
      ]
     },
     "execution_count": 81,
     "metadata": {},
     "output_type": "execute_result"
    }
   ],
   "source": [
    "arr3d"
   ]
  },
  {
   "cell_type": "code",
   "execution_count": 82,
   "id": "91e67a21",
   "metadata": {},
   "outputs": [],
   "source": [
    "arr3d[0] = backup"
   ]
  },
  {
   "cell_type": "code",
   "execution_count": 83,
   "id": "993dc7f1",
   "metadata": {},
   "outputs": [
    {
     "data": {
      "text/plain": [
       "array([[[ 1,  2,  3],\n",
       "        [ 4,  5,  6]],\n",
       "\n",
       "       [[ 7,  8,  9],\n",
       "        [10, 11, 12]]])"
      ]
     },
     "execution_count": 83,
     "metadata": {},
     "output_type": "execute_result"
    }
   ],
   "source": [
    "arr3d"
   ]
  },
  {
   "cell_type": "markdown",
   "id": "a4a8b9f3",
   "metadata": {},
   "source": [
    "similarly,"
   ]
  },
  {
   "cell_type": "code",
   "execution_count": 84,
   "id": "a5e04efd",
   "metadata": {},
   "outputs": [
    {
     "data": {
      "text/plain": [
       "array([7, 8, 9])"
      ]
     },
     "execution_count": 84,
     "metadata": {},
     "output_type": "execute_result"
    }
   ],
   "source": [
    "arr3d[1, 0]"
   ]
  },
  {
   "cell_type": "markdown",
   "id": "f8a79f08",
   "metadata": {},
   "source": [
    "<span style='color:red'>Note</span> that in all of these cases where subsections of the array have been selected, the returned arrays are views."
   ]
  },
  {
   "cell_type": "markdown",
   "id": "12b12d87",
   "metadata": {},
   "source": [
    "#### Indexing with slices"
   ]
  },
  {
   "cell_type": "markdown",
   "id": "7c658839",
   "metadata": {},
   "source": [
    "As mentioned, ndarrays can be sliced with similar syntax of Python lists. for example"
   ]
  },
  {
   "cell_type": "code",
   "execution_count": 85,
   "id": "8d003d1a",
   "metadata": {},
   "outputs": [
    {
     "data": {
      "text/plain": [
       "array([0, 1, 2, 3, 4, 5, 6, 7, 8, 8])"
      ]
     },
     "execution_count": 85,
     "metadata": {},
     "output_type": "execute_result"
    }
   ],
   "source": [
    "arr"
   ]
  },
  {
   "cell_type": "code",
   "execution_count": 86,
   "id": "18fa5ac3",
   "metadata": {},
   "outputs": [
    {
     "data": {
      "text/plain": [
       "array([2, 3, 4, 5, 6, 7])"
      ]
     },
     "execution_count": 86,
     "metadata": {},
     "output_type": "execute_result"
    }
   ],
   "source": [
    "arr[2:8]"
   ]
  },
  {
   "cell_type": "code",
   "execution_count": 87,
   "id": "cdfe4bdb",
   "metadata": {},
   "outputs": [
    {
     "data": {
      "text/plain": [
       "array([[1, 2, 3],\n",
       "       [4, 5, 6],\n",
       "       [7, 8, 9]])"
      ]
     },
     "execution_count": 87,
     "metadata": {},
     "output_type": "execute_result"
    }
   ],
   "source": [
    "arr2d"
   ]
  },
  {
   "cell_type": "code",
   "execution_count": 88,
   "id": "264da3e2",
   "metadata": {},
   "outputs": [
    {
     "data": {
      "text/plain": [
       "array([[1, 2, 3],\n",
       "       [4, 5, 6]])"
      ]
     },
     "execution_count": 88,
     "metadata": {},
     "output_type": "execute_result"
    }
   ],
   "source": [
    "arr2d[:2]"
   ]
  },
  {
   "cell_type": "markdown",
   "id": "b700760f",
   "metadata": {},
   "source": [
    "In 2-D array, it has sliced along axis 0, the first axis. A slice, therefore selects a range of elements along an axis."
   ]
  },
  {
   "cell_type": "markdown",
   "id": "c51d7580",
   "metadata": {},
   "source": [
    "We can pass multiple slices like the multiple indexes separated with comma."
   ]
  },
  {
   "cell_type": "code",
   "execution_count": 89,
   "id": "951c8c7f",
   "metadata": {},
   "outputs": [
    {
     "data": {
      "text/plain": [
       "array([[2, 3],\n",
       "       [5, 6]])"
      ]
     },
     "execution_count": 89,
     "metadata": {},
     "output_type": "execute_result"
    }
   ],
   "source": [
    "arr2d[:2, 1:]"
   ]
  },
  {
   "cell_type": "markdown",
   "id": "20bfdeb7",
   "metadata": {},
   "source": [
    "When slicing like this, you always obtain array views of the same number of dimensions. By mixing integer indexes and slices, you get lower dimensional slices."
   ]
  },
  {
   "cell_type": "code",
   "execution_count": 90,
   "id": "9f97ef89",
   "metadata": {},
   "outputs": [
    {
     "data": {
      "text/plain": [
       "array([4, 5])"
      ]
     },
     "execution_count": 90,
     "metadata": {},
     "output_type": "execute_result"
    }
   ],
   "source": [
    "arr2d[1, :2]"
   ]
  },
  {
   "cell_type": "markdown",
   "id": "fb30b2a0",
   "metadata": {},
   "source": [
    "similarly, assigning to slice expression assigns to whole section:"
   ]
  },
  {
   "cell_type": "code",
   "execution_count": 91,
   "id": "20050fb2",
   "metadata": {},
   "outputs": [
    {
     "data": {
      "text/plain": [
       "array([[1, 2, 3],\n",
       "       [4, 5, 6],\n",
       "       [7, 8, 9]])"
      ]
     },
     "execution_count": 91,
     "metadata": {},
     "output_type": "execute_result"
    }
   ],
   "source": [
    "arr2d"
   ]
  },
  {
   "cell_type": "code",
   "execution_count": 92,
   "id": "93f3b517",
   "metadata": {},
   "outputs": [],
   "source": [
    "arr2d[:2, :1] = 0"
   ]
  },
  {
   "cell_type": "code",
   "execution_count": 93,
   "id": "147aec27",
   "metadata": {},
   "outputs": [
    {
     "data": {
      "text/plain": [
       "array([[0, 2, 3],\n",
       "       [0, 5, 6],\n",
       "       [7, 8, 9]])"
      ]
     },
     "execution_count": 93,
     "metadata": {},
     "output_type": "execute_result"
    }
   ],
   "source": [
    "arr2d"
   ]
  },
  {
   "cell_type": "markdown",
   "id": "edb7692d",
   "metadata": {},
   "source": [
    "***"
   ]
  },
  {
   "cell_type": "markdown",
   "id": "9c28a70b",
   "metadata": {},
   "source": [
    "### Boolean Indexing"
   ]
  },
  {
   "cell_type": "markdown",
   "id": "ee7cba82",
   "metadata": {},
   "source": [
    "Lets set a example with array of names with duplicate value and another array with random normally distributed data with __randn__ function in numpy.random."
   ]
  },
  {
   "cell_type": "code",
   "execution_count": 94,
   "id": "c3031079",
   "metadata": {},
   "outputs": [],
   "source": [
    "names = np.array(['Bob', 'Joe', 'Will', 'Bob', 'Will', 'Joe', 'Joe'])"
   ]
  },
  {
   "cell_type": "code",
   "execution_count": 95,
   "id": "8bb9267d",
   "metadata": {},
   "outputs": [],
   "source": [
    " data = np.random.randn(7, 4)"
   ]
  },
  {
   "cell_type": "code",
   "execution_count": 96,
   "id": "f706f7bf",
   "metadata": {},
   "outputs": [
    {
     "data": {
      "text/plain": [
       "array(['Bob', 'Joe', 'Will', 'Bob', 'Will', 'Joe', 'Joe'], dtype='<U4')"
      ]
     },
     "execution_count": 96,
     "metadata": {},
     "output_type": "execute_result"
    }
   ],
   "source": [
    "names"
   ]
  },
  {
   "cell_type": "code",
   "execution_count": 97,
   "id": "23e4c7b6",
   "metadata": {},
   "outputs": [
    {
     "data": {
      "text/plain": [
       "array([[-1.20490654,  2.03685471,  0.76180205, -0.38895965],\n",
       "       [ 0.26760261, -0.24752945, -0.84425982,  1.66922996],\n",
       "       [-0.26200389, -0.58179406, -2.17326023, -0.77225716],\n",
       "       [-0.03685835,  0.04415635,  0.04193251, -0.01723994],\n",
       "       [-0.47346649,  1.26775604, -0.32353586, -0.37955717],\n",
       "       [-1.133134  , -0.92008706,  0.24985178,  2.11585902],\n",
       "       [ 0.76948771, -1.06877757,  0.34356441, -0.0033556 ]])"
      ]
     },
     "execution_count": 97,
     "metadata": {},
     "output_type": "execute_result"
    }
   ],
   "source": [
    "data"
   ]
  },
  {
   "cell_type": "markdown",
   "id": "f827654f",
   "metadata": {},
   "source": [
    "Suppose each name corresponds to a row in the data array and we wanted to select all the rows with corresponding name 'Bob'. Like arithmetic operations, comparisons (such as ==) with arrays are also vectorized. Thus, comparing names with the string 'Bob' yields a boolean array:"
   ]
  },
  {
   "cell_type": "code",
   "execution_count": 98,
   "id": "6240a574",
   "metadata": {},
   "outputs": [
    {
     "data": {
      "text/plain": [
       "array([ True, False, False,  True, False, False, False])"
      ]
     },
     "execution_count": 98,
     "metadata": {},
     "output_type": "execute_result"
    }
   ],
   "source": [
    "names == 'Bob'"
   ]
  },
  {
   "cell_type": "markdown",
   "id": "aef42919",
   "metadata": {},
   "source": [
    "now, this boolean array can be passed as indexing to data array."
   ]
  },
  {
   "cell_type": "code",
   "execution_count": 99,
   "id": "4f755d98",
   "metadata": {},
   "outputs": [
    {
     "data": {
      "text/plain": [
       "array([[-1.20490654,  2.03685471,  0.76180205, -0.38895965],\n",
       "       [-0.03685835,  0.04415635,  0.04193251, -0.01723994]])"
      ]
     },
     "execution_count": 99,
     "metadata": {},
     "output_type": "execute_result"
    }
   ],
   "source": [
    "data[names == 'Bob']"
   ]
  },
  {
   "cell_type": "markdown",
   "id": "51d1648d",
   "metadata": {},
   "source": [
    "The boolean array must be of same length as the array axis it's indexing."
   ]
  },
  {
   "cell_type": "markdown",
   "id": "be156402",
   "metadata": {},
   "source": [
    "<span style='color:red'> Note:</span> Boolean section will not fail even if the boolean array is not the correct length."
   ]
  },
  {
   "cell_type": "markdown",
   "id": "23cb0d00",
   "metadata": {},
   "source": [
    "Furthermore, to select everything but 'Bob', we can use __!=__ or negate the condition using __~__"
   ]
  },
  {
   "cell_type": "code",
   "execution_count": 100,
   "id": "1b59bd37",
   "metadata": {},
   "outputs": [
    {
     "data": {
      "text/plain": [
       "array([False,  True,  True, False,  True,  True,  True])"
      ]
     },
     "execution_count": 100,
     "metadata": {},
     "output_type": "execute_result"
    }
   ],
   "source": [
    "names != 'Bob'"
   ]
  },
  {
   "cell_type": "code",
   "execution_count": 101,
   "id": "1e66c8ca",
   "metadata": {},
   "outputs": [
    {
     "data": {
      "text/plain": [
       "array([[ 0.26760261, -0.24752945, -0.84425982,  1.66922996],\n",
       "       [-0.26200389, -0.58179406, -2.17326023, -0.77225716],\n",
       "       [-0.47346649,  1.26775604, -0.32353586, -0.37955717],\n",
       "       [-1.133134  , -0.92008706,  0.24985178,  2.11585902],\n",
       "       [ 0.76948771, -1.06877757,  0.34356441, -0.0033556 ]])"
      ]
     },
     "execution_count": 101,
     "metadata": {},
     "output_type": "execute_result"
    }
   ],
   "source": [
    "data[names != 'Bob']"
   ]
  },
  {
   "cell_type": "code",
   "execution_count": 102,
   "id": "00c908a0",
   "metadata": {},
   "outputs": [
    {
     "data": {
      "text/plain": [
       "array([[ 0.26760261, -0.24752945, -0.84425982,  1.66922996],\n",
       "       [-0.26200389, -0.58179406, -2.17326023, -0.77225716],\n",
       "       [-0.47346649,  1.26775604, -0.32353586, -0.37955717],\n",
       "       [-1.133134  , -0.92008706,  0.24985178,  2.11585902],\n",
       "       [ 0.76948771, -1.06877757,  0.34356441, -0.0033556 ]])"
      ]
     },
     "execution_count": 102,
     "metadata": {},
     "output_type": "execute_result"
    }
   ],
   "source": [
    "data[~(names == 'Bob')]"
   ]
  },
  {
   "cell_type": "markdown",
   "id": "42a86740",
   "metadata": {},
   "source": [
    "It is more useful and effiecient like this:"
   ]
  },
  {
   "cell_type": "code",
   "execution_count": 103,
   "id": "9942d6b7",
   "metadata": {},
   "outputs": [],
   "source": [
    "cond = names == 'Bob'"
   ]
  },
  {
   "cell_type": "code",
   "execution_count": 104,
   "id": "afc4a4a6",
   "metadata": {},
   "outputs": [
    {
     "data": {
      "text/plain": [
       "array([[ 0.26760261, -0.24752945, -0.84425982,  1.66922996],\n",
       "       [-0.26200389, -0.58179406, -2.17326023, -0.77225716],\n",
       "       [-0.47346649,  1.26775604, -0.32353586, -0.37955717],\n",
       "       [-1.133134  , -0.92008706,  0.24985178,  2.11585902],\n",
       "       [ 0.76948771, -1.06877757,  0.34356441, -0.0033556 ]])"
      ]
     },
     "execution_count": 104,
     "metadata": {},
     "output_type": "execute_result"
    }
   ],
   "source": [
    "data[~cond]"
   ]
  },
  {
   "cell_type": "markdown",
   "id": "d3a86751",
   "metadata": {},
   "source": [
    "& (and) and | (or) operators can be used to combine multiple conditions for boolean arithmetic opertions:"
   ]
  },
  {
   "cell_type": "code",
   "execution_count": 105,
   "id": "b3cf3f40",
   "metadata": {},
   "outputs": [],
   "source": [
    "mask = (names == 'Bob') | (names == 'Will')"
   ]
  },
  {
   "cell_type": "code",
   "execution_count": 106,
   "id": "d7834c69",
   "metadata": {},
   "outputs": [
    {
     "data": {
      "text/plain": [
       "array([ True, False,  True,  True,  True, False, False])"
      ]
     },
     "execution_count": 106,
     "metadata": {},
     "output_type": "execute_result"
    }
   ],
   "source": [
    "mask"
   ]
  },
  {
   "cell_type": "code",
   "execution_count": 107,
   "id": "3d3b0a60",
   "metadata": {},
   "outputs": [
    {
     "data": {
      "text/plain": [
       "array([[-1.20490654,  2.03685471,  0.76180205, -0.38895965],\n",
       "       [-0.26200389, -0.58179406, -2.17326023, -0.77225716],\n",
       "       [-0.03685835,  0.04415635,  0.04193251, -0.01723994],\n",
       "       [-0.47346649,  1.26775604, -0.32353586, -0.37955717]])"
      ]
     },
     "execution_count": 107,
     "metadata": {},
     "output_type": "execute_result"
    }
   ],
   "source": [
    "data[mask]"
   ]
  },
  {
   "cell_type": "markdown",
   "id": "0d217955",
   "metadata": {},
   "source": [
    "Selecting data from an array by boolean indexing always create a copy of the data, even if the returned array is unchanged."
   ]
  },
  {
   "cell_type": "markdown",
   "id": "ebef10f7",
   "metadata": {},
   "source": [
    "<span style='color:red'> Note:</span> The Python keywords __'and'__ and __'or__' do not work with boolean arrays. Use the symbols __'&'__ and __'|'__ respectively."
   ]
  },
  {
   "cell_type": "markdown",
   "id": "fa4c77f1",
   "metadata": {},
   "source": [
    "Setting values with boolean arrays:"
   ]
  },
  {
   "cell_type": "code",
   "execution_count": 108,
   "id": "bc4970d5",
   "metadata": {},
   "outputs": [],
   "source": [
    "data[data < 0] = 0"
   ]
  },
  {
   "cell_type": "code",
   "execution_count": 109,
   "id": "a74e6b1c",
   "metadata": {},
   "outputs": [
    {
     "data": {
      "text/plain": [
       "array([[0.        , 2.03685471, 0.76180205, 0.        ],\n",
       "       [0.26760261, 0.        , 0.        , 1.66922996],\n",
       "       [0.        , 0.        , 0.        , 0.        ],\n",
       "       [0.        , 0.04415635, 0.04193251, 0.        ],\n",
       "       [0.        , 1.26775604, 0.        , 0.        ],\n",
       "       [0.        , 0.        , 0.24985178, 2.11585902],\n",
       "       [0.76948771, 0.        , 0.34356441, 0.        ]])"
      ]
     },
     "execution_count": 109,
     "metadata": {},
     "output_type": "execute_result"
    }
   ],
   "source": [
    "data"
   ]
  },
  {
   "cell_type": "code",
   "execution_count": 110,
   "id": "a03cb9b8",
   "metadata": {},
   "outputs": [],
   "source": [
    "data [names != 'Joe'] = 7"
   ]
  },
  {
   "cell_type": "code",
   "execution_count": 111,
   "id": "c98ef402",
   "metadata": {},
   "outputs": [
    {
     "data": {
      "text/plain": [
       "array([[7.        , 7.        , 7.        , 7.        ],\n",
       "       [0.26760261, 0.        , 0.        , 1.66922996],\n",
       "       [7.        , 7.        , 7.        , 7.        ],\n",
       "       [7.        , 7.        , 7.        , 7.        ],\n",
       "       [7.        , 7.        , 7.        , 7.        ],\n",
       "       [0.        , 0.        , 0.24985178, 2.11585902],\n",
       "       [0.76948771, 0.        , 0.34356441, 0.        ]])"
      ]
     },
     "execution_count": 111,
     "metadata": {},
     "output_type": "execute_result"
    }
   ],
   "source": [
    "data"
   ]
  },
  {
   "cell_type": "markdown",
   "id": "fb5acd90",
   "metadata": {},
   "source": [
    "***"
   ]
  },
  {
   "cell_type": "markdown",
   "id": "51bbd98c",
   "metadata": {},
   "source": [
    "### Fancy Indexing"
   ]
  },
  {
   "cell_type": "markdown",
   "id": "01b1d33f",
   "metadata": {},
   "source": [
    "Fancy indexing is a term to describe indexing using integer arrays:"
   ]
  },
  {
   "cell_type": "code",
   "execution_count": 112,
   "id": "a17422f6",
   "metadata": {},
   "outputs": [],
   "source": [
    "arr = np.empty((3, 4))"
   ]
  },
  {
   "cell_type": "code",
   "execution_count": 113,
   "id": "b44ec845",
   "metadata": {},
   "outputs": [
    {
     "data": {
      "text/plain": [
       "array([[9.39762227e-312, 2.81617418e-322, 0.00000000e+000,\n",
       "        0.00000000e+000],\n",
       "       [0.00000000e+000, 8.75983079e+164, 4.71769982e-090,\n",
       "        8.60677331e-067],\n",
       "       [9.98595732e-048, 3.38045906e-057, 6.48224659e+170,\n",
       "        4.93432906e+257]])"
      ]
     },
     "execution_count": 113,
     "metadata": {},
     "output_type": "execute_result"
    }
   ],
   "source": [
    "arr"
   ]
  },
  {
   "cell_type": "code",
   "execution_count": 114,
   "id": "07799d9f",
   "metadata": {},
   "outputs": [],
   "source": [
    "for i in range(3):\n",
    "    arr[i] = i"
   ]
  },
  {
   "cell_type": "code",
   "execution_count": 115,
   "id": "1f22c85a",
   "metadata": {},
   "outputs": [
    {
     "data": {
      "text/plain": [
       "array([[0., 0., 0., 0.],\n",
       "       [1., 1., 1., 1.],\n",
       "       [2., 2., 2., 2.]])"
      ]
     },
     "execution_count": 115,
     "metadata": {},
     "output_type": "execute_result"
    }
   ],
   "source": [
    "arr"
   ]
  },
  {
   "cell_type": "markdown",
   "id": "265f0c23",
   "metadata": {},
   "source": [
    "To select out a subset of the rows in a particular order, you can simply pass a list orndarray of integers specifying the desired order"
   ]
  },
  {
   "cell_type": "code",
   "execution_count": 116,
   "id": "80da20e9",
   "metadata": {},
   "outputs": [
    {
     "data": {
      "text/plain": [
       "array([[1., 1., 1., 1.],\n",
       "       [2., 2., 2., 2.],\n",
       "       [0., 0., 0., 0.]])"
      ]
     },
     "execution_count": 116,
     "metadata": {},
     "output_type": "execute_result"
    }
   ],
   "source": [
    "arr[[1, 2, 0]]"
   ]
  },
  {
   "cell_type": "code",
   "execution_count": 117,
   "id": "3bec165f",
   "metadata": {},
   "outputs": [
    {
     "data": {
      "text/plain": [
       "array([[2., 2., 2., 2.],\n",
       "       [1., 1., 1., 1.],\n",
       "       [0., 0., 0., 0.]])"
      ]
     },
     "execution_count": 117,
     "metadata": {},
     "output_type": "execute_result"
    }
   ],
   "source": [
    "arr[[-1, -2, -3]]"
   ]
  },
  {
   "cell_type": "markdown",
   "id": "9431a059",
   "metadata": {},
   "source": [
    "By passing multiple index arrays selects a one-dimensional array of elements corresponding to each tuple of indices:"
   ]
  },
  {
   "cell_type": "code",
   "execution_count": 118,
   "id": "86acb02e",
   "metadata": {},
   "outputs": [],
   "source": [
    "arr = np.arange(32).reshape((8, 4))"
   ]
  },
  {
   "cell_type": "code",
   "execution_count": 119,
   "id": "807e86ce",
   "metadata": {},
   "outputs": [
    {
     "data": {
      "text/plain": [
       "array([[ 0,  1,  2,  3],\n",
       "       [ 4,  5,  6,  7],\n",
       "       [ 8,  9, 10, 11],\n",
       "       [12, 13, 14, 15],\n",
       "       [16, 17, 18, 19],\n",
       "       [20, 21, 22, 23],\n",
       "       [24, 25, 26, 27],\n",
       "       [28, 29, 30, 31]])"
      ]
     },
     "execution_count": 119,
     "metadata": {},
     "output_type": "execute_result"
    }
   ],
   "source": [
    "arr"
   ]
  },
  {
   "cell_type": "code",
   "execution_count": 120,
   "id": "2c802bd6",
   "metadata": {},
   "outputs": [
    {
     "data": {
      "text/plain": [
       "array([ 4, 23, 29, 10])"
      ]
     },
     "execution_count": 120,
     "metadata": {},
     "output_type": "execute_result"
    }
   ],
   "source": [
    "arr[[1, 5, 7, 2], [0, 3, 1, 2]]"
   ]
  },
  {
   "cell_type": "markdown",
   "id": "d85834c8",
   "metadata": {},
   "source": [
    "Here the elements (1, 0), (5, 3), (7, 1), and (2, 2) were selected. Regardless of how many dimensions the array has (here, only 2), the result of fancy indexing is always one-dimensional."
   ]
  },
  {
   "cell_type": "markdown",
   "id": "7f640c6e",
   "metadata": {},
   "source": [
    "The behavior of fancy indexing in this case is a bit different,  which is the rectangular region formed by selecting a subset of the matrix’s rows and columns. For example:"
   ]
  },
  {
   "cell_type": "code",
   "execution_count": 121,
   "id": "d1bb3aea",
   "metadata": {},
   "outputs": [
    {
     "data": {
      "text/plain": [
       "array([[ 4,  7,  5,  6],\n",
       "       [20, 23, 21, 22],\n",
       "       [28, 31, 29, 30],\n",
       "       [ 8, 11,  9, 10]])"
      ]
     },
     "execution_count": 121,
     "metadata": {},
     "output_type": "execute_result"
    }
   ],
   "source": [
    "arr[[1, 5, 7, 2]][:, [0, 3, 1, 2]]"
   ]
  },
  {
   "cell_type": "markdown",
   "id": "8d8fa0ec",
   "metadata": {},
   "source": [
    "Fancy indexing, unlike slicing, always copies the data into a new array. Hence, the original array is not effected."
   ]
  },
  {
   "cell_type": "markdown",
   "id": "6b244900",
   "metadata": {},
   "source": [
    "***"
   ]
  },
  {
   "cell_type": "markdown",
   "id": "40f95e3a",
   "metadata": {},
   "source": [
    "### Transposing Arrays and Swapping Axes"
   ]
  },
  {
   "cell_type": "markdown",
   "id": "a3213505",
   "metadata": {},
   "source": [
    "Transposing is a mathematical function that changes rows to columns and vice versa in the matrix."
   ]
  },
  {
   "cell_type": "markdown",
   "id": "c74378c3",
   "metadata": {},
   "source": [
    "Transposing is a special form of reshaping that similarly returns a veiw on the underlying data without copying anything. Arrays have __transpose__ method and also the special __T__ attribute:"
   ]
  },
  {
   "cell_type": "code",
   "execution_count": 122,
   "id": "f73184d5",
   "metadata": {},
   "outputs": [],
   "source": [
    "arr = np.arange(15).reshape((3, 5))"
   ]
  },
  {
   "cell_type": "code",
   "execution_count": 123,
   "id": "ca0d9ce4",
   "metadata": {},
   "outputs": [
    {
     "data": {
      "text/plain": [
       "array([[ 0,  1,  2,  3,  4],\n",
       "       [ 5,  6,  7,  8,  9],\n",
       "       [10, 11, 12, 13, 14]])"
      ]
     },
     "execution_count": 123,
     "metadata": {},
     "output_type": "execute_result"
    }
   ],
   "source": [
    "arr"
   ]
  },
  {
   "cell_type": "code",
   "execution_count": 124,
   "id": "43cda046",
   "metadata": {},
   "outputs": [
    {
     "data": {
      "text/plain": [
       "array([[ 0,  5, 10],\n",
       "       [ 1,  6, 11],\n",
       "       [ 2,  7, 12],\n",
       "       [ 3,  8, 13],\n",
       "       [ 4,  9, 14]])"
      ]
     },
     "execution_count": 124,
     "metadata": {},
     "output_type": "execute_result"
    }
   ],
   "source": [
    "arr.T"
   ]
  },
  {
   "cell_type": "markdown",
   "id": "4a399ea1",
   "metadata": {},
   "source": [
    "It is useful when calculating the dot product of the matrix using __np.dot__"
   ]
  },
  {
   "cell_type": "code",
   "execution_count": 125,
   "id": "3630af3a",
   "metadata": {},
   "outputs": [],
   "source": [
    "arr = np.random.randn(6, 3)"
   ]
  },
  {
   "cell_type": "code",
   "execution_count": 126,
   "id": "908d7aff",
   "metadata": {},
   "outputs": [
    {
     "data": {
      "text/plain": [
       "array([[-0.45726237, -1.09278011,  0.14098256],\n",
       "       [-0.14340008,  1.02921547, -0.05027271],\n",
       "       [ 2.11683801,  0.54280933, -0.03433611],\n",
       "       [ 0.83396711,  1.09722374, -0.17766716],\n",
       "       [ 0.7101196 ,  0.01820362, -1.13591547],\n",
       "       [-0.19611839,  0.27647013,  0.07863738]])"
      ]
     },
     "execution_count": 126,
     "metadata": {},
     "output_type": "execute_result"
    }
   ],
   "source": [
    "arr"
   ]
  },
  {
   "cell_type": "code",
   "execution_count": 127,
   "id": "ef3bcee7",
   "metadata": {},
   "outputs": [
    {
     "data": {
      "text/plain": [
       "array([[ 5.94888905,  2.37489145, -1.10016753],\n",
       "       [ 2.37489145,  3.82876187, -0.41831986],\n",
       "       [-1.10016753, -0.41831986,  1.35163581]])"
      ]
     },
     "execution_count": 127,
     "metadata": {},
     "output_type": "execute_result"
    }
   ],
   "source": [
    "np.dot(arr.T, arr)"
   ]
  },
  {
   "cell_type": "markdown",
   "id": "45ceecb8",
   "metadata": {},
   "source": [
    "For higher dimensional arrays, __transpose__ will accept a tuple of axis numbers to permute the axes:"
   ]
  },
  {
   "cell_type": "code",
   "execution_count": 128,
   "id": "1bb9c6ec",
   "metadata": {},
   "outputs": [],
   "source": [
    "arr = np.arange(16).reshape((2, 2, 4))"
   ]
  },
  {
   "cell_type": "code",
   "execution_count": 129,
   "id": "182bbc34",
   "metadata": {},
   "outputs": [
    {
     "data": {
      "text/plain": [
       "array([[[ 0,  1,  2,  3],\n",
       "        [ 4,  5,  6,  7]],\n",
       "\n",
       "       [[ 8,  9, 10, 11],\n",
       "        [12, 13, 14, 15]]])"
      ]
     },
     "execution_count": 129,
     "metadata": {},
     "output_type": "execute_result"
    }
   ],
   "source": [
    "arr"
   ]
  },
  {
   "cell_type": "code",
   "execution_count": 130,
   "id": "abc1f6a1",
   "metadata": {},
   "outputs": [
    {
     "data": {
      "text/plain": [
       "array([[[ 0,  1,  2,  3],\n",
       "        [ 8,  9, 10, 11]],\n",
       "\n",
       "       [[ 4,  5,  6,  7],\n",
       "        [12, 13, 14, 15]]])"
      ]
     },
     "execution_count": 130,
     "metadata": {},
     "output_type": "execute_result"
    }
   ],
   "source": [
    "arr.transpose((1, 0, 2)) # Note: the higher dimensional arrays have multiple axes; in this case 3 axis for 3d array."
   ]
  },
  {
   "cell_type": "markdown",
   "id": "b1f25687",
   "metadata": {},
   "source": [
    "Here, the axes have been reordered with the second axis first, the first axis second, and the last axis unchanged"
   ]
  },
  {
   "cell_type": "markdown",
   "id": "845e9705",
   "metadata": {},
   "source": [
    "ndarray has the method __swapaxes__, which takes a pair of axis numbers and switches the indicated axes to rearrange the data. __swapaxes__ similarly returns a view on the data without making a copy:"
   ]
  },
  {
   "cell_type": "code",
   "execution_count": 131,
   "id": "219325db",
   "metadata": {},
   "outputs": [
    {
     "data": {
      "text/plain": [
       "array([[[ 0,  1,  2,  3],\n",
       "        [ 4,  5,  6,  7]],\n",
       "\n",
       "       [[ 8,  9, 10, 11],\n",
       "        [12, 13, 14, 15]]])"
      ]
     },
     "execution_count": 131,
     "metadata": {},
     "output_type": "execute_result"
    }
   ],
   "source": [
    "arr"
   ]
  },
  {
   "cell_type": "code",
   "execution_count": 132,
   "id": "016565e4",
   "metadata": {},
   "outputs": [
    {
     "data": {
      "text/plain": [
       "array([[[ 0,  4],\n",
       "        [ 1,  5],\n",
       "        [ 2,  6],\n",
       "        [ 3,  7]],\n",
       "\n",
       "       [[ 8, 12],\n",
       "        [ 9, 13],\n",
       "        [10, 14],\n",
       "        [11, 15]]])"
      ]
     },
     "execution_count": 132,
     "metadata": {},
     "output_type": "execute_result"
    }
   ],
   "source": [
    "arr.swapaxes(1, 2)"
   ]
  },
  {
   "cell_type": "markdown",
   "id": "a74ca65c",
   "metadata": {},
   "source": [
    "***"
   ]
  },
  {
   "cell_type": "markdown",
   "id": "0753f50b",
   "metadata": {},
   "source": [
    "## 4.2 Universal Functions: Fast Element-Wise Array Functions"
   ]
  },
  {
   "cell_type": "markdown",
   "id": "aef46c5f",
   "metadata": {},
   "source": [
    "Universal functions of in short __unfunc__ is a function that performs element-wise operations on data in ndarrays. Many ufuncs are simple element-wise transformations, like __sqrt__ or __exp__."
   ]
  },
  {
   "cell_type": "code",
   "execution_count": 133,
   "id": "2235e9c8",
   "metadata": {},
   "outputs": [],
   "source": [
    "arr = np.arange(10)"
   ]
  },
  {
   "cell_type": "code",
   "execution_count": 134,
   "id": "18b71f0f",
   "metadata": {},
   "outputs": [
    {
     "data": {
      "text/plain": [
       "array([0, 1, 2, 3, 4, 5, 6, 7, 8, 9])"
      ]
     },
     "execution_count": 134,
     "metadata": {},
     "output_type": "execute_result"
    }
   ],
   "source": [
    "arr"
   ]
  },
  {
   "cell_type": "code",
   "execution_count": 135,
   "id": "16c84577",
   "metadata": {},
   "outputs": [
    {
     "data": {
      "text/plain": [
       "array([0.        , 1.        , 1.41421356, 1.73205081, 2.        ,\n",
       "       2.23606798, 2.44948974, 2.64575131, 2.82842712, 3.        ])"
      ]
     },
     "execution_count": 135,
     "metadata": {},
     "output_type": "execute_result"
    }
   ],
   "source": [
    "np.sqrt(arr)"
   ]
  },
  {
   "cell_type": "code",
   "execution_count": 136,
   "id": "8c1879d9",
   "metadata": {},
   "outputs": [
    {
     "data": {
      "text/plain": [
       "array([1.00000000e+00, 2.71828183e+00, 7.38905610e+00, 2.00855369e+01,\n",
       "       5.45981500e+01, 1.48413159e+02, 4.03428793e+02, 1.09663316e+03,\n",
       "       2.98095799e+03, 8.10308393e+03])"
      ]
     },
     "execution_count": 136,
     "metadata": {},
     "output_type": "execute_result"
    }
   ],
   "source": [
    "np.exp(arr)"
   ]
  },
  {
   "cell_type": "markdown",
   "id": "e256c304",
   "metadata": {},
   "source": [
    "These are unary ufuncs. Others such as add or maximum, take two arrays to operate (thus, binary ufuncs) and return a single array as the result."
   ]
  },
  {
   "cell_type": "code",
   "execution_count": 137,
   "id": "a3e37ae7",
   "metadata": {},
   "outputs": [],
   "source": [
    "x = np.random.randn(8)"
   ]
  },
  {
   "cell_type": "code",
   "execution_count": 138,
   "id": "26e6e4f8",
   "metadata": {},
   "outputs": [],
   "source": [
    "y = np.random.randn(8)"
   ]
  },
  {
   "cell_type": "code",
   "execution_count": 139,
   "id": "105093a1",
   "metadata": {},
   "outputs": [
    {
     "data": {
      "text/plain": [
       "array([-0.15166587,  0.14137693, -1.17602115,  1.04017828,  0.26283333,\n",
       "        0.37110523, -2.34766472,  0.03997306])"
      ]
     },
     "execution_count": 139,
     "metadata": {},
     "output_type": "execute_result"
    }
   ],
   "source": [
    "x"
   ]
  },
  {
   "cell_type": "code",
   "execution_count": 140,
   "id": "c12be2bb",
   "metadata": {},
   "outputs": [
    {
     "data": {
      "text/plain": [
       "array([-0.50723658,  1.185512  ,  1.43338552, -0.32959159, -1.13167902,\n",
       "       -0.88264188,  0.39771944,  2.18583608])"
      ]
     },
     "execution_count": 140,
     "metadata": {},
     "output_type": "execute_result"
    }
   ],
   "source": [
    "y"
   ]
  },
  {
   "cell_type": "code",
   "execution_count": 141,
   "id": "5234249e",
   "metadata": {},
   "outputs": [
    {
     "data": {
      "text/plain": [
       "array([-0.15166587,  1.185512  ,  1.43338552,  1.04017828,  0.26283333,\n",
       "        0.37110523,  0.39771944,  2.18583608])"
      ]
     },
     "execution_count": 141,
     "metadata": {},
     "output_type": "execute_result"
    }
   ],
   "source": [
    "np.maximum(x, y)"
   ]
  },
  {
   "cell_type": "markdown",
   "id": "ceb6d70f",
   "metadata": {},
   "source": [
    "Here, numpy.maximum computed the element-wise maximum of the elements in x and y"
   ]
  },
  {
   "cell_type": "markdown",
   "id": "36e989ef",
   "metadata": {},
   "source": [
    "some ufunc like __modf__, can return multiple arrays. __modf__ is a vectorized version of built-in Python __divmod__; it returns the fractional and intergral parts of floating-point array:"
   ]
  },
  {
   "cell_type": "code",
   "execution_count": 142,
   "id": "f9a53264",
   "metadata": {},
   "outputs": [],
   "source": [
    "arr = np.random.rand(5) * 5"
   ]
  },
  {
   "cell_type": "code",
   "execution_count": 143,
   "id": "bd23da88",
   "metadata": {},
   "outputs": [
    {
     "data": {
      "text/plain": [
       "array([2.89431831, 1.50857355, 0.20620713, 1.80520653, 2.34562432])"
      ]
     },
     "execution_count": 143,
     "metadata": {},
     "output_type": "execute_result"
    }
   ],
   "source": [
    "arr"
   ]
  },
  {
   "cell_type": "code",
   "execution_count": 144,
   "id": "1173575d",
   "metadata": {},
   "outputs": [],
   "source": [
    "remainder, whole_part = np.modf(arr)"
   ]
  },
  {
   "cell_type": "code",
   "execution_count": 145,
   "id": "4a9e6f03",
   "metadata": {},
   "outputs": [
    {
     "data": {
      "text/plain": [
       "array([0.89431831, 0.50857355, 0.20620713, 0.80520653, 0.34562432])"
      ]
     },
     "execution_count": 145,
     "metadata": {},
     "output_type": "execute_result"
    }
   ],
   "source": [
    "remainder"
   ]
  },
  {
   "cell_type": "code",
   "execution_count": 146,
   "id": "9419c001",
   "metadata": {},
   "outputs": [
    {
     "data": {
      "text/plain": [
       "array([2., 1., 0., 1., 2.])"
      ]
     },
     "execution_count": 146,
     "metadata": {},
     "output_type": "execute_result"
    }
   ],
   "source": [
    "whole_part"
   ]
  },
  {
   "cell_type": "markdown",
   "id": "4469e3e0",
   "metadata": {},
   "source": [
    "Furthermore, Ufuncs can accept an optional out argument that allows them to operate in-place on arrays:"
   ]
  },
  {
   "cell_type": "code",
   "execution_count": 147,
   "id": "50727891",
   "metadata": {},
   "outputs": [
    {
     "data": {
      "text/plain": [
       "array([2.89431831, 1.50857355, 0.20620713, 1.80520653, 2.34562432])"
      ]
     },
     "execution_count": 147,
     "metadata": {},
     "output_type": "execute_result"
    }
   ],
   "source": [
    "arr"
   ]
  },
  {
   "cell_type": "code",
   "execution_count": 148,
   "id": "bee95854",
   "metadata": {},
   "outputs": [
    {
     "data": {
      "text/plain": [
       "array([1.70126962, 1.22824002, 0.45410035, 1.34357974, 1.53154312])"
      ]
     },
     "execution_count": 148,
     "metadata": {},
     "output_type": "execute_result"
    }
   ],
   "source": [
    "np.sqrt(arr)"
   ]
  },
  {
   "cell_type": "code",
   "execution_count": 149,
   "id": "5d404043",
   "metadata": {},
   "outputs": [
    {
     "data": {
      "text/plain": [
       "array([1.70126962, 1.22824002, 0.45410035, 1.34357974, 1.53154312])"
      ]
     },
     "execution_count": 149,
     "metadata": {},
     "output_type": "execute_result"
    }
   ],
   "source": [
    "np.sqrt(arr, arr)"
   ]
  },
  {
   "cell_type": "code",
   "execution_count": 150,
   "id": "bee7ecf0",
   "metadata": {},
   "outputs": [
    {
     "data": {
      "text/plain": [
       "array([1.70126962, 1.22824002, 0.45410035, 1.34357974, 1.53154312])"
      ]
     },
     "execution_count": 150,
     "metadata": {},
     "output_type": "execute_result"
    }
   ],
   "source": [
    "arr"
   ]
  },
  {
   "cell_type": "markdown",
   "id": "3978e1ed",
   "metadata": {},
   "source": [
    "***"
   ]
  },
  {
   "cell_type": "markdown",
   "id": "8cfa0f7e",
   "metadata": {},
   "source": [
    "## 4.3 Array-Oriented Programming with Arrays"
   ]
  },
  {
   "cell_type": "markdown",
   "id": "9f97896e",
   "metadata": {},
   "source": [
    "NumPY arrays allows various kinds of data processing tasks as concise array expressions that might otherwise require writing loops. This practice of replacing explicit loops with array expressions is known as vectorization."
   ]
  },
  {
   "cell_type": "markdown",
   "id": "ee4988be",
   "metadata": {},
   "source": [
    "### Expressing Conditional Logic as Array Operations"
   ]
  },
  {
   "cell_type": "markdown",
   "id": "9638b4de",
   "metadata": {},
   "source": [
    "The numpy.where function is a vectorized version of the ternary expression __x if condition else y__. For example:"
   ]
  },
  {
   "cell_type": "code",
   "execution_count": 151,
   "id": "99cd7527",
   "metadata": {
    "scrolled": true
   },
   "outputs": [],
   "source": [
    "xarr = np.array([1.1, 1.2, 1.3, 1.4, 1.5])"
   ]
  },
  {
   "cell_type": "code",
   "execution_count": 152,
   "id": "15b4ce24",
   "metadata": {},
   "outputs": [],
   "source": [
    "yarr = np.array([2.1, 2.2, 2.3, 2.4, 2.5])"
   ]
  },
  {
   "cell_type": "code",
   "execution_count": 153,
   "id": "9f2f663e",
   "metadata": {},
   "outputs": [],
   "source": [
    "cond = np.array([True, False, True, True, False])"
   ]
  },
  {
   "cell_type": "markdown",
   "id": "6b87eade",
   "metadata": {},
   "source": [
    "Now, if we want to take a value from xarr when the corresponding value in cond is True, else take the value from yarr. Then, the list comprehension will be:"
   ]
  },
  {
   "cell_type": "code",
   "execution_count": 154,
   "id": "c57760f3",
   "metadata": {},
   "outputs": [],
   "source": [
    "result = [(x if c else y)\n",
    "         for x, y, c in zip(xarr, yarr, cond)]"
   ]
  },
  {
   "cell_type": "code",
   "execution_count": 155,
   "id": "e7231a95",
   "metadata": {},
   "outputs": [
    {
     "data": {
      "text/plain": [
       "[1.1, 2.2, 1.3, 1.4, 2.5]"
      ]
     },
     "execution_count": 155,
     "metadata": {},
     "output_type": "execute_result"
    }
   ],
   "source": [
    "result"
   ]
  },
  {
   "cell_type": "markdown",
   "id": "68351c87",
   "metadata": {},
   "source": [
    "Doing so is very slow process for large arrays and its not applicable for multidimensional array. so we can use __np.where__ like this:"
   ]
  },
  {
   "cell_type": "code",
   "execution_count": 156,
   "id": "0974a0c0",
   "metadata": {},
   "outputs": [],
   "source": [
    "result = np.where(cond, xarr, yarr)"
   ]
  },
  {
   "cell_type": "code",
   "execution_count": 157,
   "id": "a2ac3210",
   "metadata": {},
   "outputs": [
    {
     "data": {
      "text/plain": [
       "array([1.1, 2.2, 1.3, 1.4, 2.5])"
      ]
     },
     "execution_count": 157,
     "metadata": {},
     "output_type": "execute_result"
    }
   ],
   "source": [
    "result"
   ]
  },
  {
   "cell_type": "markdown",
   "id": "c71c81bf",
   "metadata": {},
   "source": [
    "The second and third arguments to np.where don’t need to be arrays; one or both of them can be scalars. A typical use of where in data analysis is to produce a new array of values based on another array"
   ]
  },
  {
   "cell_type": "markdown",
   "id": "b3476d5c",
   "metadata": {},
   "source": [
    "For instance, if we had a matrix of randomly generated data and we want to replace all the positive values with 2 and all the negative values with -2. Then, we would do so using __np.where__ like so:"
   ]
  },
  {
   "cell_type": "code",
   "execution_count": 158,
   "id": "518fab2a",
   "metadata": {},
   "outputs": [],
   "source": [
    "arr = np.random.randn(4, 4)"
   ]
  },
  {
   "cell_type": "code",
   "execution_count": 159,
   "id": "9ea557c8",
   "metadata": {},
   "outputs": [
    {
     "data": {
      "text/plain": [
       "array([[-0.78516965,  0.58060301,  0.01626919, -0.01073783],\n",
       "       [ 1.27760903, -1.85373496, -0.32469633,  0.51570682],\n",
       "       [ 1.27020228, -0.63041758,  1.53888679, -1.67593585],\n",
       "       [-0.31828259, -0.47848203,  0.48667744, -0.44150042]])"
      ]
     },
     "execution_count": 159,
     "metadata": {},
     "output_type": "execute_result"
    }
   ],
   "source": [
    "arr"
   ]
  },
  {
   "cell_type": "code",
   "execution_count": 160,
   "id": "2c52062f",
   "metadata": {},
   "outputs": [
    {
     "data": {
      "text/plain": [
       "array([[-2,  2,  2, -2],\n",
       "       [ 2, -2, -2,  2],\n",
       "       [ 2, -2,  2, -2],\n",
       "       [-2, -2,  2, -2]])"
      ]
     },
     "execution_count": 160,
     "metadata": {},
     "output_type": "execute_result"
    }
   ],
   "source": [
    "np.where(arr>0, 2, -2)"
   ]
  },
  {
   "cell_type": "markdown",
   "id": "185314bb",
   "metadata": {},
   "source": [
    "The arrays passed to np.where can be more than just equal-sized arrays or scalars."
   ]
  },
  {
   "cell_type": "markdown",
   "id": "c6b0077d",
   "metadata": {},
   "source": [
    "***"
   ]
  },
  {
   "cell_type": "markdown",
   "id": "896999b4",
   "metadata": {},
   "source": [
    "### Mathematical and Statistical Methods"
   ]
  },
  {
   "cell_type": "markdown",
   "id": "f738df50",
   "metadata": {},
   "source": [
    "A set of mathematical functions that compute statistics about an entire array or about the data along an axis are accessible as methods of the array class."
   ]
  },
  {
   "cell_type": "markdown",
   "id": "3253643c",
   "metadata": {},
   "source": [
    "We can use aggregations(often called reductions) like __sum__, __mean__ and __std__ either by calling the array instance method or using top level NumPy function."
   ]
  },
  {
   "cell_type": "markdown",
   "id": "5e7689fb",
   "metadata": {},
   "source": [
    "For Example:"
   ]
  },
  {
   "cell_type": "code",
   "execution_count": 168,
   "id": "8e0abc15",
   "metadata": {},
   "outputs": [],
   "source": [
    "arr = np.arange(9).reshape((3, 3))"
   ]
  },
  {
   "cell_type": "code",
   "execution_count": 169,
   "id": "a64a8416",
   "metadata": {},
   "outputs": [
    {
     "data": {
      "text/plain": [
       "array([[0, 1, 2],\n",
       "       [3, 4, 5],\n",
       "       [6, 7, 8]])"
      ]
     },
     "execution_count": 169,
     "metadata": {},
     "output_type": "execute_result"
    }
   ],
   "source": [
    "arr"
   ]
  },
  {
   "cell_type": "code",
   "execution_count": 170,
   "id": "2a43cf79",
   "metadata": {},
   "outputs": [
    {
     "data": {
      "text/plain": [
       "4.0"
      ]
     },
     "execution_count": 170,
     "metadata": {},
     "output_type": "execute_result"
    }
   ],
   "source": [
    "arr.mean()"
   ]
  },
  {
   "cell_type": "code",
   "execution_count": 171,
   "id": "3e32b09c",
   "metadata": {},
   "outputs": [
    {
     "data": {
      "text/plain": [
       "4.0"
      ]
     },
     "execution_count": 171,
     "metadata": {},
     "output_type": "execute_result"
    }
   ],
   "source": [
    "np.mean(arr)"
   ]
  },
  {
   "cell_type": "code",
   "execution_count": 172,
   "id": "c507a344",
   "metadata": {},
   "outputs": [
    {
     "data": {
      "text/plain": [
       "36"
      ]
     },
     "execution_count": 172,
     "metadata": {},
     "output_type": "execute_result"
    }
   ],
   "source": [
    "arr.sum()"
   ]
  },
  {
   "cell_type": "markdown",
   "id": "7b37927e",
   "metadata": {},
   "source": [
    "Functions like mean and sum takes optional __axis__ argument which then computes the statistic over the given axis, resulting in an array with one fewer dimension:"
   ]
  },
  {
   "cell_type": "code",
   "execution_count": 173,
   "id": "e6854452",
   "metadata": {},
   "outputs": [
    {
     "data": {
      "text/plain": [
       "array([1., 4., 7.])"
      ]
     },
     "execution_count": 173,
     "metadata": {},
     "output_type": "execute_result"
    }
   ],
   "source": [
    "arr.mean(axis=1)"
   ]
  },
  {
   "cell_type": "code",
   "execution_count": 174,
   "id": "0c6fd45e",
   "metadata": {},
   "outputs": [
    {
     "data": {
      "text/plain": [
       "array([ 3, 12, 21])"
      ]
     },
     "execution_count": 174,
     "metadata": {},
     "output_type": "execute_result"
    }
   ],
   "source": [
    "arr.sum(axis=1)\n",
    "\n",
    " # axis 1 is along the direction of column; it operates row wise"
   ]
  },
  {
   "cell_type": "code",
   "execution_count": 175,
   "id": "7154fd6d",
   "metadata": {},
   "outputs": [
    {
     "data": {
      "text/plain": [
       "array([ 9, 12, 15])"
      ]
     },
     "execution_count": 175,
     "metadata": {},
     "output_type": "execute_result"
    }
   ],
   "source": [
    "arr.sum(axis=0)\n",
    "\n",
    " # axis 0 is along the direction of row; it operates column wise"
   ]
  },
  {
   "cell_type": "markdown",
   "id": "040f20b9",
   "metadata": {},
   "source": [
    "methods like __cumsum__ and __cumprod__ do not aggregate, instead producing an array of the intermediate results:"
   ]
  },
  {
   "cell_type": "code",
   "execution_count": 176,
   "id": "768b0474",
   "metadata": {},
   "outputs": [],
   "source": [
    "arr = np.arange(5)"
   ]
  },
  {
   "cell_type": "code",
   "execution_count": 177,
   "id": "4bf233bd",
   "metadata": {},
   "outputs": [
    {
     "data": {
      "text/plain": [
       "array([0, 1, 2, 3, 4])"
      ]
     },
     "execution_count": 177,
     "metadata": {},
     "output_type": "execute_result"
    }
   ],
   "source": [
    "arr"
   ]
  },
  {
   "cell_type": "code",
   "execution_count": 179,
   "id": "29782a6b",
   "metadata": {},
   "outputs": [
    {
     "data": {
      "text/plain": [
       "array([ 0,  1,  3,  6, 10], dtype=int32)"
      ]
     },
     "execution_count": 179,
     "metadata": {},
     "output_type": "execute_result"
    }
   ],
   "source": [
    "arr.cumsum()"
   ]
  },
  {
   "cell_type": "code",
   "execution_count": 180,
   "id": "45754229",
   "metadata": {},
   "outputs": [
    {
     "data": {
      "text/plain": [
       "array([0, 0, 0, 0, 0], dtype=int32)"
      ]
     },
     "execution_count": 180,
     "metadata": {},
     "output_type": "execute_result"
    }
   ],
   "source": [
    "arr.cumprod()"
   ]
  },
  {
   "cell_type": "code",
   "execution_count": 181,
   "id": "27af2507",
   "metadata": {},
   "outputs": [],
   "source": [
    "arr = np.arange(9).reshape((3, 3))"
   ]
  },
  {
   "cell_type": "code",
   "execution_count": 186,
   "id": "f7958ccf",
   "metadata": {},
   "outputs": [
    {
     "data": {
      "text/plain": [
       "array([[0, 1, 2],\n",
       "       [3, 4, 5],\n",
       "       [6, 7, 8]])"
      ]
     },
     "execution_count": 186,
     "metadata": {},
     "output_type": "execute_result"
    }
   ],
   "source": [
    "arr"
   ]
  },
  {
   "cell_type": "code",
   "execution_count": 184,
   "id": "7e7b3bcd",
   "metadata": {},
   "outputs": [
    {
     "data": {
      "text/plain": [
       "array([[ 0,  1,  2],\n",
       "       [ 3,  5,  7],\n",
       "       [ 9, 12, 15]], dtype=int32)"
      ]
     },
     "execution_count": 184,
     "metadata": {},
     "output_type": "execute_result"
    }
   ],
   "source": [
    "arr.cumsum(axis=0)"
   ]
  },
  {
   "cell_type": "code",
   "execution_count": 185,
   "id": "901c6416",
   "metadata": {},
   "outputs": [
    {
     "data": {
      "text/plain": [
       "array([[  0,   0,   0],\n",
       "       [  3,  12,  60],\n",
       "       [  6,  42, 336]], dtype=int32)"
      ]
     },
     "execution_count": 185,
     "metadata": {},
     "output_type": "execute_result"
    }
   ],
   "source": [
    "arr.cumprod(axis=1)"
   ]
  },
  {
   "cell_type": "markdown",
   "id": "ecf53336",
   "metadata": {},
   "source": [
    "***"
   ]
  },
  {
   "cell_type": "markdown",
   "id": "4654ec01",
   "metadata": {},
   "source": [
    "### Methods for Boolean Arrays"
   ]
  },
  {
   "cell_type": "markdown",
   "id": "7beaa1ba",
   "metadata": {},
   "source": [
    "Boolean values are coerced to 1 (True) and 0 (False) in the preceding methods. Thus, __sum__ is often used as a means of counting True values in a boolean array:"
   ]
  },
  {
   "cell_type": "code",
   "execution_count": 188,
   "id": "8930b221",
   "metadata": {},
   "outputs": [],
   "source": [
    "arr = np.random.randn(100)"
   ]
  },
  {
   "cell_type": "code",
   "execution_count": 193,
   "id": "b14eeb7c",
   "metadata": {},
   "outputs": [
    {
     "data": {
      "text/plain": [
       "55"
      ]
     },
     "execution_count": 193,
     "metadata": {},
     "output_type": "execute_result"
    }
   ],
   "source": [
    "(arr > 0).sum()"
   ]
  },
  {
   "cell_type": "markdown",
   "id": "9b72e816",
   "metadata": {},
   "source": [
    "There are two more methods: __any__ and __all__ which are useful in boolean arrays. __any__ tests whether one or move values in an array is True, while __all__ checks if every value in the array is True"
   ]
  },
  {
   "cell_type": "code",
   "execution_count": 194,
   "id": "22c34ea6",
   "metadata": {},
   "outputs": [],
   "source": [
    "bool_arr = np.array([False, True, True, False, False, True])"
   ]
  },
  {
   "cell_type": "code",
   "execution_count": 195,
   "id": "b26cb603",
   "metadata": {},
   "outputs": [
    {
     "data": {
      "text/plain": [
       "True"
      ]
     },
     "execution_count": 195,
     "metadata": {},
     "output_type": "execute_result"
    }
   ],
   "source": [
    "bool_arr.any()"
   ]
  },
  {
   "cell_type": "code",
   "execution_count": 197,
   "id": "6a263244",
   "metadata": {},
   "outputs": [
    {
     "data": {
      "text/plain": [
       "False"
      ]
     },
     "execution_count": 197,
     "metadata": {},
     "output_type": "execute_result"
    }
   ],
   "source": [
    "bool_arr.all()"
   ]
  },
  {
   "cell_type": "markdown",
   "id": "9b453730",
   "metadata": {},
   "source": [
    "These methods also work with non-boolean arrays, where non-zero elements are considered to be True and all the zero element are False.\n"
   ]
  },
  {
   "cell_type": "markdown",
   "id": "f5b9158c",
   "metadata": {},
   "source": [
    "***"
   ]
  },
  {
   "cell_type": "markdown",
   "id": "71945124",
   "metadata": {},
   "source": [
    "### Sorting"
   ]
  },
  {
   "cell_type": "markdown",
   "id": "927167bf",
   "metadata": {},
   "source": [
    "NumPy arrays can be sorted with __sort__ method like list type in Python."
   ]
  },
  {
   "cell_type": "code",
   "execution_count": 201,
   "id": "635279d8",
   "metadata": {},
   "outputs": [],
   "source": [
    "arr = np.random.randn(5)"
   ]
  },
  {
   "cell_type": "code",
   "execution_count": 202,
   "id": "12f78856",
   "metadata": {},
   "outputs": [
    {
     "data": {
      "text/plain": [
       "array([-0.84108824, -0.68606056, -0.98741838, -0.6465286 , -0.97031332])"
      ]
     },
     "execution_count": 202,
     "metadata": {},
     "output_type": "execute_result"
    }
   ],
   "source": [
    "arr"
   ]
  },
  {
   "cell_type": "code",
   "execution_count": 203,
   "id": "65142659",
   "metadata": {},
   "outputs": [],
   "source": [
    "arr.sort()"
   ]
  },
  {
   "cell_type": "code",
   "execution_count": 204,
   "id": "1e5057d3",
   "metadata": {},
   "outputs": [
    {
     "data": {
      "text/plain": [
       "array([-0.98741838, -0.97031332, -0.84108824, -0.68606056, -0.6465286 ])"
      ]
     },
     "execution_count": 204,
     "metadata": {},
     "output_type": "execute_result"
    }
   ],
   "source": [
    "arr"
   ]
  },
  {
   "cell_type": "markdown",
   "id": "e19ee6a1",
   "metadata": {},
   "source": [
    "Furthermore, each one-dimensional section of values in a multidimensional array can be sorted by passing the axis number."
   ]
  },
  {
   "cell_type": "code",
   "execution_count": 213,
   "id": "b7f08005",
   "metadata": {},
   "outputs": [],
   "source": [
    "arr = np.random.randn(3, 3)"
   ]
  },
  {
   "cell_type": "code",
   "execution_count": 214,
   "id": "7df1747e",
   "metadata": {},
   "outputs": [
    {
     "data": {
      "text/plain": [
       "array([[-0.14269263,  1.61678322, -0.56882944],\n",
       "       [-0.90417091,  0.01941304, -0.71689748],\n",
       "       [ 0.03271841,  1.44779528,  0.49320639]])"
      ]
     },
     "execution_count": 214,
     "metadata": {},
     "output_type": "execute_result"
    }
   ],
   "source": [
    "arr"
   ]
  },
  {
   "cell_type": "code",
   "execution_count": 215,
   "id": "0f114c8b",
   "metadata": {},
   "outputs": [],
   "source": [
    "arr.sort(1) # axis 1 is along the direction of columns."
   ]
  },
  {
   "cell_type": "code",
   "execution_count": 216,
   "id": "42f28911",
   "metadata": {},
   "outputs": [
    {
     "data": {
      "text/plain": [
       "array([[-0.56882944, -0.14269263,  1.61678322],\n",
       "       [-0.90417091, -0.71689748,  0.01941304],\n",
       "       [ 0.03271841,  0.49320639,  1.44779528]])"
      ]
     },
     "execution_count": 216,
     "metadata": {},
     "output_type": "execute_result"
    }
   ],
   "source": [
    "arr"
   ]
  },
  {
   "cell_type": "markdown",
   "id": "e72d2dfe",
   "metadata": {},
   "source": [
    "***"
   ]
  },
  {
   "cell_type": "markdown",
   "id": "6bc014fa",
   "metadata": {},
   "source": [
    "### Unique and Other Set Logic"
   ]
  },
  {
   "cell_type": "markdown",
   "id": "41a8f34e",
   "metadata": {},
   "source": [
    "NumPy has some basic set operations for one-dimensional ndarrays. A commonly\n",
    "used one is __np.unique__, which returns the sorted unique values in an array:"
   ]
  },
  {
   "cell_type": "code",
   "execution_count": 217,
   "id": "69891f3e",
   "metadata": {},
   "outputs": [],
   "source": [
    "names = np.array(['Bob', 'Joe', 'Will', 'Bob', 'Will', 'Joe', 'Joe'])"
   ]
  },
  {
   "cell_type": "code",
   "execution_count": 218,
   "id": "7caad365",
   "metadata": {},
   "outputs": [
    {
     "data": {
      "text/plain": [
       "array(['Bob', 'Joe', 'Will'], dtype='<U4')"
      ]
     },
     "execution_count": 218,
     "metadata": {},
     "output_type": "execute_result"
    }
   ],
   "source": [
    "np.unique(names)"
   ]
  },
  {
   "cell_type": "code",
   "execution_count": 219,
   "id": "b74c914d",
   "metadata": {},
   "outputs": [],
   "source": [
    "ints = np.array([3, 3, 3, 2, 2, 1, 1, 4, 4])"
   ]
  },
  {
   "cell_type": "code",
   "execution_count": 220,
   "id": "ffe77732",
   "metadata": {},
   "outputs": [
    {
     "data": {
      "text/plain": [
       "array([1, 2, 3, 4])"
      ]
     },
     "execution_count": 220,
     "metadata": {},
     "output_type": "execute_result"
    }
   ],
   "source": [
    "np.unique(ints)"
   ]
  },
  {
   "cell_type": "markdown",
   "id": "c15bb9a8",
   "metadata": {},
   "source": [
    "The pure python alternative for __np.unique__ would be:"
   ]
  },
  {
   "cell_type": "code",
   "execution_count": 221,
   "id": "ceed61e1",
   "metadata": {},
   "outputs": [
    {
     "data": {
      "text/plain": [
       "['Bob', 'Joe', 'Will']"
      ]
     },
     "execution_count": 221,
     "metadata": {},
     "output_type": "execute_result"
    }
   ],
   "source": [
    "sorted(set(names))"
   ]
  },
  {
   "cell_type": "markdown",
   "id": "42965d9f",
   "metadata": {},
   "source": [
    "Another function, np.in1d, tests membership of the values in one array in another,\n",
    "returning a boolean array:"
   ]
  },
  {
   "cell_type": "code",
   "execution_count": 222,
   "id": "87a90328",
   "metadata": {},
   "outputs": [],
   "source": [
    "values = np.array([1, 2, 3, 4 , 5, 6])"
   ]
  },
  {
   "cell_type": "code",
   "execution_count": 223,
   "id": "ff58de9d",
   "metadata": {},
   "outputs": [
    {
     "data": {
      "text/plain": [
       "array([ True, False,  True, False, False, False])"
      ]
     },
     "execution_count": 223,
     "metadata": {},
     "output_type": "execute_result"
    }
   ],
   "source": [
    "np.in1d(values, [1, 9, 3])"
   ]
  },
  {
   "cell_type": "markdown",
   "id": "4679daf7",
   "metadata": {},
   "source": [
    "***"
   ]
  },
  {
   "cell_type": "markdown",
   "id": "87d9e44b",
   "metadata": {},
   "source": [
    "## 4.4 File Input and Output with Arrays"
   ]
  },
  {
   "cell_type": "markdown",
   "id": "aee265af",
   "metadata": {},
   "source": [
    "Data can be saved and loaded to and from the disk either in text or binary format in NumPy."
   ]
  },
  {
   "cell_type": "markdown",
   "id": "17b6271e",
   "metadata": {},
   "source": [
    "__np.save__ and __np.load__ are the two main functions for saving and loading the array data on disk respectively. Arrays are saved by default in an uncompressed raw binary format with file extension .npy:"
   ]
  },
  {
   "cell_type": "code",
   "execution_count": 224,
   "id": "e5dbd23e",
   "metadata": {},
   "outputs": [],
   "source": [
    "arr = np.arange(10)"
   ]
  },
  {
   "cell_type": "code",
   "execution_count": 225,
   "id": "c24cdd7e",
   "metadata": {},
   "outputs": [],
   "source": [
    "np.save('some_array', arr)"
   ]
  },
  {
   "cell_type": "markdown",
   "id": "ceacccdc",
   "metadata": {},
   "source": [
    "The extension of the file .npy will be appended automatically if not mentioned. "
   ]
  },
  {
   "cell_type": "markdown",
   "id": "e401a8c3",
   "metadata": {},
   "source": [
    "The array saved can now be loaded with __np.load__:"
   ]
  },
  {
   "cell_type": "code",
   "execution_count": 226,
   "id": "c932cf46",
   "metadata": {},
   "outputs": [
    {
     "data": {
      "text/plain": [
       "array([0, 1, 2, 3, 4, 5, 6, 7, 8, 9])"
      ]
     },
     "execution_count": 226,
     "metadata": {},
     "output_type": "execute_result"
    }
   ],
   "source": [
    "np.load('some_array.npy')"
   ]
  },
  {
   "cell_type": "markdown",
   "id": "95680d83",
   "metadata": {},
   "source": [
    "we can save multiple arrays in an uncompressed archive using __np.savez__ and passing the\n",
    "arrays as keyword arguments:"
   ]
  },
  {
   "cell_type": "code",
   "execution_count": 228,
   "id": "8cda54f1",
   "metadata": {},
   "outputs": [],
   "source": [
    "brr = np.arange(5)"
   ]
  },
  {
   "cell_type": "code",
   "execution_count": 229,
   "id": "bcba30fd",
   "metadata": {},
   "outputs": [],
   "source": [
    "np.savez('array_archieve.npz', a=arr, b=brr)"
   ]
  },
  {
   "cell_type": "markdown",
   "id": "2f1c3ae5",
   "metadata": {},
   "source": [
    "Now, when loading an .npz file, we get back a dict-like object that loads the individual\n",
    "arrays lazily:"
   ]
  },
  {
   "cell_type": "code",
   "execution_count": 230,
   "id": "886fd5ed",
   "metadata": {},
   "outputs": [],
   "source": [
    "arch = np.load('array_archieve.npz')"
   ]
  },
  {
   "cell_type": "code",
   "execution_count": 231,
   "id": "c00928de",
   "metadata": {},
   "outputs": [
    {
     "data": {
      "text/plain": [
       "array([0, 1, 2, 3, 4, 5, 6, 7, 8, 9])"
      ]
     },
     "execution_count": 231,
     "metadata": {},
     "output_type": "execute_result"
    }
   ],
   "source": [
    "arch['a']"
   ]
  },
  {
   "cell_type": "code",
   "execution_count": 232,
   "id": "aed8c523",
   "metadata": {},
   "outputs": [
    {
     "data": {
      "text/plain": [
       "array([0, 1, 2, 3, 4])"
      ]
     },
     "execution_count": 232,
     "metadata": {},
     "output_type": "execute_result"
    }
   ],
   "source": [
    "arch['b']"
   ]
  },
  {
   "cell_type": "markdown",
   "id": "bb6404fe",
   "metadata": {},
   "source": [
    "furthermore, to save multiple arrays by compressing we can use __np.savez_compressed__ :"
   ]
  },
  {
   "cell_type": "code",
   "execution_count": 233,
   "id": "4728b950",
   "metadata": {},
   "outputs": [],
   "source": [
    "np.savez_compressed('array_archieve.npz', a=arr, b=brr)"
   ]
  },
  {
   "cell_type": "markdown",
   "id": "69d33d81",
   "metadata": {},
   "source": [
    "***"
   ]
  },
  {
   "cell_type": "markdown",
   "id": "ccaca604",
   "metadata": {},
   "source": [
    "## 4.5 Linear Algebra"
   ]
  },
  {
   "cell_type": "markdown",
   "id": "1636f2f5",
   "metadata": {},
   "source": [
    "Linear algebra, like matrix multiplication, decompositions, determinants, and other square matrix math, is an important part of any array library. Unlike some languages like MATLAB, multiplying two two-dimensional arrays with * is an element-wise product instead of a matrix dot product. Thus, there is a function __dot__, both an array method and a function in the numpy namespace, for matrix multiplication:"
   ]
  },
  {
   "cell_type": "code",
   "execution_count": 234,
   "id": "96bfa245",
   "metadata": {},
   "outputs": [],
   "source": [
    "x = np.arange(6).reshape((2, 3))"
   ]
  },
  {
   "cell_type": "code",
   "execution_count": 239,
   "id": "5f45a901",
   "metadata": {},
   "outputs": [],
   "source": [
    "y = np.arange(6, 15).reshape((3, 3))"
   ]
  },
  {
   "cell_type": "code",
   "execution_count": 240,
   "id": "96e83c7f",
   "metadata": {},
   "outputs": [
    {
     "data": {
      "text/plain": [
       "array([[0, 1, 2],\n",
       "       [3, 4, 5]])"
      ]
     },
     "execution_count": 240,
     "metadata": {},
     "output_type": "execute_result"
    }
   ],
   "source": [
    "x"
   ]
  },
  {
   "cell_type": "code",
   "execution_count": 241,
   "id": "70b56dbf",
   "metadata": {},
   "outputs": [
    {
     "data": {
      "text/plain": [
       "array([[ 6,  7,  8],\n",
       "       [ 9, 10, 11],\n",
       "       [12, 13, 14]])"
      ]
     },
     "execution_count": 241,
     "metadata": {},
     "output_type": "execute_result"
    }
   ],
   "source": [
    "y"
   ]
  },
  {
   "cell_type": "code",
   "execution_count": 242,
   "id": "7a8f954f",
   "metadata": {},
   "outputs": [
    {
     "data": {
      "text/plain": [
       "array([[ 33,  36,  39],\n",
       "       [114, 126, 138]])"
      ]
     },
     "execution_count": 242,
     "metadata": {},
     "output_type": "execute_result"
    }
   ],
   "source": [
    "x.dot(y)"
   ]
  },
  {
   "cell_type": "markdown",
   "id": "be3d3435",
   "metadata": {},
   "source": [
    "x.dot(y) is equivalent to np.dot(x, y)"
   ]
  },
  {
   "cell_type": "code",
   "execution_count": 243,
   "id": "3d682cdf",
   "metadata": {},
   "outputs": [
    {
     "data": {
      "text/plain": [
       "array([[ 33,  36,  39],\n",
       "       [114, 126, 138]])"
      ]
     },
     "execution_count": 243,
     "metadata": {},
     "output_type": "execute_result"
    }
   ],
   "source": [
    "np.dot(x, y)"
   ]
  },
  {
   "cell_type": "markdown",
   "id": "4e4b3b28",
   "metadata": {},
   "source": [
    "__@__ symbol also works as an infix operator that performs matrix multiplication:"
   ]
  },
  {
   "cell_type": "code",
   "execution_count": 244,
   "id": "e23406d9",
   "metadata": {},
   "outputs": [
    {
     "data": {
      "text/plain": [
       "array([[ 33,  36,  39],\n",
       "       [114, 126, 138]])"
      ]
     },
     "execution_count": 244,
     "metadata": {},
     "output_type": "execute_result"
    }
   ],
   "source": [
    "x @ y"
   ]
  },
  {
   "cell_type": "markdown",
   "id": "8a1f8a5d",
   "metadata": {},
   "source": [
    "A matrix product between a two-dimensional array and a suitably sized one-dimensional array results in a one-dimensional array:"
   ]
  },
  {
   "cell_type": "code",
   "execution_count": 245,
   "id": "995e26b8",
   "metadata": {},
   "outputs": [
    {
     "data": {
      "text/plain": [
       "array([ 3., 12.])"
      ]
     },
     "execution_count": 245,
     "metadata": {},
     "output_type": "execute_result"
    }
   ],
   "source": [
    "x @ np.ones(3)"
   ]
  },
  {
   "cell_type": "markdown",
   "id": "b525f175",
   "metadata": {},
   "source": [
    "__numpy.linalg__ has a standard set of matrix decompositions and things like inverse and determinant"
   ]
  },
  {
   "cell_type": "code",
   "execution_count": 246,
   "id": "da07de0d",
   "metadata": {},
   "outputs": [],
   "source": [
    "from numpy.linalg import inv, qr"
   ]
  },
  {
   "cell_type": "code",
   "execution_count": 255,
   "id": "56d1fec0",
   "metadata": {},
   "outputs": [],
   "source": [
    "x = np.random.randn(3, 3)"
   ]
  },
  {
   "cell_type": "code",
   "execution_count": 256,
   "id": "388c358d",
   "metadata": {},
   "outputs": [],
   "source": [
    "mat = x.T.dot(x)"
   ]
  },
  {
   "cell_type": "markdown",
   "id": "f90335ef",
   "metadata": {},
   "source": [
    "The expression X.T.dot(X) computes the dot product of X with its transpose X.T."
   ]
  },
  {
   "cell_type": "code",
   "execution_count": 257,
   "id": "b9c2c9aa",
   "metadata": {},
   "outputs": [
    {
     "data": {
      "text/plain": [
       "array([[10.98388302, -3.12225959,  4.37768768],\n",
       "       [-3.12225959,  1.6278065 , -0.5970527 ],\n",
       "       [ 4.37768768, -0.5970527 ,  3.71697247]])"
      ]
     },
     "execution_count": 257,
     "metadata": {},
     "output_type": "execute_result"
    }
   ],
   "source": [
    "inv(mat)"
   ]
  },
  {
   "cell_type": "code",
   "execution_count": 258,
   "id": "6d0bbd7d",
   "metadata": {},
   "outputs": [
    {
     "data": {
      "text/plain": [
       "array([[ 1.00000000e+00,  1.42255327e-17, -2.00578373e-16],\n",
       "       [-2.73236955e-16,  1.00000000e+00,  6.30109707e-16],\n",
       "       [ 8.00558781e-16, -1.00544272e-16,  1.00000000e+00]])"
      ]
     },
     "execution_count": 258,
     "metadata": {},
     "output_type": "execute_result"
    }
   ],
   "source": [
    "mat.dot(inv(mat))"
   ]
  },
  {
   "cell_type": "code",
   "execution_count": 259,
   "id": "86c73ce5",
   "metadata": {},
   "outputs": [],
   "source": [
    "q, r = qr(mat)"
   ]
  },
  {
   "cell_type": "code",
   "execution_count": 260,
   "id": "afae097a",
   "metadata": {},
   "outputs": [
    {
     "data": {
      "text/plain": [
       "array([[-1.03839883, -2.08767826,  1.00687481],\n",
       "       [ 0.        , -0.48631038, -0.24594352],\n",
       "       [ 0.        ,  0.        ,  0.17319684]])"
      ]
     },
     "execution_count": 260,
     "metadata": {},
     "output_type": "execute_result"
    }
   ],
   "source": [
    "r"
   ]
  },
  {
   "cell_type": "markdown",
   "id": "79371804",
   "metadata": {},
   "source": [
    "***"
   ]
  },
  {
   "cell_type": "markdown",
   "id": "7994aace",
   "metadata": {},
   "source": [
    "## 4.6 Pseudorandom Number Generation"
   ]
  },
  {
   "cell_type": "markdown",
   "id": "4a657b9e",
   "metadata": {},
   "source": [
    "The numpy.random module supplements the built-in Python random with functions\n",
    "for efficiently generating whole arrays of sample values from many kinds of probability distributions"
   ]
  },
  {
   "cell_type": "markdown",
   "id": "dc7d502c",
   "metadata": {},
   "source": [
    "For example, you can get a array of samples from the standard\n",
    "normal distribution using __normal__:"
   ]
  },
  {
   "cell_type": "code",
   "execution_count": 262,
   "id": "57c39bdb",
   "metadata": {},
   "outputs": [],
   "source": [
    "samples = np.random.normal(size=(3, 3))"
   ]
  },
  {
   "cell_type": "code",
   "execution_count": 263,
   "id": "7272c6b9",
   "metadata": {},
   "outputs": [
    {
     "data": {
      "text/plain": [
       "array([[ 1.40914623,  0.12929614,  0.37196787],\n",
       "       [ 0.1364388 , -2.02587074,  0.22613698],\n",
       "       [-0.10566312, -2.51487788,  0.10090802]])"
      ]
     },
     "execution_count": 263,
     "metadata": {},
     "output_type": "execute_result"
    }
   ],
   "source": [
    "samples"
   ]
  },
  {
   "cell_type": "markdown",
   "id": "0848ceda",
   "metadata": {},
   "source": [
    "These are called pseudorandom numbers because they are generated by an algorithm with deterministic behavior based on the __seed__ of the random number generator. You can change NumPy’s random number generation seed using\n",
    "__np.random.seed__:"
   ]
  },
  {
   "cell_type": "code",
   "execution_count": 264,
   "id": "d50d15d6",
   "metadata": {},
   "outputs": [],
   "source": [
    "np.random.seed(1234)"
   ]
  },
  {
   "cell_type": "markdown",
   "id": "dbb12d3b",
   "metadata": {},
   "source": [
    "The data generation functions in __numpy.random__ use a global random seed. To avoid global state, you can use __numpy.random.RandomState__ to create a random number generator isolated from others:"
   ]
  },
  {
   "cell_type": "code",
   "execution_count": 265,
   "id": "5ba71d07",
   "metadata": {},
   "outputs": [],
   "source": [
    "rng = np.random.RandomState(1234)"
   ]
  },
  {
   "cell_type": "code",
   "execution_count": 266,
   "id": "ab41796a",
   "metadata": {},
   "outputs": [
    {
     "data": {
      "text/plain": [
       "array([ 0.47143516, -1.19097569,  1.43270697, -0.3126519 , -0.72058873])"
      ]
     },
     "execution_count": 266,
     "metadata": {},
     "output_type": "execute_result"
    }
   ],
   "source": [
    "rng.randn(5)"
   ]
  },
  {
   "cell_type": "code",
   "execution_count": null,
   "id": "8b431d19",
   "metadata": {},
   "outputs": [],
   "source": []
  }
 ],
 "metadata": {
  "kernelspec": {
   "display_name": "Python 3",
   "language": "python",
   "name": "python3"
  },
  "language_info": {
   "codemirror_mode": {
    "name": "ipython",
    "version": 3
   },
   "file_extension": ".py",
   "mimetype": "text/x-python",
   "name": "python",
   "nbconvert_exporter": "python",
   "pygments_lexer": "ipython3",
   "version": "3.8.8"
  }
 },
 "nbformat": 4,
 "nbformat_minor": 5
}
